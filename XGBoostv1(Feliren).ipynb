{
  "nbformat": 4,
  "nbformat_minor": 0,
  "metadata": {
    "colab": {
      "name": "XGBoostv1(Feliren).ipynb",
      "provenance": [],
      "collapsed_sections": [],
      "machine_shape": "hm"
    },
    "kernelspec": {
      "name": "python3",
      "display_name": "Python 3"
    },
    "accelerator": "GPU"
  },
  "cells": [
    {
      "cell_type": "code",
      "metadata": {
        "id": "kSRahSZlSTJG",
        "colab_type": "code",
        "outputId": "7a502ad6-f718-4cb4-84c8-f93971ea689c",
        "colab": {
          "base_uri": "https://localhost:8080/",
          "height": 131
        }
      },
      "source": [
        "from google.colab import drive\n",
        "drive.mount('/content/drive')"
      ],
      "execution_count": 0,
      "outputs": [
        {
          "output_type": "stream",
          "text": [
            "Go to this URL in a browser: https://accounts.google.com/o/oauth2/auth?client_id=947318989803-6bn6qk8qdgf4n4g3pfee6491hc0brc4i.apps.googleusercontent.com&redirect_uri=urn%3aietf%3awg%3aoauth%3a2.0%3aoob&response_type=code&scope=email%20https%3a%2f%2fwww.googleapis.com%2fauth%2fdocs.test%20https%3a%2f%2fwww.googleapis.com%2fauth%2fdrive%20https%3a%2f%2fwww.googleapis.com%2fauth%2fdrive.photos.readonly%20https%3a%2f%2fwww.googleapis.com%2fauth%2fpeopleapi.readonly\n",
            "\n",
            "Enter your authorization code:\n",
            "··········\n",
            "Mounted at /content/drive\n"
          ],
          "name": "stdout"
        }
      ]
    },
    {
      "cell_type": "code",
      "metadata": {
        "id": "vUAjvnNmSL2k",
        "colab_type": "code",
        "colab": {}
      },
      "source": [
        "import pandas as pd\n",
        "import matplotlib.pyplot as plt\n",
        "import numpy as np\n",
        "import pyarrow.parquet as pq"
      ],
      "execution_count": 0,
      "outputs": []
    },
    {
      "cell_type": "code",
      "metadata": {
        "id": "syclMGAEzvL5",
        "colab_type": "code",
        "colab": {}
      },
      "source": [
        "import requests"
      ],
      "execution_count": 0,
      "outputs": []
    },
    {
      "cell_type": "code",
      "metadata": {
        "id": "OUGKXJvw_rRK",
        "colab_type": "code",
        "colab": {}
      },
      "source": [
        "# download dataset from google drive\n",
        "def get_confirm_token(response):\n",
        "    for key, value in response.cookies.items():\n",
        "        if key.startswith('download_warning'):\n",
        "            return value\n",
        "\n",
        "    return None\n",
        "\n",
        "def save_response_content(response, destination):\n",
        "    CHUNK_SIZE = 32768\n",
        "\n",
        "    with open(destination, \"wb\") as f:\n",
        "        for chunk in response.iter_content(CHUNK_SIZE):\n",
        "            if chunk: # filter out keep-alive new chunks\n",
        "                f.write(chunk)\n",
        "\n",
        "def download_file_from_google_drive(id, destination):\n",
        "    URL = \"https://docs.google.com/uc?export=download\"\n",
        "\n",
        "    session = requests.Session()\n",
        "\n",
        "    response = session.get(URL, params = { 'id' : id }, stream = True)\n",
        "    token = get_confirm_token(response)\n",
        "\n",
        "    if token:\n",
        "        params = { 'id' : id, 'confirm' : token }\n",
        "        response = session.get(URL, params = params, stream = True)\n",
        "\n",
        "    save_response_content(response, destination)    "
      ],
      "execution_count": 0,
      "outputs": []
    },
    {
      "cell_type": "code",
      "metadata": {
        "id": "88rEKQn1zvOn",
        "colab_type": "code",
        "colab": {}
      },
      "source": [
        "url_sg = \"https://drive.google.com/open?id=1NVglfRzNxXI5VZ-HSxqAQWIxicrUFa1i\"\n",
        "file_id = '1NVglfRzNxXI5VZ-HSxqAQWIxicrUFa1i'\n",
        "destinationSG = '/content/grab-posis-city=Singapore.zip'"
      ],
      "execution_count": 0,
      "outputs": []
    },
    {
      "cell_type": "code",
      "metadata": {
        "id": "Bc7yggfq7JIu",
        "colab_type": "code",
        "colab": {}
      },
      "source": [
        "download_file_from_google_drive(file_id, destinationSG)"
      ],
      "execution_count": 0,
      "outputs": []
    },
    {
      "cell_type": "code",
      "metadata": {
        "id": "tJMS9H-_vypU",
        "colab_type": "code",
        "colab": {}
      },
      "source": [
        "import zipfile\n",
        "directorySG = destinationSG"
      ],
      "execution_count": 0,
      "outputs": []
    },
    {
      "cell_type": "code",
      "metadata": {
        "id": "yl-T3bezvyoS",
        "colab_type": "code",
        "colab": {}
      },
      "source": [
        "zip_ref = zipfile.ZipFile(directorySG, 'r')\n",
        "zip_ref.extractall(\"/tmp\")\n",
        "zip_ref.close()"
      ],
      "execution_count": 0,
      "outputs": []
    },
    {
      "cell_type": "markdown",
      "metadata": {
        "id": "0ElWHCvOhCAx",
        "colab_type": "text"
      },
      "source": [
        "#Load Dataset"
      ]
    },
    {
      "cell_type": "code",
      "metadata": {
        "id": "lzT-f3EPSysz",
        "colab_type": "code",
        "colab": {}
      },
      "source": [
        "dataset_SG = pq.ParquetDataset('/tmp/city=Singapore')\n",
        "dataset_SG = dataset_SG.read()\n",
        "dataset_SG = dataset_SG.to_pandas()"
      ],
      "execution_count": 0,
      "outputs": []
    },
    {
      "cell_type": "markdown",
      "metadata": {
        "id": "6eBi0HcdvWQO",
        "colab_type": "text"
      },
      "source": [
        "# SG dataset preprocess"
      ]
    },
    {
      "cell_type": "code",
      "metadata": {
        "id": "q2Jf4MLb-x7P",
        "colab_type": "code",
        "colab": {}
      },
      "source": [
        "dataset_SG['pingtimestamp'] = pd.to_datetime(dataset_SG['pingtimestamp'], unit='s')\n",
        "SG_car = dataset_SG.drop(columns=['driving_mode'])\n",
        "del dataset_SG"
      ],
      "execution_count": 0,
      "outputs": []
    },
    {
      "cell_type": "code",
      "metadata": {
        "id": "dWRdBMrwPt7g",
        "colab_type": "code",
        "colab": {}
      },
      "source": [
        "SG_car['trj_id'] = SG_car['trj_id'].astype('int')"
      ],
      "execution_count": 0,
      "outputs": []
    },
    {
      "cell_type": "code",
      "metadata": {
        "id": "F2-wxDKUSmEr",
        "colab_type": "code",
        "colab": {}
      },
      "source": [
        "SG_car = SG_car.sort_values(by=['trj_id', 'pingtimestamp'])"
      ],
      "execution_count": 0,
      "outputs": []
    },
    {
      "cell_type": "code",
      "metadata": {
        "id": "cWZ2xhDoBpoR",
        "colab_type": "code",
        "colab": {}
      },
      "source": [
        "# get the travel time by substracting difference in first pingtimestamp with the last pingtimestamp for each trajectory ID\n",
        "SG_car['travel_time'] = SG_car.groupby(['trj_id']).pingtimestamp.transform(lambda x: x.max() - x.min()).astype('timedelta64[s]')\n",
        "SG_car['pickup_time'] = SG_car.groupby(['trj_id']).pingtimestamp.transform(lambda x: x.min())\n",
        "SG_car['dropoff_time'] = SG_car.groupby(['trj_id']).pingtimestamp.transform(lambda x: x.max())"
      ],
      "execution_count": 0,
      "outputs": []
    },
    {
      "cell_type": "code",
      "metadata": {
        "id": "rI17gL5DRU2P",
        "colab_type": "code",
        "outputId": "b381efe2-dc90-499c-b42f-f6553c339127",
        "colab": {
          "base_uri": "https://localhost:8080/",
          "height": 36
        }
      },
      "source": [
        "# collect garbage, run when RAM is almost full or just need to clear up RAM\n",
        "import gc\n",
        "gc.collect()"
      ],
      "execution_count": 0,
      "outputs": [
        {
          "output_type": "execute_result",
          "data": {
            "text/plain": [
              "0"
            ]
          },
          "metadata": {
            "tags": []
          },
          "execution_count": 7
        }
      ]
    },
    {
      "cell_type": "code",
      "metadata": {
        "id": "4eF7PJQBNDD1",
        "colab_type": "code",
        "colab": {}
      },
      "source": [
        "def extractCoordinateAndUpdateDF(df, variable_name, timestamp_col, coordinate_component):\n",
        "  \"\"\" Create new column containing a coordinate component of geolocation at a certain timestamp\"\"\"\n",
        "  coord_series = df.groupby(['trj_id']).apply(lambda x: x[x['pingtimestamp'] == x[timestamp_col]][coordinate_component])\n",
        "  coord_series = coord_series.reset_index().set_index('level_1')\n",
        "  df_update = df.merge(coord_series, how='left', left_on='trj_id', right_on='trj_id', suffixes=['', '_{}'.format(variable_name)])\n",
        "  return df_update"
      ],
      "execution_count": 0,
      "outputs": []
    },
    {
      "cell_type": "code",
      "metadata": {
        "id": "QIrjH1uyE-YE",
        "colab_type": "code",
        "colab": {}
      },
      "source": [
        "# create and merge pickup latitude into SG_car\n",
        "SG_car = extractCoordinateAndUpdateDF(SG_car, 'pickup', 'pickup_time', 'rawlat')\n",
        "# create and merge pickup longitude into SG_car\n",
        "SG_car = extractCoordinateAndUpdateDF(SG_car, 'pickup', 'pickup_time', 'rawlng')\n",
        "# add drop off latitude\n",
        "SG_car = extractCoordinateAndUpdateDF(SG_car, 'dropoff', 'dropoff_time', 'rawlat')\n",
        "# add drop off longitude\n",
        "SG_car = extractCoordinateAndUpdateDF(SG_car, 'dropoff', 'dropoff_time', 'rawlng')"
      ],
      "execution_count": 0,
      "outputs": []
    },
    {
      "cell_type": "code",
      "metadata": {
        "id": "SZL-52Plnzzu",
        "colab_type": "code",
        "colab": {}
      },
      "source": [
        "SG_car = SG_car.reset_index()\n",
        "SG_car = SG_car.drop(labels=['index'], axis=1)"
      ],
      "execution_count": 0,
      "outputs": []
    },
    {
      "cell_type": "markdown",
      "metadata": {
        "id": "GUhG7n5OvmQm",
        "colab_type": "text"
      },
      "source": [
        "# Preprocess hour and day to cyclical data\n",
        "we will use sin and cos function to model the time and day into a continuos cyclical cycle."
      ]
    },
    {
      "cell_type": "code",
      "metadata": {
        "id": "QCBKUmtswaxT",
        "colab_type": "code",
        "outputId": "fb5057f4-6029-4ef6-9926-fa6dcc293eeb",
        "colab": {
          "base_uri": "https://localhost:8080/",
          "height": 694
        }
      },
      "source": [
        "SG_car_aug_colapse = SG_car.drop_duplicates(subset=['trj_id', 'pickup_time'], keep='first')\n",
        "# add pickup_hour and pickup_day column\n",
        "SG_car_aug_colapse['pickup_hour'] = SG_car_aug_colapse['pickup_time'].dt.hour\n",
        "SG_car_aug_colapse['pickup_day'] = SG_car_aug_colapse['pickup_time'].dt.dayofweek\n",
        "SG_car_aug_colapse['sin_pickup_hour'] = np.sin(2*np.pi*SG_car_aug_colapse.pickup_hour/24)\n",
        "SG_car_aug_colapse['cos_pickup_hour'] = np.cos(2*np.pi*SG_car_aug_colapse.pickup_hour/24)\n",
        "SG_car_aug_colapse['sin_pickup_day'] = np.sin(2*np.pi*SG_car_aug_colapse.pickup_day/7)\n",
        "SG_car_aug_colapse['cos_pickup_day'] = np.cos(2*np.pi*SG_car_aug_colapse.pickup_day/7)"
      ],
      "execution_count": 0,
      "outputs": [
        {
          "output_type": "stream",
          "text": [
            "/usr/local/lib/python3.6/dist-packages/ipykernel_launcher.py:3: SettingWithCopyWarning: \n",
            "A value is trying to be set on a copy of a slice from a DataFrame.\n",
            "Try using .loc[row_indexer,col_indexer] = value instead\n",
            "\n",
            "See the caveats in the documentation: https://pandas.pydata.org/pandas-docs/stable/user_guide/indexing.html#returning-a-view-versus-a-copy\n",
            "  This is separate from the ipykernel package so we can avoid doing imports until\n",
            "/usr/local/lib/python3.6/dist-packages/ipykernel_launcher.py:4: SettingWithCopyWarning: \n",
            "A value is trying to be set on a copy of a slice from a DataFrame.\n",
            "Try using .loc[row_indexer,col_indexer] = value instead\n",
            "\n",
            "See the caveats in the documentation: https://pandas.pydata.org/pandas-docs/stable/user_guide/indexing.html#returning-a-view-versus-a-copy\n",
            "  after removing the cwd from sys.path.\n",
            "/usr/local/lib/python3.6/dist-packages/ipykernel_launcher.py:5: SettingWithCopyWarning: \n",
            "A value is trying to be set on a copy of a slice from a DataFrame.\n",
            "Try using .loc[row_indexer,col_indexer] = value instead\n",
            "\n",
            "See the caveats in the documentation: https://pandas.pydata.org/pandas-docs/stable/user_guide/indexing.html#returning-a-view-versus-a-copy\n",
            "  \"\"\"\n",
            "/usr/local/lib/python3.6/dist-packages/ipykernel_launcher.py:6: SettingWithCopyWarning: \n",
            "A value is trying to be set on a copy of a slice from a DataFrame.\n",
            "Try using .loc[row_indexer,col_indexer] = value instead\n",
            "\n",
            "See the caveats in the documentation: https://pandas.pydata.org/pandas-docs/stable/user_guide/indexing.html#returning-a-view-versus-a-copy\n",
            "  \n",
            "/usr/local/lib/python3.6/dist-packages/ipykernel_launcher.py:7: SettingWithCopyWarning: \n",
            "A value is trying to be set on a copy of a slice from a DataFrame.\n",
            "Try using .loc[row_indexer,col_indexer] = value instead\n",
            "\n",
            "See the caveats in the documentation: https://pandas.pydata.org/pandas-docs/stable/user_guide/indexing.html#returning-a-view-versus-a-copy\n",
            "  import sys\n",
            "/usr/local/lib/python3.6/dist-packages/ipykernel_launcher.py:8: SettingWithCopyWarning: \n",
            "A value is trying to be set on a copy of a slice from a DataFrame.\n",
            "Try using .loc[row_indexer,col_indexer] = value instead\n",
            "\n",
            "See the caveats in the documentation: https://pandas.pydata.org/pandas-docs/stable/user_guide/indexing.html#returning-a-view-versus-a-copy\n",
            "  \n"
          ],
          "name": "stderr"
        }
      ]
    },
    {
      "cell_type": "code",
      "metadata": {
        "id": "RMgkux_rmHE6",
        "colab_type": "code",
        "outputId": "61ad4658-f93a-4833-845b-3b22bc2f2fb9",
        "colab": {
          "base_uri": "https://localhost:8080/",
          "height": 617
        }
      },
      "source": [
        "SG_car_aug_colapse"
      ],
      "execution_count": 0,
      "outputs": [
        {
          "output_type": "execute_result",
          "data": {
            "text/html": [
              "<div>\n",
              "<style scoped>\n",
              "    .dataframe tbody tr th:only-of-type {\n",
              "        vertical-align: middle;\n",
              "    }\n",
              "\n",
              "    .dataframe tbody tr th {\n",
              "        vertical-align: top;\n",
              "    }\n",
              "\n",
              "    .dataframe thead th {\n",
              "        text-align: right;\n",
              "    }\n",
              "</style>\n",
              "<table border=\"1\" class=\"dataframe\">\n",
              "  <thead>\n",
              "    <tr style=\"text-align: right;\">\n",
              "      <th></th>\n",
              "      <th>trj_id</th>\n",
              "      <th>osname</th>\n",
              "      <th>pingtimestamp</th>\n",
              "      <th>rawlat</th>\n",
              "      <th>rawlng</th>\n",
              "      <th>speed</th>\n",
              "      <th>bearing</th>\n",
              "      <th>accuracy</th>\n",
              "      <th>travel_time</th>\n",
              "      <th>pickup_time</th>\n",
              "      <th>dropoff_time</th>\n",
              "      <th>rawlat_pickup</th>\n",
              "      <th>rawlng_pickup</th>\n",
              "      <th>rawlat_dropoff</th>\n",
              "      <th>rawlng_dropoff</th>\n",
              "      <th>pickup_hour</th>\n",
              "      <th>pickup_day</th>\n",
              "      <th>sin_pickup_hour</th>\n",
              "      <th>cos_pickup_hour</th>\n",
              "      <th>sin_pickup_day</th>\n",
              "      <th>cos_pickup_day</th>\n",
              "    </tr>\n",
              "  </thead>\n",
              "  <tbody>\n",
              "    <tr>\n",
              "      <th>0</th>\n",
              "      <td>2</td>\n",
              "      <td>android</td>\n",
              "      <td>2019-04-09 02:38:48</td>\n",
              "      <td>1.270377</td>\n",
              "      <td>103.857875</td>\n",
              "      <td>25.623161</td>\n",
              "      <td>100</td>\n",
              "      <td>32.000</td>\n",
              "      <td>00:25:20</td>\n",
              "      <td>2019-04-09 02:38:48</td>\n",
              "      <td>2019-04-09 03:04:08</td>\n",
              "      <td>1.270377</td>\n",
              "      <td>103.857875</td>\n",
              "      <td>1.446609</td>\n",
              "      <td>103.806354</td>\n",
              "      <td>2</td>\n",
              "      <td>1</td>\n",
              "      <td>5.000000e-01</td>\n",
              "      <td>0.866025</td>\n",
              "      <td>0.781831</td>\n",
              "      <td>0.623490</td>\n",
              "    </tr>\n",
              "    <tr>\n",
              "      <th>1134</th>\n",
              "      <td>3</td>\n",
              "      <td>ios</td>\n",
              "      <td>2019-04-12 08:32:16</td>\n",
              "      <td>1.282591</td>\n",
              "      <td>103.851082</td>\n",
              "      <td>0.000000</td>\n",
              "      <td>96</td>\n",
              "      <td>30.000</td>\n",
              "      <td>00:19:18</td>\n",
              "      <td>2019-04-12 08:32:16</td>\n",
              "      <td>2019-04-12 08:51:34</td>\n",
              "      <td>1.282591</td>\n",
              "      <td>103.851082</td>\n",
              "      <td>1.332855</td>\n",
              "      <td>103.977278</td>\n",
              "      <td>8</td>\n",
              "      <td>4</td>\n",
              "      <td>8.660254e-01</td>\n",
              "      <td>-0.500000</td>\n",
              "      <td>-0.433884</td>\n",
              "      <td>-0.900969</td>\n",
              "    </tr>\n",
              "    <tr>\n",
              "      <th>2067</th>\n",
              "      <td>4</td>\n",
              "      <td>android</td>\n",
              "      <td>2019-04-13 10:42:40</td>\n",
              "      <td>1.355363</td>\n",
              "      <td>103.863157</td>\n",
              "      <td>5.960000</td>\n",
              "      <td>217</td>\n",
              "      <td>3.900</td>\n",
              "      <td>00:22:46</td>\n",
              "      <td>2019-04-13 10:42:40</td>\n",
              "      <td>2019-04-13 11:05:26</td>\n",
              "      <td>1.355363</td>\n",
              "      <td>103.863157</td>\n",
              "      <td>1.343218</td>\n",
              "      <td>103.858504</td>\n",
              "      <td>10</td>\n",
              "      <td>5</td>\n",
              "      <td>5.000000e-01</td>\n",
              "      <td>-0.866025</td>\n",
              "      <td>-0.974928</td>\n",
              "      <td>-0.222521</td>\n",
              "    </tr>\n",
              "    <tr>\n",
              "      <th>2946</th>\n",
              "      <td>5</td>\n",
              "      <td>ios</td>\n",
              "      <td>2019-04-20 01:39:08</td>\n",
              "      <td>1.340301</td>\n",
              "      <td>103.775742</td>\n",
              "      <td>4.760463</td>\n",
              "      <td>91</td>\n",
              "      <td>6.000</td>\n",
              "      <td>00:22:08</td>\n",
              "      <td>2019-04-20 01:39:08</td>\n",
              "      <td>2019-04-20 02:01:16</td>\n",
              "      <td>1.340301</td>\n",
              "      <td>103.775742</td>\n",
              "      <td>1.303071</td>\n",
              "      <td>103.900220</td>\n",
              "      <td>1</td>\n",
              "      <td>5</td>\n",
              "      <td>2.588190e-01</td>\n",
              "      <td>0.965926</td>\n",
              "      <td>-0.974928</td>\n",
              "      <td>-0.222521</td>\n",
              "    </tr>\n",
              "    <tr>\n",
              "      <th>4107</th>\n",
              "      <td>8</td>\n",
              "      <td>android</td>\n",
              "      <td>2019-04-11 07:24:34</td>\n",
              "      <td>1.333936</td>\n",
              "      <td>103.953225</td>\n",
              "      <td>15.250000</td>\n",
              "      <td>318</td>\n",
              "      <td>4.288</td>\n",
              "      <td>00:20:10</td>\n",
              "      <td>2019-04-11 07:24:34</td>\n",
              "      <td>2019-04-11 07:44:44</td>\n",
              "      <td>1.333936</td>\n",
              "      <td>103.953225</td>\n",
              "      <td>1.309601</td>\n",
              "      <td>103.833983</td>\n",
              "      <td>7</td>\n",
              "      <td>3</td>\n",
              "      <td>9.659258e-01</td>\n",
              "      <td>-0.258819</td>\n",
              "      <td>0.433884</td>\n",
              "      <td>-0.900969</td>\n",
              "    </tr>\n",
              "    <tr>\n",
              "      <th>...</th>\n",
              "      <td>...</td>\n",
              "      <td>...</td>\n",
              "      <td>...</td>\n",
              "      <td>...</td>\n",
              "      <td>...</td>\n",
              "      <td>...</td>\n",
              "      <td>...</td>\n",
              "      <td>...</td>\n",
              "      <td>...</td>\n",
              "      <td>...</td>\n",
              "      <td>...</td>\n",
              "      <td>...</td>\n",
              "      <td>...</td>\n",
              "      <td>...</td>\n",
              "      <td>...</td>\n",
              "      <td>...</td>\n",
              "      <td>...</td>\n",
              "      <td>...</td>\n",
              "      <td>...</td>\n",
              "      <td>...</td>\n",
              "      <td>...</td>\n",
              "    </tr>\n",
              "    <tr>\n",
              "      <th>30323980</th>\n",
              "      <td>83955</td>\n",
              "      <td>android</td>\n",
              "      <td>2019-04-08 22:27:51</td>\n",
              "      <td>1.396872</td>\n",
              "      <td>103.747718</td>\n",
              "      <td>11.609461</td>\n",
              "      <td>191</td>\n",
              "      <td>3.900</td>\n",
              "      <td>00:18:32</td>\n",
              "      <td>2019-04-08 22:27:51</td>\n",
              "      <td>2019-04-08 22:46:23</td>\n",
              "      <td>1.396872</td>\n",
              "      <td>103.747718</td>\n",
              "      <td>1.319548</td>\n",
              "      <td>103.843496</td>\n",
              "      <td>22</td>\n",
              "      <td>0</td>\n",
              "      <td>-5.000000e-01</td>\n",
              "      <td>0.866025</td>\n",
              "      <td>0.000000</td>\n",
              "      <td>1.000000</td>\n",
              "    </tr>\n",
              "    <tr>\n",
              "      <th>30325037</th>\n",
              "      <td>83956</td>\n",
              "      <td>ios</td>\n",
              "      <td>2019-04-09 22:09:13</td>\n",
              "      <td>1.396533</td>\n",
              "      <td>103.747537</td>\n",
              "      <td>3.212061</td>\n",
              "      <td>196</td>\n",
              "      <td>6.000</td>\n",
              "      <td>00:16:23</td>\n",
              "      <td>2019-04-09 22:09:13</td>\n",
              "      <td>2019-04-09 22:25:36</td>\n",
              "      <td>1.396533</td>\n",
              "      <td>103.747537</td>\n",
              "      <td>1.322236</td>\n",
              "      <td>103.841737</td>\n",
              "      <td>22</td>\n",
              "      <td>1</td>\n",
              "      <td>-5.000000e-01</td>\n",
              "      <td>0.866025</td>\n",
              "      <td>0.781831</td>\n",
              "      <td>0.623490</td>\n",
              "    </tr>\n",
              "    <tr>\n",
              "      <th>30325931</th>\n",
              "      <td>83957</td>\n",
              "      <td>android</td>\n",
              "      <td>2019-04-21 01:20:41</td>\n",
              "      <td>1.301317</td>\n",
              "      <td>103.899443</td>\n",
              "      <td>11.049027</td>\n",
              "      <td>244</td>\n",
              "      <td>5.600</td>\n",
              "      <td>00:23:02</td>\n",
              "      <td>2019-04-21 01:20:41</td>\n",
              "      <td>2019-04-21 01:43:43</td>\n",
              "      <td>1.301317</td>\n",
              "      <td>103.899443</td>\n",
              "      <td>1.410657</td>\n",
              "      <td>103.778843</td>\n",
              "      <td>1</td>\n",
              "      <td>6</td>\n",
              "      <td>2.588190e-01</td>\n",
              "      <td>0.965926</td>\n",
              "      <td>-0.781831</td>\n",
              "      <td>0.623490</td>\n",
              "    </tr>\n",
              "    <tr>\n",
              "      <th>30327120</th>\n",
              "      <td>83999</td>\n",
              "      <td>android</td>\n",
              "      <td>2019-04-17 11:22:25</td>\n",
              "      <td>1.298612</td>\n",
              "      <td>103.853801</td>\n",
              "      <td>0.000000</td>\n",
              "      <td>0</td>\n",
              "      <td>4.137</td>\n",
              "      <td>00:20:12</td>\n",
              "      <td>2019-04-17 11:22:25</td>\n",
              "      <td>2019-04-17 11:42:37</td>\n",
              "      <td>1.298612</td>\n",
              "      <td>103.853801</td>\n",
              "      <td>1.341311</td>\n",
              "      <td>103.981728</td>\n",
              "      <td>11</td>\n",
              "      <td>2</td>\n",
              "      <td>2.588190e-01</td>\n",
              "      <td>-0.965926</td>\n",
              "      <td>0.974928</td>\n",
              "      <td>-0.222521</td>\n",
              "    </tr>\n",
              "    <tr>\n",
              "      <th>30328301</th>\n",
              "      <td>84000</td>\n",
              "      <td>android</td>\n",
              "      <td>2019-04-18 12:28:10</td>\n",
              "      <td>1.346787</td>\n",
              "      <td>103.984266</td>\n",
              "      <td>8.718304</td>\n",
              "      <td>203</td>\n",
              "      <td>4.000</td>\n",
              "      <td>00:24:35</td>\n",
              "      <td>2019-04-18 12:28:10</td>\n",
              "      <td>2019-04-18 12:52:45</td>\n",
              "      <td>1.346787</td>\n",
              "      <td>103.984266</td>\n",
              "      <td>1.287678</td>\n",
              "      <td>103.845468</td>\n",
              "      <td>12</td>\n",
              "      <td>3</td>\n",
              "      <td>1.224647e-16</td>\n",
              "      <td>-1.000000</td>\n",
              "      <td>0.433884</td>\n",
              "      <td>-0.900969</td>\n",
              "    </tr>\n",
              "  </tbody>\n",
              "</table>\n",
              "<p>28000 rows × 21 columns</p>\n",
              "</div>"
            ],
            "text/plain": [
              "          trj_id   osname  ... sin_pickup_day  cos_pickup_day\n",
              "0              2  android  ...       0.781831        0.623490\n",
              "1134           3      ios  ...      -0.433884       -0.900969\n",
              "2067           4  android  ...      -0.974928       -0.222521\n",
              "2946           5      ios  ...      -0.974928       -0.222521\n",
              "4107           8  android  ...       0.433884       -0.900969\n",
              "...          ...      ...  ...            ...             ...\n",
              "30323980   83955  android  ...       0.000000        1.000000\n",
              "30325037   83956      ios  ...       0.781831        0.623490\n",
              "30325931   83957  android  ...      -0.781831        0.623490\n",
              "30327120   83999  android  ...       0.974928       -0.222521\n",
              "30328301   84000  android  ...       0.433884       -0.900969\n",
              "\n",
              "[28000 rows x 21 columns]"
            ]
          },
          "metadata": {
            "tags": []
          },
          "execution_count": 12
        }
      ]
    },
    {
      "cell_type": "markdown",
      "metadata": {
        "id": "a8GGT6Y1mD8M",
        "colab_type": "text"
      },
      "source": [
        "# Analysis"
      ]
    },
    {
      "cell_type": "code",
      "metadata": {
        "id": "H_au8spymFnw",
        "colab_type": "code",
        "colab": {}
      },
      "source": [
        "from sklearn.cluster import MiniBatchKMeans\n",
        "coords = np.vstack((SG_car_aug_colapse[['rawlat_pickup', 'rawlng_pickup']].values,\n",
        "                    SG_car_aug_colapse[['rawlat_dropoff', 'rawlng_dropoff']].values))\n",
        "\n",
        "sample_ind = np.random.permutation(len(coords))[:500000]\n",
        "kmeans = MiniBatchKMeans(n_clusters=100, batch_size=10000).fit(coords[sample_ind])"
      ],
      "execution_count": 0,
      "outputs": []
    },
    {
      "cell_type": "code",
      "metadata": {
        "id": "VLCPciNKmamE",
        "colab_type": "code",
        "colab": {}
      },
      "source": [
        "SG_car_aug_colapse.loc[:, 'pickup_cluster'] = kmeans.predict(SG_car_aug_colapse[['rawlat_pickup', 'rawlng_pickup']])\n",
        "SG_car_aug_colapse.loc[:, 'dropoff_cluster'] = kmeans.predict(SG_car_aug_colapse[['rawlat_dropoff', 'rawlng_dropoff']])"
      ],
      "execution_count": 0,
      "outputs": []
    },
    {
      "cell_type": "code",
      "metadata": {
        "id": "w9GpHclqmx9X",
        "colab_type": "code",
        "outputId": "46829775-62fc-48f6-967a-570c6a62987f",
        "colab": {
          "base_uri": "https://localhost:8080/",
          "height": 279
        }
      },
      "source": [
        "city_long_border = (103.590506, 104.050822)\n",
        "city_lat_border = (1.199654, 1.463254)\n",
        "\n",
        "fig, ax = plt.subplots(ncols=1, nrows=1)\n",
        "ax.scatter(SG_car_aug_colapse.rawlng_pickup.values[:500000], SG_car_aug_colapse.rawlat_pickup.values[:500000], s=10, lw=0,\n",
        "           c=SG_car_aug_colapse.pickup_cluster[:500000].values, cmap='autumn', alpha=0.2)\n",
        "ax.set_xlim(city_long_border)\n",
        "ax.set_ylim(city_lat_border)\n",
        "ax.set_xlabel('Longitude')\n",
        "ax.set_ylabel('Latitude')\n",
        "plt.show()\n",
        "\n"
      ],
      "execution_count": 0,
      "outputs": [
        {
          "output_type": "display_data",
          "data": {
            "image/png": "[encoded data removed]",
            "text/plain": [
              "<Figure size 432x288 with 1 Axes>"
            ]
          },
          "metadata": {
            "tags": [],
            "needs_background": "light"
          }
        }
      ]
    },
    {
      "cell_type": "code",
      "metadata": {
        "id": "ddCDtJJ7pBO4",
        "colab_type": "code",
        "outputId": "5211e98d-10c7-4eea-ada1-a0c788e2d0a4",
        "colab": {
          "base_uri": "https://localhost:8080/",
          "height": 279
        }
      },
      "source": [
        "fig, ax = plt.subplots(ncols=1, sharex=True, sharey=True)\n",
        "ax.scatter(SG_car_aug_colapse['rawlng_pickup'].values[:100000], SG_car_aug_colapse['rawlat_pickup'].values[:100000],\n",
        "              color='blue', s=1, label='Data', alpha=0.1)\n",
        "ax.legend(loc=0)\n",
        "ax.set_ylabel('latitude')\n",
        "ax.set_xlabel('longitude')\n",
        "plt.ylim(city_lat_border)\n",
        "plt.xlim(city_long_border)\n",
        "plt.show()"
      ],
      "execution_count": 0,
      "outputs": [
        {
          "output_type": "display_data",
          "data": {
            "image/png": "[encoded data removed]",
            "text/plain": [
              "<Figure size 432x288 with 1 Axes>"
            ]
          },
          "metadata": {
            "tags": [],
            "needs_background": "light"
          }
        }
      ]
    },
    {
      "cell_type": "markdown",
      "metadata": {
        "id": "vh5YzNi1p9Al",
        "colab_type": "text"
      },
      "source": [
        ""
      ]
    },
    {
      "cell_type": "markdown",
      "metadata": {
        "id": "xhRKDe9EhKti",
        "colab_type": "text"
      },
      "source": [
        "# Feature Extraction"
      ]
    },
    {
      "cell_type": "code",
      "metadata": {
        "id": "bG-CzLUYhifk",
        "colab_type": "code",
        "outputId": "f0fa5496-e357-4b4b-d42c-682ad696d4de",
        "colab": {
          "base_uri": "https://localhost:8080/",
          "height": 468
        }
      },
      "source": [
        "from sklearn.decomposition import PCA\n",
        "pca = PCA().fit(coords)\n",
        "\n",
        "SG_car_aug_colapse['pickup_pca0'] = pca.transform(SG_car_aug_colapse[['rawlat_pickup', 'rawlng_pickup']])[:, 0]\n",
        "SG_car_aug_colapse['pickup_pca1'] = pca.transform(SG_car_aug_colapse[['rawlat_pickup', 'rawlng_pickup']])[:, 1]\n",
        "SG_car_aug_colapse['dropoff_pca0'] = pca.transform(SG_car_aug_colapse[['rawlat_dropoff', 'rawlng_dropoff']])[:, 0]\n",
        "SG_car_aug_colapse['dropoff_pca1'] = pca.transform(SG_car_aug_colapse[['rawlat_dropoff', 'rawlng_dropoff']])[:, 1]"
      ],
      "execution_count": 0,
      "outputs": [
        {
          "output_type": "stream",
          "text": [
            "/usr/local/lib/python3.6/dist-packages/ipykernel_launcher.py:4: SettingWithCopyWarning: \n",
            "A value is trying to be set on a copy of a slice from a DataFrame.\n",
            "Try using .loc[row_indexer,col_indexer] = value instead\n",
            "\n",
            "See the caveats in the documentation: https://pandas.pydata.org/pandas-docs/stable/user_guide/indexing.html#returning-a-view-versus-a-copy\n",
            "  after removing the cwd from sys.path.\n",
            "/usr/local/lib/python3.6/dist-packages/ipykernel_launcher.py:5: SettingWithCopyWarning: \n",
            "A value is trying to be set on a copy of a slice from a DataFrame.\n",
            "Try using .loc[row_indexer,col_indexer] = value instead\n",
            "\n",
            "See the caveats in the documentation: https://pandas.pydata.org/pandas-docs/stable/user_guide/indexing.html#returning-a-view-versus-a-copy\n",
            "  \"\"\"\n",
            "/usr/local/lib/python3.6/dist-packages/ipykernel_launcher.py:6: SettingWithCopyWarning: \n",
            "A value is trying to be set on a copy of a slice from a DataFrame.\n",
            "Try using .loc[row_indexer,col_indexer] = value instead\n",
            "\n",
            "See the caveats in the documentation: https://pandas.pydata.org/pandas-docs/stable/user_guide/indexing.html#returning-a-view-versus-a-copy\n",
            "  \n",
            "/usr/local/lib/python3.6/dist-packages/ipykernel_launcher.py:7: SettingWithCopyWarning: \n",
            "A value is trying to be set on a copy of a slice from a DataFrame.\n",
            "Try using .loc[row_indexer,col_indexer] = value instead\n",
            "\n",
            "See the caveats in the documentation: https://pandas.pydata.org/pandas-docs/stable/user_guide/indexing.html#returning-a-view-versus-a-copy\n",
            "  import sys\n"
          ],
          "name": "stderr"
        }
      ]
    },
    {
      "cell_type": "code",
      "metadata": {
        "id": "D04FwioOr1Vk",
        "colab_type": "code",
        "outputId": "0c159f65-aa3c-4781-b036-c0c8c688151a",
        "colab": {
          "base_uri": "https://localhost:8080/",
          "height": 617
        }
      },
      "source": [
        "SG_car_aug_colapse"
      ],
      "execution_count": 0,
      "outputs": [
        {
          "output_type": "execute_result",
          "data": {
            "text/html": [
              "<div>\n",
              "<style scoped>\n",
              "    .dataframe tbody tr th:only-of-type {\n",
              "        vertical-align: middle;\n",
              "    }\n",
              "\n",
              "    .dataframe tbody tr th {\n",
              "        vertical-align: top;\n",
              "    }\n",
              "\n",
              "    .dataframe thead th {\n",
              "        text-align: right;\n",
              "    }\n",
              "</style>\n",
              "<table border=\"1\" class=\"dataframe\">\n",
              "  <thead>\n",
              "    <tr style=\"text-align: right;\">\n",
              "      <th></th>\n",
              "      <th>trj_id</th>\n",
              "      <th>osname</th>\n",
              "      <th>pingtimestamp</th>\n",
              "      <th>rawlat</th>\n",
              "      <th>rawlng</th>\n",
              "      <th>speed</th>\n",
              "      <th>bearing</th>\n",
              "      <th>accuracy</th>\n",
              "      <th>travel_time</th>\n",
              "      <th>pickup_time</th>\n",
              "      <th>dropoff_time</th>\n",
              "      <th>rawlat_pickup</th>\n",
              "      <th>rawlng_pickup</th>\n",
              "      <th>rawlat_dropoff</th>\n",
              "      <th>rawlng_dropoff</th>\n",
              "      <th>pickup_hour</th>\n",
              "      <th>pickup_day</th>\n",
              "      <th>sin_pickup_hour</th>\n",
              "      <th>cos_pickup_hour</th>\n",
              "      <th>sin_pickup_day</th>\n",
              "      <th>cos_pickup_day</th>\n",
              "      <th>pickup_cluster</th>\n",
              "      <th>dropoff_cluster</th>\n",
              "      <th>pickup_pca0</th>\n",
              "      <th>pickup_pca1</th>\n",
              "      <th>dropoff_pca0</th>\n",
              "      <th>dropoff_pca1</th>\n",
              "    </tr>\n",
              "  </thead>\n",
              "  <tbody>\n",
              "    <tr>\n",
              "      <th>0</th>\n",
              "      <td>2</td>\n",
              "      <td>android</td>\n",
              "      <td>2019-04-09 02:38:48</td>\n",
              "      <td>1.270377</td>\n",
              "      <td>103.857875</td>\n",
              "      <td>25.623161</td>\n",
              "      <td>100</td>\n",
              "      <td>32.000</td>\n",
              "      <td>00:25:20</td>\n",
              "      <td>2019-04-09 02:38:48</td>\n",
              "      <td>2019-04-09 03:04:08</td>\n",
              "      <td>1.270377</td>\n",
              "      <td>103.857875</td>\n",
              "      <td>1.446609</td>\n",
              "      <td>103.806354</td>\n",
              "      <td>2</td>\n",
              "      <td>1</td>\n",
              "      <td>5.000000e-01</td>\n",
              "      <td>0.866025</td>\n",
              "      <td>0.781831</td>\n",
              "      <td>0.623490</td>\n",
              "      <td>82</td>\n",
              "      <td>59</td>\n",
              "      <td>-0.025486</td>\n",
              "      <td>-0.076384</td>\n",
              "      <td>0.041837</td>\n",
              "      <td>0.094437</td>\n",
              "    </tr>\n",
              "    <tr>\n",
              "      <th>1134</th>\n",
              "      <td>3</td>\n",
              "      <td>ios</td>\n",
              "      <td>2019-04-12 08:32:16</td>\n",
              "      <td>1.282591</td>\n",
              "      <td>103.851082</td>\n",
              "      <td>0.000000</td>\n",
              "      <td>96</td>\n",
              "      <td>30.000</td>\n",
              "      <td>00:19:18</td>\n",
              "      <td>2019-04-12 08:32:16</td>\n",
              "      <td>2019-04-12 08:51:34</td>\n",
              "      <td>1.282591</td>\n",
              "      <td>103.851082</td>\n",
              "      <td>1.332855</td>\n",
              "      <td>103.977278</td>\n",
              "      <td>8</td>\n",
              "      <td>4</td>\n",
              "      <td>8.660254e-01</td>\n",
              "      <td>-0.500000</td>\n",
              "      <td>-0.433884</td>\n",
              "      <td>-0.900969</td>\n",
              "      <td>31</td>\n",
              "      <td>14</td>\n",
              "      <td>-0.017611</td>\n",
              "      <td>-0.064838</td>\n",
              "      <td>-0.138717</td>\n",
              "      <td>-0.003314</td>\n",
              "    </tr>\n",
              "    <tr>\n",
              "      <th>2067</th>\n",
              "      <td>4</td>\n",
              "      <td>android</td>\n",
              "      <td>2019-04-13 10:42:40</td>\n",
              "      <td>1.355363</td>\n",
              "      <td>103.863157</td>\n",
              "      <td>5.960000</td>\n",
              "      <td>217</td>\n",
              "      <td>3.900</td>\n",
              "      <td>00:22:46</td>\n",
              "      <td>2019-04-13 10:42:40</td>\n",
              "      <td>2019-04-13 11:05:26</td>\n",
              "      <td>1.355363</td>\n",
              "      <td>103.863157</td>\n",
              "      <td>1.343218</td>\n",
              "      <td>103.858504</td>\n",
              "      <td>10</td>\n",
              "      <td>5</td>\n",
              "      <td>5.000000e-01</td>\n",
              "      <td>-0.866025</td>\n",
              "      <td>-0.974928</td>\n",
              "      <td>-0.222521</td>\n",
              "      <td>50</td>\n",
              "      <td>50</td>\n",
              "      <td>-0.023023</td>\n",
              "      <td>0.008731</td>\n",
              "      <td>-0.019494</td>\n",
              "      <td>-0.003787</td>\n",
              "    </tr>\n",
              "    <tr>\n",
              "      <th>2946</th>\n",
              "      <td>5</td>\n",
              "      <td>ios</td>\n",
              "      <td>2019-04-20 01:39:08</td>\n",
              "      <td>1.340301</td>\n",
              "      <td>103.775742</td>\n",
              "      <td>4.760463</td>\n",
              "      <td>91</td>\n",
              "      <td>6.000</td>\n",
              "      <td>00:22:08</td>\n",
              "      <td>2019-04-20 01:39:08</td>\n",
              "      <td>2019-04-20 02:01:16</td>\n",
              "      <td>1.340301</td>\n",
              "      <td>103.775742</td>\n",
              "      <td>1.303071</td>\n",
              "      <td>103.900220</td>\n",
              "      <td>1</td>\n",
              "      <td>5</td>\n",
              "      <td>2.588190e-01</td>\n",
              "      <td>0.965926</td>\n",
              "      <td>-0.974928</td>\n",
              "      <td>-0.222521</td>\n",
              "      <td>44</td>\n",
              "      <td>39</td>\n",
              "      <td>0.062661</td>\n",
              "      <td>-0.014213</td>\n",
              "      <td>-0.064685</td>\n",
              "      <td>-0.039977</td>\n",
              "    </tr>\n",
              "    <tr>\n",
              "      <th>4107</th>\n",
              "      <td>8</td>\n",
              "      <td>android</td>\n",
              "      <td>2019-04-11 07:24:34</td>\n",
              "      <td>1.333936</td>\n",
              "      <td>103.953225</td>\n",
              "      <td>15.250000</td>\n",
              "      <td>318</td>\n",
              "      <td>4.288</td>\n",
              "      <td>00:20:10</td>\n",
              "      <td>2019-04-11 07:24:34</td>\n",
              "      <td>2019-04-11 07:44:44</td>\n",
              "      <td>1.333936</td>\n",
              "      <td>103.953225</td>\n",
              "      <td>1.309601</td>\n",
              "      <td>103.833983</td>\n",
              "      <td>7</td>\n",
              "      <td>3</td>\n",
              "      <td>9.659258e-01</td>\n",
              "      <td>-0.258819</td>\n",
              "      <td>0.433884</td>\n",
              "      <td>-0.900969</td>\n",
              "      <td>89</td>\n",
              "      <td>27</td>\n",
              "      <td>-0.114666</td>\n",
              "      <td>-0.004423</td>\n",
              "      <td>0.001871</td>\n",
              "      <td>-0.039493</td>\n",
              "    </tr>\n",
              "    <tr>\n",
              "      <th>...</th>\n",
              "      <td>...</td>\n",
              "      <td>...</td>\n",
              "      <td>...</td>\n",
              "      <td>...</td>\n",
              "      <td>...</td>\n",
              "      <td>...</td>\n",
              "      <td>...</td>\n",
              "      <td>...</td>\n",
              "      <td>...</td>\n",
              "      <td>...</td>\n",
              "      <td>...</td>\n",
              "      <td>...</td>\n",
              "      <td>...</td>\n",
              "      <td>...</td>\n",
              "      <td>...</td>\n",
              "      <td>...</td>\n",
              "      <td>...</td>\n",
              "      <td>...</td>\n",
              "      <td>...</td>\n",
              "      <td>...</td>\n",
              "      <td>...</td>\n",
              "      <td>...</td>\n",
              "      <td>...</td>\n",
              "      <td>...</td>\n",
              "      <td>...</td>\n",
              "      <td>...</td>\n",
              "      <td>...</td>\n",
              "    </tr>\n",
              "    <tr>\n",
              "      <th>30323980</th>\n",
              "      <td>83955</td>\n",
              "      <td>android</td>\n",
              "      <td>2019-04-08 22:27:51</td>\n",
              "      <td>1.396872</td>\n",
              "      <td>103.747718</td>\n",
              "      <td>11.609461</td>\n",
              "      <td>191</td>\n",
              "      <td>3.900</td>\n",
              "      <td>00:18:32</td>\n",
              "      <td>2019-04-08 22:27:51</td>\n",
              "      <td>2019-04-08 22:46:23</td>\n",
              "      <td>1.396872</td>\n",
              "      <td>103.747718</td>\n",
              "      <td>1.319548</td>\n",
              "      <td>103.843496</td>\n",
              "      <td>22</td>\n",
              "      <td>0</td>\n",
              "      <td>-5.000000e-01</td>\n",
              "      <td>0.866025</td>\n",
              "      <td>0.000000</td>\n",
              "      <td>1.000000</td>\n",
              "      <td>90</td>\n",
              "      <td>49</td>\n",
              "      <td>0.095710</td>\n",
              "      <td>0.039577</td>\n",
              "      <td>-0.006699</td>\n",
              "      <td>-0.028723</td>\n",
              "    </tr>\n",
              "    <tr>\n",
              "      <th>30325037</th>\n",
              "      <td>83956</td>\n",
              "      <td>ios</td>\n",
              "      <td>2019-04-09 22:09:13</td>\n",
              "      <td>1.396533</td>\n",
              "      <td>103.747537</td>\n",
              "      <td>3.212061</td>\n",
              "      <td>196</td>\n",
              "      <td>6.000</td>\n",
              "      <td>00:16:23</td>\n",
              "      <td>2019-04-09 22:09:13</td>\n",
              "      <td>2019-04-09 22:25:36</td>\n",
              "      <td>1.396533</td>\n",
              "      <td>103.747537</td>\n",
              "      <td>1.322236</td>\n",
              "      <td>103.841737</td>\n",
              "      <td>22</td>\n",
              "      <td>1</td>\n",
              "      <td>-5.000000e-01</td>\n",
              "      <td>0.866025</td>\n",
              "      <td>0.781831</td>\n",
              "      <td>0.623490</td>\n",
              "      <td>90</td>\n",
              "      <td>67</td>\n",
              "      <td>0.095859</td>\n",
              "      <td>0.039224</td>\n",
              "      <td>-0.004703</td>\n",
              "      <td>-0.026205</td>\n",
              "    </tr>\n",
              "    <tr>\n",
              "      <th>30325931</th>\n",
              "      <td>83957</td>\n",
              "      <td>android</td>\n",
              "      <td>2019-04-21 01:20:41</td>\n",
              "      <td>1.301317</td>\n",
              "      <td>103.899443</td>\n",
              "      <td>11.049027</td>\n",
              "      <td>244</td>\n",
              "      <td>5.600</td>\n",
              "      <td>00:23:02</td>\n",
              "      <td>2019-04-21 01:20:41</td>\n",
              "      <td>2019-04-21 01:43:43</td>\n",
              "      <td>1.301317</td>\n",
              "      <td>103.899443</td>\n",
              "      <td>1.410657</td>\n",
              "      <td>103.778843</td>\n",
              "      <td>1</td>\n",
              "      <td>6</td>\n",
              "      <td>2.588190e-01</td>\n",
              "      <td>0.965926</td>\n",
              "      <td>-0.781831</td>\n",
              "      <td>0.623490</td>\n",
              "      <td>39</td>\n",
              "      <td>92</td>\n",
              "      <td>-0.064071</td>\n",
              "      <td>-0.041795</td>\n",
              "      <td>0.065966</td>\n",
              "      <td>0.056133</td>\n",
              "    </tr>\n",
              "    <tr>\n",
              "      <th>30327120</th>\n",
              "      <td>83999</td>\n",
              "      <td>android</td>\n",
              "      <td>2019-04-17 11:22:25</td>\n",
              "      <td>1.298612</td>\n",
              "      <td>103.853801</td>\n",
              "      <td>0.000000</td>\n",
              "      <td>0</td>\n",
              "      <td>4.137</td>\n",
              "      <td>00:20:12</td>\n",
              "      <td>2019-04-17 11:22:25</td>\n",
              "      <td>2019-04-17 11:42:37</td>\n",
              "      <td>1.298612</td>\n",
              "      <td>103.853801</td>\n",
              "      <td>1.341311</td>\n",
              "      <td>103.981728</td>\n",
              "      <td>11</td>\n",
              "      <td>2</td>\n",
              "      <td>2.588190e-01</td>\n",
              "      <td>-0.965926</td>\n",
              "      <td>0.974928</td>\n",
              "      <td>-0.222521</td>\n",
              "      <td>94</td>\n",
              "      <td>14</td>\n",
              "      <td>-0.018864</td>\n",
              "      <td>-0.048636</td>\n",
              "      <td>-0.142380</td>\n",
              "      <td>0.005511</td>\n",
              "    </tr>\n",
              "    <tr>\n",
              "      <th>30328301</th>\n",
              "      <td>84000</td>\n",
              "      <td>android</td>\n",
              "      <td>2019-04-18 12:28:10</td>\n",
              "      <td>1.346787</td>\n",
              "      <td>103.984266</td>\n",
              "      <td>8.718304</td>\n",
              "      <td>203</td>\n",
              "      <td>4.000</td>\n",
              "      <td>00:24:35</td>\n",
              "      <td>2019-04-18 12:28:10</td>\n",
              "      <td>2019-04-18 12:52:45</td>\n",
              "      <td>1.346787</td>\n",
              "      <td>103.984266</td>\n",
              "      <td>1.287678</td>\n",
              "      <td>103.845468</td>\n",
              "      <td>12</td>\n",
              "      <td>3</td>\n",
              "      <td>1.224647e-16</td>\n",
              "      <td>-1.000000</td>\n",
              "      <td>0.433884</td>\n",
              "      <td>-0.900969</td>\n",
              "      <td>69</td>\n",
              "      <td>97</td>\n",
              "      <td>-0.144410</td>\n",
              "      <td>0.011196</td>\n",
              "      <td>-0.011558</td>\n",
              "      <td>-0.060281</td>\n",
              "    </tr>\n",
              "  </tbody>\n",
              "</table>\n",
              "<p>28000 rows × 27 columns</p>\n",
              "</div>"
            ],
            "text/plain": [
              "          trj_id   osname  ... dropoff_pca0  dropoff_pca1\n",
              "0              2  android  ...     0.041837      0.094437\n",
              "1134           3      ios  ...    -0.138717     -0.003314\n",
              "2067           4  android  ...    -0.019494     -0.003787\n",
              "2946           5      ios  ...    -0.064685     -0.039977\n",
              "4107           8  android  ...     0.001871     -0.039493\n",
              "...          ...      ...  ...          ...           ...\n",
              "30323980   83955  android  ...    -0.006699     -0.028723\n",
              "30325037   83956      ios  ...    -0.004703     -0.026205\n",
              "30325931   83957  android  ...     0.065966      0.056133\n",
              "30327120   83999  android  ...    -0.142380      0.005511\n",
              "30328301   84000  android  ...    -0.011558     -0.060281\n",
              "\n",
              "[28000 rows x 27 columns]"
            ]
          },
          "metadata": {
            "tags": []
          },
          "execution_count": 25
        }
      ]
    },
    {
      "cell_type": "markdown",
      "metadata": {
        "id": "g4nz4NGXhHza",
        "colab_type": "text"
      },
      "source": [
        "# Modelling"
      ]
    },
    {
      "cell_type": "code",
      "metadata": {
        "id": "pFrENK6MhHWv",
        "colab_type": "code",
        "outputId": "acdaf06a-2df0-40ac-8000-b131ef5ef4b6",
        "colab": {
          "base_uri": "https://localhost:8080/",
          "height": 73
        }
      },
      "source": [
        "from sklearn.model_selection import train_test_split\n",
        "\n",
        "train, test = train_test_split(SG_car_aug_colapse, test_size=0.2, train_size = 0.8)\n",
        "train, validate = train_test_split(SG_car_aug_colapse, test_size = 0.25, train_size = 0.75)\n",
        "print(len(train))\n",
        "print(len(validate))\n",
        "print(len(test))"
      ],
      "execution_count": 0,
      "outputs": [
        {
          "output_type": "stream",
          "text": [
            "21000\n",
            "7000\n",
            "5600\n"
          ],
          "name": "stdout"
        }
      ]
    },
    {
      "cell_type": "code",
      "metadata": {
        "id": "3GcBzNbFuAn3",
        "colab_type": "code",
        "colab": {}
      },
      "source": [
        "X_train = train.drop(['travel_time', 'trj_id', 'osname', 'pingtimestamp', 'rawlat', 'rawlng', 'speed', 'bearing', 'accuracy', 'pickup_time', 'dropoff_time'], axis=1)\n",
        "Y_train = train[\"travel_time\"]\n",
        "X_val = validate.drop(['travel_time', 'trj_id', 'osname', 'pingtimestamp', 'rawlat', 'rawlng', 'speed', 'bearing', 'accuracy', 'pickup_time', 'dropoff_time'], axis=1)\n",
        "Y_val = validate[\"travel_time\"]"
      ],
      "execution_count": 0,
      "outputs": []
    },
    {
      "cell_type": "code",
      "metadata": {
        "id": "GJgfLeyktf_8",
        "colab_type": "code",
        "colab": {}
      },
      "source": [
        "import xgboost as xgb\n",
        "\n",
        "dtrain = xgb.DMatrix(X_train, label=Y_train)\n",
        "dvalid = xgb.DMatrix(X_val, label=Y_val)\n",
        "watchlist = [(dtrain, 'train'), (dvalid, 'valid')]"
      ],
      "execution_count": 0,
      "outputs": []
    },
    {
      "cell_type": "code",
      "metadata": {
        "id": "AV6x0qrqu4eY",
        "colab_type": "code",
        "outputId": "c4822fea-e631-45b3-b416-515d11b1ca7c",
        "colab": {
          "base_uri": "https://localhost:8080/",
          "height": 1000
        }
      },
      "source": [
        "xgb_pars = {'min_child_weight': 1, 'eta': 0.5, 'colsample_bytree': 0.9, \n",
        "            'max_depth': 6,\n",
        "'subsample': 0.9, 'lambda': 1., 'nthread': -1, 'booster' : 'gbtree', 'silent': 1,\n",
        "'eval_metric': 'rmse', 'objective': 'reg:linear'}\n",
        "model = xgb.train(xgb_pars, dtrain, 700, watchlist, early_stopping_rounds=40,\n",
        "      maximize=False, verbose_eval=1)\n",
        "print('Modeling RMSE %.5f' % model.best_score)"
      ],
      "execution_count": 0,
      "outputs": [
        {
          "output_type": "stream",
          "text": [
            "[0]\ttrain-rmse:698.528\tvalid-rmse:696.998\n",
            "Multiple eval metrics have been passed: 'valid-rmse' will be used for early stopping.\n",
            "\n",
            "Will train until valid-rmse hasn't improved in 40 rounds.\n",
            "[1]\ttrain-rmse:431.541\tvalid-rmse:430.523\n",
            "[2]\ttrain-rmse:326.677\tvalid-rmse:326.579\n",
            "[3]\ttrain-rmse:292.769\tvalid-rmse:293.831\n",
            "[4]\ttrain-rmse:271.531\tvalid-rmse:281.025\n",
            "[5]\ttrain-rmse:265.839\tvalid-rmse:277.617\n",
            "[6]\ttrain-rmse:258.181\tvalid-rmse:276.116\n",
            "[7]\ttrain-rmse:253.102\tvalid-rmse:274.303\n",
            "[8]\ttrain-rmse:249.178\tvalid-rmse:272.483\n",
            "[9]\ttrain-rmse:246.004\tvalid-rmse:271.866\n",
            "[10]\ttrain-rmse:242.594\tvalid-rmse:270.639\n",
            "[11]\ttrain-rmse:240.841\tvalid-rmse:269.965\n",
            "[12]\ttrain-rmse:235.834\tvalid-rmse:268.504\n",
            "[13]\ttrain-rmse:234.305\tvalid-rmse:268.497\n",
            "[14]\ttrain-rmse:231.477\tvalid-rmse:268.313\n",
            "[15]\ttrain-rmse:227.572\tvalid-rmse:267.314\n",
            "[16]\ttrain-rmse:226.174\tvalid-rmse:267.362\n",
            "[17]\ttrain-rmse:223.599\tvalid-rmse:267.611\n",
            "[18]\ttrain-rmse:221.756\tvalid-rmse:267.513\n",
            "[19]\ttrain-rmse:220.859\tvalid-rmse:267.542\n",
            "[20]\ttrain-rmse:219.831\tvalid-rmse:267.393\n",
            "[21]\ttrain-rmse:219.408\tvalid-rmse:267.261\n",
            "[22]\ttrain-rmse:217.287\tvalid-rmse:266.633\n",
            "[23]\ttrain-rmse:215.988\tvalid-rmse:266.677\n",
            "[24]\ttrain-rmse:214.127\tvalid-rmse:266.699\n",
            "[25]\ttrain-rmse:212.438\tvalid-rmse:266.559\n",
            "[26]\ttrain-rmse:211.363\tvalid-rmse:266.902\n",
            "[27]\ttrain-rmse:210.489\tvalid-rmse:266.751\n",
            "[28]\ttrain-rmse:209.882\tvalid-rmse:266.805\n",
            "[29]\ttrain-rmse:208.749\tvalid-rmse:266.726\n",
            "[30]\ttrain-rmse:206.821\tvalid-rmse:266.842\n",
            "[31]\ttrain-rmse:206.016\tvalid-rmse:266.952\n",
            "[32]\ttrain-rmse:204.681\tvalid-rmse:267.389\n",
            "[33]\ttrain-rmse:204.258\tvalid-rmse:267.395\n",
            "[34]\ttrain-rmse:202.527\tvalid-rmse:267.233\n",
            "[35]\ttrain-rmse:201.871\tvalid-rmse:267.134\n",
            "[36]\ttrain-rmse:200.429\tvalid-rmse:267.561\n",
            "[37]\ttrain-rmse:199.526\tvalid-rmse:267.441\n",
            "[38]\ttrain-rmse:198.29\tvalid-rmse:267.43\n",
            "[39]\ttrain-rmse:197.546\tvalid-rmse:267.603\n",
            "[40]\ttrain-rmse:196.429\tvalid-rmse:267.667\n",
            "[41]\ttrain-rmse:194.881\tvalid-rmse:268.413\n",
            "[42]\ttrain-rmse:194.005\tvalid-rmse:268.313\n",
            "[43]\ttrain-rmse:193.149\tvalid-rmse:268.369\n",
            "[44]\ttrain-rmse:192.705\tvalid-rmse:268.485\n",
            "[45]\ttrain-rmse:192.035\tvalid-rmse:268.174\n",
            "[46]\ttrain-rmse:191.251\tvalid-rmse:268.139\n",
            "[47]\ttrain-rmse:190.342\tvalid-rmse:268.433\n",
            "[48]\ttrain-rmse:188.808\tvalid-rmse:268.612\n",
            "[49]\ttrain-rmse:187.769\tvalid-rmse:269.045\n",
            "[50]\ttrain-rmse:187.192\tvalid-rmse:269.093\n",
            "[51]\ttrain-rmse:186.094\tvalid-rmse:269.319\n",
            "[52]\ttrain-rmse:185.072\tvalid-rmse:269.797\n",
            "[53]\ttrain-rmse:184.463\tvalid-rmse:269.977\n",
            "[54]\ttrain-rmse:183.55\tvalid-rmse:270.205\n",
            "[55]\ttrain-rmse:182.284\tvalid-rmse:270.229\n",
            "[56]\ttrain-rmse:181.598\tvalid-rmse:270.29\n",
            "[57]\ttrain-rmse:180.357\tvalid-rmse:270.368\n",
            "[58]\ttrain-rmse:179.53\tvalid-rmse:270.526\n",
            "[59]\ttrain-rmse:178.573\tvalid-rmse:270.72\n",
            "[60]\ttrain-rmse:177.815\tvalid-rmse:270.96\n",
            "[61]\ttrain-rmse:177.12\tvalid-rmse:270.589\n",
            "[62]\ttrain-rmse:176.119\tvalid-rmse:270.623\n",
            "[63]\ttrain-rmse:174.893\tvalid-rmse:270.699\n",
            "[64]\ttrain-rmse:174.61\tvalid-rmse:270.8\n",
            "[65]\ttrain-rmse:174.117\tvalid-rmse:270.799\n",
            "Stopping. Best iteration:\n",
            "[25]\ttrain-rmse:212.438\tvalid-rmse:266.559\n",
            "\n",
            "Modeling RMSE 266.55908\n"
          ],
          "name": "stdout"
        }
      ]
    },
    {
      "cell_type": "code",
      "metadata": {
        "id": "_gF1jl6wwCqX",
        "colab_type": "code",
        "outputId": "329e60af-78d3-44eb-d033-d1ec0c0d8eb0",
        "colab": {
          "base_uri": "https://localhost:8080/",
          "height": 314
        }
      },
      "source": [
        "xgb.plot_importance(model, max_num_features=20, height=0.7)"
      ],
      "execution_count": 0,
      "outputs": [
        {
          "output_type": "execute_result",
          "data": {
            "text/plain": [
              "<matplotlib.axes._subplots.AxesSubplot at 0x7fa1163ada90>"
            ]
          },
          "metadata": {
            "tags": []
          },
          "execution_count": 57
        },
        {
          "output_type": "display_data",
          "data": {
            "image/png": "[encoded data removed]",
            "text/plain": [
              "<Figure size 432x288 with 1 Axes>"
            ]
          },
          "metadata": {
            "tags": [],
            "needs_background": "light"
          }
        }
      ]
    },
    {
      "cell_type": "markdown",
      "metadata": {
        "id": "fzroQZXO4EcE",
        "colab_type": "text"
      },
      "source": [
        "# Testing"
      ]
    },
    {
      "cell_type": "code",
      "metadata": {
        "id": "Ocig9QiRzDMl",
        "colab_type": "code",
        "colab": {}
      },
      "source": [
        "X_test = test.drop(['travel_time', 'trj_id', 'osname', 'pingtimestamp', 'rawlat', 'rawlng', 'speed', 'bearing', 'accuracy', 'pickup_time', 'dropoff_time'], axis=1)\n",
        "Y_test = test[\"travel_time\"].astype('timedelta64[s]')\n",
        "dtest = xgb.DMatrix(X_test)\n"
      ],
      "execution_count": 0,
      "outputs": []
    },
    {
      "cell_type": "code",
      "metadata": {
        "id": "fojBKYaF3ct4",
        "colab_type": "code",
        "colab": {
          "base_uri": "https://localhost:8080/",
          "height": 443
        },
        "outputId": "718a6485-c56c-4455-d410-216882e2a55a"
      },
      "source": [
        "X_test"
      ],
      "execution_count": 76,
      "outputs": [
        {
          "output_type": "execute_result",
          "data": {
            "text/html": [
              "<div>\n",
              "<style scoped>\n",
              "    .dataframe tbody tr th:only-of-type {\n",
              "        vertical-align: middle;\n",
              "    }\n",
              "\n",
              "    .dataframe tbody tr th {\n",
              "        vertical-align: top;\n",
              "    }\n",
              "\n",
              "    .dataframe thead th {\n",
              "        text-align: right;\n",
              "    }\n",
              "</style>\n",
              "<table border=\"1\" class=\"dataframe\">\n",
              "  <thead>\n",
              "    <tr style=\"text-align: right;\">\n",
              "      <th></th>\n",
              "      <th>rawlat_pickup</th>\n",
              "      <th>rawlng_pickup</th>\n",
              "      <th>rawlat_dropoff</th>\n",
              "      <th>rawlng_dropoff</th>\n",
              "      <th>pickup_hour</th>\n",
              "      <th>pickup_day</th>\n",
              "      <th>sin_pickup_hour</th>\n",
              "      <th>cos_pickup_hour</th>\n",
              "      <th>sin_pickup_day</th>\n",
              "      <th>cos_pickup_day</th>\n",
              "      <th>pickup_cluster</th>\n",
              "      <th>dropoff_cluster</th>\n",
              "      <th>pickup_pca0</th>\n",
              "      <th>pickup_pca1</th>\n",
              "      <th>dropoff_pca0</th>\n",
              "      <th>dropoff_pca1</th>\n",
              "    </tr>\n",
              "  </thead>\n",
              "  <tbody>\n",
              "    <tr>\n",
              "      <th>16505626</th>\n",
              "      <td>1.429581</td>\n",
              "      <td>103.773626</td>\n",
              "      <td>1.321182</td>\n",
              "      <td>103.825665</td>\n",
              "      <td>8</td>\n",
              "      <td>2</td>\n",
              "      <td>0.866025</td>\n",
              "      <td>-0.500000</td>\n",
              "      <td>0.974928</td>\n",
              "      <td>-0.222521</td>\n",
              "      <td>56</td>\n",
              "      <td>93</td>\n",
              "      <td>0.072882</td>\n",
              "      <td>0.074505</td>\n",
              "      <td>0.011207</td>\n",
              "      <td>-0.028716</td>\n",
              "    </tr>\n",
              "    <tr>\n",
              "      <th>10229822</th>\n",
              "      <td>1.298323</td>\n",
              "      <td>103.858013</td>\n",
              "      <td>1.389776</td>\n",
              "      <td>103.868961</td>\n",
              "      <td>11</td>\n",
              "      <td>0</td>\n",
              "      <td>0.258819</td>\n",
              "      <td>-0.965926</td>\n",
              "      <td>0.000000</td>\n",
              "      <td>1.000000</td>\n",
              "      <td>94</td>\n",
              "      <td>22</td>\n",
              "      <td>-0.023084</td>\n",
              "      <td>-0.048541</td>\n",
              "      <td>-0.025676</td>\n",
              "      <td>0.043528</td>\n",
              "    </tr>\n",
              "    <tr>\n",
              "      <th>4808288</th>\n",
              "      <td>1.299530</td>\n",
              "      <td>103.859055</td>\n",
              "      <td>1.312358</td>\n",
              "      <td>103.951767</td>\n",
              "      <td>10</td>\n",
              "      <td>4</td>\n",
              "      <td>0.500000</td>\n",
              "      <td>-0.866025</td>\n",
              "      <td>-0.433884</td>\n",
              "      <td>-0.900969</td>\n",
              "      <td>94</td>\n",
              "      <td>48</td>\n",
              "      <td>-0.024012</td>\n",
              "      <td>-0.047244</td>\n",
              "      <td>-0.115175</td>\n",
              "      <td>-0.026044</td>\n",
              "    </tr>\n",
              "    <tr>\n",
              "      <th>18376406</th>\n",
              "      <td>1.316766</td>\n",
              "      <td>103.847553</td>\n",
              "      <td>1.346804</td>\n",
              "      <td>103.984028</td>\n",
              "      <td>13</td>\n",
              "      <td>0</td>\n",
              "      <td>-0.258819</td>\n",
              "      <td>-0.965926</td>\n",
              "      <td>0.000000</td>\n",
              "      <td>1.000000</td>\n",
              "      <td>49</td>\n",
              "      <td>69</td>\n",
              "      <td>-0.010992</td>\n",
              "      <td>-0.031124</td>\n",
              "      <td>-0.144172</td>\n",
              "      <td>0.011191</td>\n",
              "    </tr>\n",
              "    <tr>\n",
              "      <th>12300925</th>\n",
              "      <td>1.388762</td>\n",
              "      <td>103.755507</td>\n",
              "      <td>1.322709</td>\n",
              "      <td>103.877471</td>\n",
              "      <td>5</td>\n",
              "      <td>6</td>\n",
              "      <td>0.965926</td>\n",
              "      <td>0.258819</td>\n",
              "      <td>-0.781831</td>\n",
              "      <td>0.623490</td>\n",
              "      <td>57</td>\n",
              "      <td>5</td>\n",
              "      <td>0.087216</td>\n",
              "      <td>0.032208</td>\n",
              "      <td>-0.040245</td>\n",
              "      <td>-0.022488</td>\n",
              "    </tr>\n",
              "    <tr>\n",
              "      <th>...</th>\n",
              "      <td>...</td>\n",
              "      <td>...</td>\n",
              "      <td>...</td>\n",
              "      <td>...</td>\n",
              "      <td>...</td>\n",
              "      <td>...</td>\n",
              "      <td>...</td>\n",
              "      <td>...</td>\n",
              "      <td>...</td>\n",
              "      <td>...</td>\n",
              "      <td>...</td>\n",
              "      <td>...</td>\n",
              "      <td>...</td>\n",
              "      <td>...</td>\n",
              "      <td>...</td>\n",
              "      <td>...</td>\n",
              "    </tr>\n",
              "    <tr>\n",
              "      <th>23183089</th>\n",
              "      <td>1.442117</td>\n",
              "      <td>103.830657</td>\n",
              "      <td>1.371814</td>\n",
              "      <td>103.947212</td>\n",
              "      <td>1</td>\n",
              "      <td>0</td>\n",
              "      <td>0.258819</td>\n",
              "      <td>0.965926</td>\n",
              "      <td>0.000000</td>\n",
              "      <td>1.000000</td>\n",
              "      <td>99</td>\n",
              "      <td>16</td>\n",
              "      <td>0.017226</td>\n",
              "      <td>0.092172</td>\n",
              "      <td>-0.105236</td>\n",
              "      <td>0.032752</td>\n",
              "    </tr>\n",
              "    <tr>\n",
              "      <th>19226875</th>\n",
              "      <td>1.335302</td>\n",
              "      <td>103.846650</td>\n",
              "      <td>1.384003</td>\n",
              "      <td>103.742620</td>\n",
              "      <td>9</td>\n",
              "      <td>1</td>\n",
              "      <td>0.707107</td>\n",
              "      <td>-0.707107</td>\n",
              "      <td>0.781831</td>\n",
              "      <td>0.623490</td>\n",
              "      <td>67</td>\n",
              "      <td>1</td>\n",
              "      <td>-0.008408</td>\n",
              "      <td>-0.012747</td>\n",
              "      <td>0.099618</td>\n",
              "      <td>0.026299</td>\n",
              "    </tr>\n",
              "    <tr>\n",
              "      <th>21851408</th>\n",
              "      <td>1.349029</td>\n",
              "      <td>103.985209</td>\n",
              "      <td>1.298952</td>\n",
              "      <td>103.841656</td>\n",
              "      <td>13</td>\n",
              "      <td>1</td>\n",
              "      <td>-0.258819</td>\n",
              "      <td>-0.965926</td>\n",
              "      <td>0.781831</td>\n",
              "      <td>0.623490</td>\n",
              "      <td>69</td>\n",
              "      <td>11</td>\n",
              "      <td>-0.145146</td>\n",
              "      <td>0.013514</td>\n",
              "      <td>-0.006738</td>\n",
              "      <td>-0.049401</td>\n",
              "    </tr>\n",
              "    <tr>\n",
              "      <th>18874888</th>\n",
              "      <td>1.360975</td>\n",
              "      <td>103.888193</td>\n",
              "      <td>1.371602</td>\n",
              "      <td>103.947190</td>\n",
              "      <td>0</td>\n",
              "      <td>0</td>\n",
              "      <td>0.000000</td>\n",
              "      <td>1.000000</td>\n",
              "      <td>0.000000</td>\n",
              "      <td>1.000000</td>\n",
              "      <td>51</td>\n",
              "      <td>16</td>\n",
              "      <td>-0.047446</td>\n",
              "      <td>0.016595</td>\n",
              "      <td>-0.105233</td>\n",
              "      <td>0.032539</td>\n",
              "    </tr>\n",
              "    <tr>\n",
              "      <th>1783719</th>\n",
              "      <td>1.319301</td>\n",
              "      <td>103.849981</td>\n",
              "      <td>1.419617</td>\n",
              "      <td>103.799721</td>\n",
              "      <td>8</td>\n",
              "      <td>0</td>\n",
              "      <td>0.866025</td>\n",
              "      <td>-0.500000</td>\n",
              "      <td>0.000000</td>\n",
              "      <td>1.000000</td>\n",
              "      <td>49</td>\n",
              "      <td>77</td>\n",
              "      <td>-0.013179</td>\n",
              "      <td>-0.028380</td>\n",
              "      <td>0.045989</td>\n",
              "      <td>0.066953</td>\n",
              "    </tr>\n",
              "  </tbody>\n",
              "</table>\n",
              "<p>5600 rows × 16 columns</p>\n",
              "</div>"
            ],
            "text/plain": [
              "          rawlat_pickup  rawlng_pickup  ...  dropoff_pca0  dropoff_pca1\n",
              "16505626       1.429581     103.773626  ...      0.011207     -0.028716\n",
              "10229822       1.298323     103.858013  ...     -0.025676      0.043528\n",
              "4808288        1.299530     103.859055  ...     -0.115175     -0.026044\n",
              "18376406       1.316766     103.847553  ...     -0.144172      0.011191\n",
              "12300925       1.388762     103.755507  ...     -0.040245     -0.022488\n",
              "...                 ...            ...  ...           ...           ...\n",
              "23183089       1.442117     103.830657  ...     -0.105236      0.032752\n",
              "19226875       1.335302     103.846650  ...      0.099618      0.026299\n",
              "21851408       1.349029     103.985209  ...     -0.006738     -0.049401\n",
              "18874888       1.360975     103.888193  ...     -0.105233      0.032539\n",
              "1783719        1.319301     103.849981  ...      0.045989      0.066953\n",
              "\n",
              "[5600 rows x 16 columns]"
            ]
          },
          "metadata": {
            "tags": []
          },
          "execution_count": 76
        }
      ]
    },
    {
      "cell_type": "code",
      "metadata": {
        "id": "4xycD9Z1whYv",
        "colab_type": "code",
        "outputId": "cf0ca959-be1f-4c79-fbcb-caced607e3d0",
        "colab": {
          "base_uri": "https://localhost:8080/",
          "height": 36
        }
      },
      "source": [
        "from sklearn.metrics import mean_squared_error\n",
        "ypred = model.predict(dtest)\n",
        "mse = mean_squared_error(Y_test,ypred)\n",
        "print(\"RMSE: %.2f\" % np.sqrt(mse))"
      ],
      "execution_count": 74,
      "outputs": [
        {
          "output_type": "stream",
          "text": [
            "RMSE: 197.44\n"
          ],
          "name": "stdout"
        }
      ]
    },
    {
      "cell_type": "code",
      "metadata": {
        "id": "ExpxafToy-tW",
        "colab_type": "code",
        "colab": {}
      },
      "source": [
        ""
      ],
      "execution_count": 0,
      "outputs": []
    }
  ]
}