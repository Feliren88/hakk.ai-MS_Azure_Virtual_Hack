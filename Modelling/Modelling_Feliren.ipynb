{
  "nbformat": 4,
  "nbformat_minor": 0,
  "metadata": {
    "colab": {
      "name": "Modelling_Feliren.ipynb",
      "provenance": [],
      "collapsed_sections": []
    },
    "kernelspec": {
      "name": "python3",
      "display_name": "Python 3"
    },
    "accelerator": "GPU"
  },
  "cells": [
    {
      "cell_type": "code",
      "metadata": {
        "id": "6YALICP3v0eg",
        "colab_type": "code",
        "colab": {
          "base_uri": "https://localhost:8080/",
          "height": 129
        },
        "outputId": "30b2ad3c-d196-46f1-e3cc-42361626f765"
      },
      "source": [
        "from google.colab import drive\n",
        "drive.mount('/content/drive')"
      ],
      "execution_count": 2,
      "outputs": [
        {
          "output_type": "stream",
          "text": [
            "Go to this URL in a browser: https://accounts.google.com/o/oauth2/auth?client_id=947318989803-6bn6qk8qdgf4n4g3pfee6491hc0brc4i.apps.googleusercontent.com&redirect_uri=urn%3aietf%3awg%3aoauth%3a2.0%3aoob&response_type=code&scope=email%20https%3a%2f%2fwww.googleapis.com%2fauth%2fdocs.test%20https%3a%2f%2fwww.googleapis.com%2fauth%2fdrive%20https%3a%2f%2fwww.googleapis.com%2fauth%2fdrive.photos.readonly%20https%3a%2f%2fwww.googleapis.com%2fauth%2fpeopleapi.readonly\n",
            "\n",
            "Enter your authorization code:\n",
            "··········\n",
            "Mounted at /content/drive\n"
          ],
          "name": "stdout"
        }
      ]
    },
    {
      "cell_type": "code",
      "metadata": {
        "id": "EXqZqe-I7AQq",
        "colab_type": "code",
        "colab": {}
      },
      "source": [
        "import pandas as pd\n",
        "import numpy as np"
      ],
      "execution_count": 15,
      "outputs": []
    },
    {
      "cell_type": "code",
      "metadata": {
        "id": "3sdCHZK295LK",
        "colab_type": "code",
        "colab": {}
      },
      "source": [
        "path_cleaned = \"/content/drive/My Drive/Hackhathon 2020 Shared Drive/Dataset/SG_car_cleaned.csv\""
      ],
      "execution_count": 16,
      "outputs": []
    },
    {
      "cell_type": "code",
      "metadata": {
        "id": "z4pOoHRt7ULA",
        "colab_type": "code",
        "colab": {}
      },
      "source": [
        "data = pd.read_csv(path_cleaned)"
      ],
      "execution_count": 17,
      "outputs": []
    },
    {
      "cell_type": "code",
      "metadata": {
        "id": "l9f6rB5qY-vz",
        "colab_type": "code",
        "colab": {
          "base_uri": "https://localhost:8080/",
          "height": 330
        },
        "outputId": "d63babcf-7d0f-4cd4-a0ec-b140ba60c02c"
      },
      "source": [
        "data.head()"
      ],
      "execution_count": 18,
      "outputs": [
        {
          "output_type": "execute_result",
          "data": {
            "text/html": [
              "<div>\n",
              "<style scoped>\n",
              "    .dataframe tbody tr th:only-of-type {\n",
              "        vertical-align: middle;\n",
              "    }\n",
              "\n",
              "    .dataframe tbody tr th {\n",
              "        vertical-align: top;\n",
              "    }\n",
              "\n",
              "    .dataframe thead th {\n",
              "        text-align: right;\n",
              "    }\n",
              "</style>\n",
              "<table border=\"1\" class=\"dataframe\">\n",
              "  <thead>\n",
              "    <tr style=\"text-align: right;\">\n",
              "      <th></th>\n",
              "      <th>Unnamed: 0</th>\n",
              "      <th>Unnamed: 0.1</th>\n",
              "      <th>trj_id</th>\n",
              "      <th>osname</th>\n",
              "      <th>pingtimestamp</th>\n",
              "      <th>latitude</th>\n",
              "      <th>longitude</th>\n",
              "      <th>speed</th>\n",
              "      <th>bearing</th>\n",
              "      <th>accuracy</th>\n",
              "      <th>timestamp</th>\n",
              "      <th>travel_time</th>\n",
              "      <th>pickup_time</th>\n",
              "      <th>dropoff_time</th>\n",
              "      <th>latitude_origin</th>\n",
              "      <th>longitude_origin</th>\n",
              "      <th>latitude_destination</th>\n",
              "      <th>longitude_destination</th>\n",
              "      <th>hour_of_day</th>\n",
              "      <th>day_of_week</th>\n",
              "      <th>is_weekend</th>\n",
              "      <th>is_weekday</th>\n",
              "      <th>is_wee_hours</th>\n",
              "      <th>is_rush_hours_morning</th>\n",
              "      <th>is_rush_hours_evening</th>\n",
              "      <th>sin_hour_of_day</th>\n",
              "      <th>cos_hour_of_day</th>\n",
              "      <th>sin_day_of_week</th>\n",
              "      <th>cos_day_of_week</th>\n",
              "      <th>haversine_km</th>\n",
              "      <th>haversine_m</th>\n",
              "      <th>pickup_pca0</th>\n",
              "      <th>pickup_pca1</th>\n",
              "      <th>dropoff_pca0</th>\n",
              "      <th>dropoff_pca1</th>\n",
              "    </tr>\n",
              "  </thead>\n",
              "  <tbody>\n",
              "    <tr>\n",
              "      <th>0</th>\n",
              "      <td>0</td>\n",
              "      <td>0</td>\n",
              "      <td>2</td>\n",
              "      <td>android</td>\n",
              "      <td>1554777528</td>\n",
              "      <td>1.270377</td>\n",
              "      <td>103.857875</td>\n",
              "      <td>25.623161</td>\n",
              "      <td>100</td>\n",
              "      <td>32.000</td>\n",
              "      <td>2019-04-09 02:38:48+00:00</td>\n",
              "      <td>1520.0</td>\n",
              "      <td>2019-04-09 02:38:48+00:00</td>\n",
              "      <td>2019-04-09 03:04:08+00:00</td>\n",
              "      <td>1.270377</td>\n",
              "      <td>103.857875</td>\n",
              "      <td>1.446609</td>\n",
              "      <td>103.806354</td>\n",
              "      <td>2</td>\n",
              "      <td>1</td>\n",
              "      <td>0</td>\n",
              "      <td>1</td>\n",
              "      <td>0</td>\n",
              "      <td>0</td>\n",
              "      <td>0</td>\n",
              "      <td>0.500000</td>\n",
              "      <td>0.866025</td>\n",
              "      <td>0.781831</td>\n",
              "      <td>0.623490</td>\n",
              "      <td>20.403093</td>\n",
              "      <td>12.677028</td>\n",
              "      <td>-0.025486</td>\n",
              "      <td>-0.076384</td>\n",
              "      <td>0.041837</td>\n",
              "      <td>0.094437</td>\n",
              "    </tr>\n",
              "    <tr>\n",
              "      <th>1</th>\n",
              "      <td>1</td>\n",
              "      <td>1134</td>\n",
              "      <td>3</td>\n",
              "      <td>ios</td>\n",
              "      <td>1555057936</td>\n",
              "      <td>1.282591</td>\n",
              "      <td>103.851082</td>\n",
              "      <td>0.000000</td>\n",
              "      <td>96</td>\n",
              "      <td>30.000</td>\n",
              "      <td>2019-04-12 08:32:16+00:00</td>\n",
              "      <td>1158.0</td>\n",
              "      <td>2019-04-12 08:32:16+00:00</td>\n",
              "      <td>2019-04-12 08:51:34+00:00</td>\n",
              "      <td>1.282591</td>\n",
              "      <td>103.851082</td>\n",
              "      <td>1.332855</td>\n",
              "      <td>103.977278</td>\n",
              "      <td>8</td>\n",
              "      <td>4</td>\n",
              "      <td>0</td>\n",
              "      <td>1</td>\n",
              "      <td>0</td>\n",
              "      <td>0</td>\n",
              "      <td>0</td>\n",
              "      <td>0.866025</td>\n",
              "      <td>-0.500000</td>\n",
              "      <td>-0.433884</td>\n",
              "      <td>-0.900969</td>\n",
              "      <td>15.091547</td>\n",
              "      <td>9.376812</td>\n",
              "      <td>-0.017611</td>\n",
              "      <td>-0.064838</td>\n",
              "      <td>-0.138717</td>\n",
              "      <td>-0.003314</td>\n",
              "    </tr>\n",
              "    <tr>\n",
              "      <th>2</th>\n",
              "      <td>2</td>\n",
              "      <td>2067</td>\n",
              "      <td>4</td>\n",
              "      <td>android</td>\n",
              "      <td>1555152160</td>\n",
              "      <td>1.355363</td>\n",
              "      <td>103.863157</td>\n",
              "      <td>5.960000</td>\n",
              "      <td>217</td>\n",
              "      <td>3.900</td>\n",
              "      <td>2019-04-13 10:42:40+00:00</td>\n",
              "      <td>1366.0</td>\n",
              "      <td>2019-04-13 10:42:40+00:00</td>\n",
              "      <td>2019-04-13 11:05:26+00:00</td>\n",
              "      <td>1.355363</td>\n",
              "      <td>103.863157</td>\n",
              "      <td>1.343218</td>\n",
              "      <td>103.858504</td>\n",
              "      <td>10</td>\n",
              "      <td>5</td>\n",
              "      <td>1</td>\n",
              "      <td>0</td>\n",
              "      <td>0</td>\n",
              "      <td>0</td>\n",
              "      <td>1</td>\n",
              "      <td>0.500000</td>\n",
              "      <td>-0.866025</td>\n",
              "      <td>-0.974928</td>\n",
              "      <td>-0.222521</td>\n",
              "      <td>1.445192</td>\n",
              "      <td>0.897939</td>\n",
              "      <td>-0.023023</td>\n",
              "      <td>0.008731</td>\n",
              "      <td>-0.019494</td>\n",
              "      <td>-0.003787</td>\n",
              "    </tr>\n",
              "    <tr>\n",
              "      <th>3</th>\n",
              "      <td>3</td>\n",
              "      <td>2946</td>\n",
              "      <td>5</td>\n",
              "      <td>ios</td>\n",
              "      <td>1555724348</td>\n",
              "      <td>1.340301</td>\n",
              "      <td>103.775742</td>\n",
              "      <td>4.760463</td>\n",
              "      <td>91</td>\n",
              "      <td>6.000</td>\n",
              "      <td>2019-04-20 01:39:08+00:00</td>\n",
              "      <td>1328.0</td>\n",
              "      <td>2019-04-20 01:39:08+00:00</td>\n",
              "      <td>2019-04-20 02:01:16+00:00</td>\n",
              "      <td>1.340301</td>\n",
              "      <td>103.775742</td>\n",
              "      <td>1.303071</td>\n",
              "      <td>103.900220</td>\n",
              "      <td>1</td>\n",
              "      <td>5</td>\n",
              "      <td>1</td>\n",
              "      <td>0</td>\n",
              "      <td>0</td>\n",
              "      <td>0</td>\n",
              "      <td>0</td>\n",
              "      <td>0.258819</td>\n",
              "      <td>0.965926</td>\n",
              "      <td>-0.974928</td>\n",
              "      <td>-0.222521</td>\n",
              "      <td>14.434456</td>\n",
              "      <td>8.968542</td>\n",
              "      <td>0.062661</td>\n",
              "      <td>-0.014213</td>\n",
              "      <td>-0.064685</td>\n",
              "      <td>-0.039977</td>\n",
              "    </tr>\n",
              "    <tr>\n",
              "      <th>4</th>\n",
              "      <td>4</td>\n",
              "      <td>4107</td>\n",
              "      <td>8</td>\n",
              "      <td>android</td>\n",
              "      <td>1554967474</td>\n",
              "      <td>1.333936</td>\n",
              "      <td>103.953225</td>\n",
              "      <td>15.250000</td>\n",
              "      <td>318</td>\n",
              "      <td>4.288</td>\n",
              "      <td>2019-04-11 07:24:34+00:00</td>\n",
              "      <td>1210.0</td>\n",
              "      <td>2019-04-11 07:24:34+00:00</td>\n",
              "      <td>2019-04-11 07:44:44+00:00</td>\n",
              "      <td>1.333936</td>\n",
              "      <td>103.953225</td>\n",
              "      <td>1.309601</td>\n",
              "      <td>103.833983</td>\n",
              "      <td>7</td>\n",
              "      <td>3</td>\n",
              "      <td>0</td>\n",
              "      <td>1</td>\n",
              "      <td>0</td>\n",
              "      <td>0</td>\n",
              "      <td>0</td>\n",
              "      <td>0.965926</td>\n",
              "      <td>-0.258819</td>\n",
              "      <td>0.433884</td>\n",
              "      <td>-0.900969</td>\n",
              "      <td>13.520439</td>\n",
              "      <td>8.400637</td>\n",
              "      <td>-0.114666</td>\n",
              "      <td>-0.004423</td>\n",
              "      <td>0.001871</td>\n",
              "      <td>-0.039493</td>\n",
              "    </tr>\n",
              "  </tbody>\n",
              "</table>\n",
              "</div>"
            ],
            "text/plain": [
              "   Unnamed: 0  Unnamed: 0.1  trj_id  ... pickup_pca1  dropoff_pca0  dropoff_pca1\n",
              "0           0             0       2  ...   -0.076384      0.041837      0.094437\n",
              "1           1          1134       3  ...   -0.064838     -0.138717     -0.003314\n",
              "2           2          2067       4  ...    0.008731     -0.019494     -0.003787\n",
              "3           3          2946       5  ...   -0.014213     -0.064685     -0.039977\n",
              "4           4          4107       8  ...   -0.004423      0.001871     -0.039493\n",
              "\n",
              "[5 rows x 35 columns]"
            ]
          },
          "metadata": {
            "tags": []
          },
          "execution_count": 18
        }
      ]
    },
    {
      "cell_type": "code",
      "metadata": {
        "id": "vlDIByDjwH2a",
        "colab_type": "code",
        "colab": {}
      },
      "source": [
        "data = data.drop(['Unnamed: 0', 'Unnamed: 0.1', 'trj_id', 'osname', 'pingtimestamp', 'timestamp', 'latitude', 'longitude', 'speed', 'bearing', 'accuracy', 'pickup_time', 'dropoff_time', 'pickup_pca0', 'pickup_pca1', 'dropoff_pca0', 'dropoff_pca1'], axis=1)"
      ],
      "execution_count": 19,
      "outputs": []
    },
    {
      "cell_type": "code",
      "metadata": {
        "id": "e_LicIgZweDg",
        "colab_type": "code",
        "colab": {}
      },
      "source": [
        "data = data.drop(['is_weekend','is_weekday'], axis=1)"
      ],
      "execution_count": 20,
      "outputs": []
    },
    {
      "cell_type": "markdown",
      "metadata": {
        "id": "-IZ8aC2P7aE3",
        "colab_type": "text"
      },
      "source": [
        "#Modelling"
      ]
    },
    {
      "cell_type": "code",
      "metadata": {
        "id": "XNvmpN-aPvrU",
        "colab_type": "code",
        "colab": {}
      },
      "source": [
        "from sklearn.model_selection import train_test_split\n",
        "from sklearn.metrics import mean_squared_error\n",
        "from sklearn import preprocessing\n",
        "import xgboost as xgb\n",
        "import lightgbm as lgb\n",
        "import matplotlib.pyplot as plt\n",
        "import timeit"
      ],
      "execution_count": 21,
      "outputs": []
    },
    {
      "cell_type": "code",
      "metadata": {
        "id": "7pRzE2c37elv",
        "colab_type": "code",
        "colab": {
          "base_uri": "https://localhost:8080/",
          "height": 35
        },
        "outputId": "4853a14f-12b4-4dd0-9e68-239b823ae053"
      },
      "source": [
        "\"\"\"start = timeit.default_timer()\n",
        "main()\n",
        "end = timeit.default_timer()\n",
        "print(\"Time taken in seconds:{}\".format(end-start))\"\"\""
      ],
      "execution_count": 22,
      "outputs": [
        {
          "output_type": "execute_result",
          "data": {
            "text/plain": [
              "'start = timeit.default_timer()\\nmain()\\nend = timeit.default_timer()\\nprint(\"Time taken in seconds:{}\".format(end-start))'"
            ]
          },
          "metadata": {
            "tags": []
          },
          "execution_count": 22
        }
      ]
    },
    {
      "cell_type": "markdown",
      "metadata": {
        "id": "XJwR3-_KVJYF",
        "colab_type": "text"
      },
      "source": [
        "## DATA"
      ]
    },
    {
      "cell_type": "code",
      "metadata": {
        "id": "IQB7evswQaPl",
        "colab_type": "code",
        "colab": {
          "base_uri": "https://localhost:8080/",
          "height": 72
        },
        "outputId": "5505bc77-0150-4176-c3f6-714e4d6a25a3"
      },
      "source": [
        "data = data.sample(frac=1).reset_index(drop=True)\n",
        "\n",
        "train, test = train_test_split(data, test_size=0.5, train_size = 0.5)\n",
        "validate, test = train_test_split(test, test_size = 0.3, train_size = 0.7)\n",
        "print(len(train))\n",
        "print(len(validate))\n",
        "print(len(test))\n"
      ],
      "execution_count": 23,
      "outputs": [
        {
          "output_type": "stream",
          "text": [
            "13771\n",
            "9639\n",
            "4132\n"
          ],
          "name": "stdout"
        }
      ]
    },
    {
      "cell_type": "code",
      "metadata": {
        "id": "2stAobF9ZsIi",
        "colab_type": "code",
        "colab": {}
      },
      "source": [
        "X_train = train.drop(['travel_time'], axis=1)\n",
        "Y_train = train[\"travel_time\"]\n",
        "X_val = validate.drop(['travel_time'], axis=1)\n",
        "Y_val = validate[\"travel_time\"]\n",
        "X_test = test.drop(['travel_time'], axis=1)\n",
        "Y_test = test[\"travel_time\"]"
      ],
      "execution_count": 24,
      "outputs": []
    },
    {
      "cell_type": "markdown",
      "metadata": {
        "id": "8VeCLiUKZWkm",
        "colab_type": "text"
      },
      "source": [
        "## Linear Regression"
      ]
    },
    {
      "cell_type": "code",
      "metadata": {
        "id": "vPxNR-t9Bst0",
        "colab_type": "code",
        "colab": {
          "base_uri": "https://localhost:8080/",
          "height": 54
        },
        "outputId": "fcb7f407-96df-483c-83b9-f642698ff419"
      },
      "source": [
        "from sklearn.linear_model import LinearRegression\n",
        "\n",
        "start = timeit.default_timer()\n",
        "regressor = LinearRegression()  \n",
        "regressor.fit(X_train, Y_train) #training the algorithm\n",
        "end = timeit.default_timer()\n",
        "print(\"Time taken in seconds:{}\".format(end-start))\n",
        "\n",
        "y_pred = regressor.predict(X_test)\n",
        "mse = mean_squared_error(Y_test,y_pred)\n",
        "print(\"RMSE: %.2f\" % np.sqrt(mse))"
      ],
      "execution_count": 25,
      "outputs": [
        {
          "output_type": "stream",
          "text": [
            "Time taken in seconds:0.036615980000021864\n",
            "RMSE: 230.20\n"
          ],
          "name": "stdout"
        }
      ]
    },
    {
      "cell_type": "code",
      "metadata": {
        "id": "-0W5TzOJZmpx",
        "colab_type": "code",
        "colab": {
          "base_uri": "https://localhost:8080/",
          "height": 54
        },
        "outputId": "f255cfd8-4d51-4dff-de8e-0cc34760ffa0"
      },
      "source": [
        "from sklearn.linear_model import Lasso\n",
        "\n",
        "start = timeit.default_timer()\n",
        "clf = Lasso(alpha=0.1).fit(X_train,Y_train)\n",
        "end = timeit.default_timer()\n",
        "print(\"Time taken in seconds:{}\".format(end-start))\n",
        "\n",
        "pred = clf.predict(X_test)\n",
        "\n",
        "mse = mean_squared_error(Y_test,pred)\n",
        "print(\"RMSE: %.2f\" % np.sqrt(mse))"
      ],
      "execution_count": 26,
      "outputs": [
        {
          "output_type": "stream",
          "text": [
            "Time taken in seconds:0.014184096999997564\n",
            "RMSE: 230.27\n"
          ],
          "name": "stdout"
        }
      ]
    },
    {
      "cell_type": "code",
      "metadata": {
        "id": "sPjxUqjqaVB1",
        "colab_type": "code",
        "colab": {
          "base_uri": "https://localhost:8080/",
          "height": 54
        },
        "outputId": "6a197d3c-7ba6-4c67-d936-08239db542f1"
      },
      "source": [
        "from sklearn.linear_model import Ridge\n",
        "\n",
        "start = timeit.default_timer()\n",
        "rng = np.random.RandomState(0)\n",
        "clf = Ridge(alpha=1.0)\n",
        "clf.fit(X_train, Y_train)\n",
        "end = timeit.default_timer()\n",
        "print(\"Time taken in seconds:{}\".format(end-start))\n",
        "\n",
        "pred = clf.predict(X_test)\n",
        "\n",
        "mse = mean_squared_error(Y_test,pred)\n",
        "print(\"RMSE: %.2f\" % np.sqrt(mse))"
      ],
      "execution_count": 27,
      "outputs": [
        {
          "output_type": "stream",
          "text": [
            "Time taken in seconds:0.008959916000037538\n",
            "RMSE: 230.23\n"
          ],
          "name": "stdout"
        }
      ]
    },
    {
      "cell_type": "code",
      "metadata": {
        "id": "CTNfNrKsaaFS",
        "colab_type": "code",
        "colab": {
          "base_uri": "https://localhost:8080/",
          "height": 54
        },
        "outputId": "87856233-84f2-49aa-fad5-d0260ff0d426"
      },
      "source": [
        "from sklearn.neural_network import MLPRegressor\n",
        "\n",
        "start = timeit.default_timer()\n",
        "regr = MLPRegressor(random_state=1, max_iter=500).fit(X_train, Y_train)\n",
        "end = timeit.default_timer()\n",
        "print(\"Time taken in seconds:{}\".format(end-start))\n",
        "\n",
        "pred = regr.predict(X_test)\n",
        "\n",
        "mse = mean_squared_error(Y_test,pred)\n",
        "print(\"RMSE: %.2f\" % np.sqrt(mse))"
      ],
      "execution_count": 28,
      "outputs": [
        {
          "output_type": "stream",
          "text": [
            "Time taken in seconds:40.408112388000006\n",
            "RMSE: 221.57\n"
          ],
          "name": "stdout"
        }
      ]
    },
    {
      "cell_type": "code",
      "metadata": {
        "id": "hH8gL48-agvh",
        "colab_type": "code",
        "colab": {
          "base_uri": "https://localhost:8080/",
          "height": 54
        },
        "outputId": "3a47fa0c-7585-4668-e7b4-9df7076ab78f"
      },
      "source": [
        "from sklearn import tree\n",
        "start = timeit.default_timer()\n",
        "clf = tree.DecisionTreeClassifier().fit(X_train, Y_train)\n",
        "end = timeit.default_timer()\n",
        "print(\"Time taken in seconds:{}\".format(end-start))\n",
        "\n",
        "pred = clf.predict(X_test)\n",
        "\n",
        "mse = mean_squared_error(Y_test,pred)\n",
        "print(\"RMSE: %.2f\" % np.sqrt(mse))"
      ],
      "execution_count": 29,
      "outputs": [
        {
          "output_type": "stream",
          "text": [
            "Time taken in seconds:5.547856221000018\n",
            "RMSE: 302.59\n"
          ],
          "name": "stdout"
        }
      ]
    },
    {
      "cell_type": "code",
      "metadata": {
        "id": "J7HV4W4Gaoeg",
        "colab_type": "code",
        "colab": {
          "base_uri": "https://localhost:8080/",
          "height": 54
        },
        "outputId": "15df5a0c-4374-402e-c31b-7c695b498178"
      },
      "source": [
        "from sklearn.ensemble import RandomForestClassifier\n",
        "\n",
        "start = timeit.default_timer()\n",
        "clf = RandomForestClassifier(n_estimators=10)\n",
        "clf = clf.fit(X_train, Y_train)\n",
        "end = timeit.default_timer()\n",
        "print(\"Time taken in seconds:{}\".format(end-start))\n",
        "\n",
        "pred = clf.predict(X_test)\n",
        "\n",
        "mse = mean_squared_error(Y_test,pred)\n",
        "print(\"RMSE: %.2f\" % np.sqrt(mse))"
      ],
      "execution_count": 30,
      "outputs": [
        {
          "output_type": "stream",
          "text": [
            "Time taken in seconds:10.860441649999984\n",
            "RMSE: 308.17\n"
          ],
          "name": "stdout"
        }
      ]
    },
    {
      "cell_type": "code",
      "metadata": {
        "id": "N4tqS4vRauzb",
        "colab_type": "code",
        "colab": {
          "base_uri": "https://localhost:8080/",
          "height": 54
        },
        "outputId": "35b890d8-d552-4ada-e91a-82cd788eebcc"
      },
      "source": [
        "from sklearn import svm\n",
        "\n",
        "start = timeit.default_timer()\n",
        "regr = svm.SVR()\n",
        "regr.fit(X_train, Y_train)\n",
        "end = timeit.default_timer()\n",
        "print(\"Time taken in seconds:{}\".format(end-start))\n",
        "\n",
        "pred = regr.predict(X_test)\n",
        "\n",
        "mse = mean_squared_error(Y_test,pred)\n",
        "print(\"RMSE: %.2f\" % np.sqrt(mse))"
      ],
      "execution_count": 31,
      "outputs": [
        {
          "output_type": "stream",
          "text": [
            "Time taken in seconds:15.630175964999978\n",
            "RMSE: 263.32\n"
          ],
          "name": "stdout"
        }
      ]
    },
    {
      "cell_type": "code",
      "metadata": {
        "id": "mlmrdMpra0RV",
        "colab_type": "code",
        "colab": {}
      },
      "source": [
        ""
      ],
      "execution_count": 31,
      "outputs": []
    }
  ]
}