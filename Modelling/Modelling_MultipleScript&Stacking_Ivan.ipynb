{
  "nbformat": 4,
  "nbformat_minor": 0,
  "metadata": {
    "colab": {
      "name": "Modelling_MultipleScript&Stacking_Ivan.ipynb",
      "provenance": [],
      "collapsed_sections": []
    },
    "kernelspec": {
      "name": "python3",
      "display_name": "Python 3"
    }
  },
  "cells": [
    {
      "cell_type": "code",
      "metadata": {
        "id": "xBIRKDBnhIud",
        "colab_type": "code",
        "colab": {}
      },
      "source": [
        "import pandas as pd\n",
        "import numpy as np"
      ],
      "execution_count": 48,
      "outputs": []
    },
    {
      "cell_type": "code",
      "metadata": {
        "id": "wYMGNEMrhTbe",
        "colab_type": "code",
        "colab": {
          "base_uri": "https://localhost:8080/",
          "height": 34
        },
        "outputId": "929e49b5-eadd-467f-a906-dead88d648d8"
      },
      "source": [
        "from google.colab import drive\n",
        "drive.mount('/content/drive')"
      ],
      "execution_count": 49,
      "outputs": [
        {
          "output_type": "stream",
          "text": [
            "Drive already mounted at /content/drive; to attempt to forcibly remount, call drive.mount(\"/content/drive\", force_remount=True).\n"
          ],
          "name": "stdout"
        }
      ]
    },
    {
      "cell_type": "code",
      "metadata": {
        "id": "Tm9AUwh8hT__",
        "colab_type": "code",
        "colab": {}
      },
      "source": [
        "path = \"/content/drive/My Drive/Hackhathon 2020 Shared Drive/Dataset/SG_car_cleaned.csv\""
      ],
      "execution_count": 50,
      "outputs": []
    },
    {
      "cell_type": "code",
      "metadata": {
        "id": "G9iVIlO2hVf0",
        "colab_type": "code",
        "colab": {}
      },
      "source": [
        "data = pd.read_csv(path)"
      ],
      "execution_count": 51,
      "outputs": []
    },
    {
      "cell_type": "code",
      "metadata": {
        "id": "nrZDK3a0hW8k",
        "colab_type": "code",
        "colab": {}
      },
      "source": [
        "data = data.drop(['Unnamed: 0','Unnamed: 0.1', 'trj_id', 'osname', 'pingtimestamp', 'timestamp', 'latitude', 'longitude', 'speed', 'bearing', 'accuracy', 'pickup_time', 'dropoff_time'], axis=1)"
      ],
      "execution_count": 52,
      "outputs": []
    },
    {
      "cell_type": "code",
      "metadata": {
        "id": "A4i5eDKhWv5K",
        "colab_type": "code",
        "colab": {
          "base_uri": "https://localhost:8080/",
          "height": 422
        },
        "outputId": "e5b5675b-a7e4-4d0f-ef72-62851b916a01"
      },
      "source": [
        "data"
      ],
      "execution_count": 53,
      "outputs": [
        {
          "output_type": "execute_result",
          "data": {
            "text/html": [
              "<div>\n",
              "<style scoped>\n",
              "    .dataframe tbody tr th:only-of-type {\n",
              "        vertical-align: middle;\n",
              "    }\n",
              "\n",
              "    .dataframe tbody tr th {\n",
              "        vertical-align: top;\n",
              "    }\n",
              "\n",
              "    .dataframe thead th {\n",
              "        text-align: right;\n",
              "    }\n",
              "</style>\n",
              "<table border=\"1\" class=\"dataframe\">\n",
              "  <thead>\n",
              "    <tr style=\"text-align: right;\">\n",
              "      <th></th>\n",
              "      <th>travel_time</th>\n",
              "      <th>latitude_origin</th>\n",
              "      <th>longitude_origin</th>\n",
              "      <th>latitude_destination</th>\n",
              "      <th>longitude_destination</th>\n",
              "      <th>hour_of_day</th>\n",
              "      <th>day_of_week</th>\n",
              "      <th>is_weekend</th>\n",
              "      <th>is_weekday</th>\n",
              "      <th>is_wee_hours</th>\n",
              "      <th>is_rush_hours_morning</th>\n",
              "      <th>is_rush_hours_evening</th>\n",
              "      <th>sin_hour_of_day</th>\n",
              "      <th>cos_hour_of_day</th>\n",
              "      <th>sin_day_of_week</th>\n",
              "      <th>cos_day_of_week</th>\n",
              "      <th>haversine_km</th>\n",
              "      <th>haversine_m</th>\n",
              "      <th>pickup_pca0</th>\n",
              "      <th>pickup_pca1</th>\n",
              "      <th>dropoff_pca0</th>\n",
              "      <th>dropoff_pca1</th>\n",
              "    </tr>\n",
              "  </thead>\n",
              "  <tbody>\n",
              "    <tr>\n",
              "      <th>0</th>\n",
              "      <td>1520.0</td>\n",
              "      <td>1.270377</td>\n",
              "      <td>103.857875</td>\n",
              "      <td>1.446609</td>\n",
              "      <td>103.806354</td>\n",
              "      <td>2</td>\n",
              "      <td>1</td>\n",
              "      <td>0</td>\n",
              "      <td>1</td>\n",
              "      <td>0</td>\n",
              "      <td>0</td>\n",
              "      <td>0</td>\n",
              "      <td>5.000000e-01</td>\n",
              "      <td>0.866025</td>\n",
              "      <td>0.781831</td>\n",
              "      <td>0.623490</td>\n",
              "      <td>20.403093</td>\n",
              "      <td>12.677028</td>\n",
              "      <td>-0.025486</td>\n",
              "      <td>-0.076384</td>\n",
              "      <td>0.041837</td>\n",
              "      <td>0.094437</td>\n",
              "    </tr>\n",
              "    <tr>\n",
              "      <th>1</th>\n",
              "      <td>1158.0</td>\n",
              "      <td>1.282591</td>\n",
              "      <td>103.851082</td>\n",
              "      <td>1.332855</td>\n",
              "      <td>103.977278</td>\n",
              "      <td>8</td>\n",
              "      <td>4</td>\n",
              "      <td>0</td>\n",
              "      <td>1</td>\n",
              "      <td>0</td>\n",
              "      <td>0</td>\n",
              "      <td>0</td>\n",
              "      <td>8.660254e-01</td>\n",
              "      <td>-0.500000</td>\n",
              "      <td>-0.433884</td>\n",
              "      <td>-0.900969</td>\n",
              "      <td>15.091547</td>\n",
              "      <td>9.376812</td>\n",
              "      <td>-0.017611</td>\n",
              "      <td>-0.064838</td>\n",
              "      <td>-0.138717</td>\n",
              "      <td>-0.003314</td>\n",
              "    </tr>\n",
              "    <tr>\n",
              "      <th>2</th>\n",
              "      <td>1366.0</td>\n",
              "      <td>1.355363</td>\n",
              "      <td>103.863157</td>\n",
              "      <td>1.343218</td>\n",
              "      <td>103.858504</td>\n",
              "      <td>10</td>\n",
              "      <td>5</td>\n",
              "      <td>1</td>\n",
              "      <td>0</td>\n",
              "      <td>0</td>\n",
              "      <td>0</td>\n",
              "      <td>1</td>\n",
              "      <td>5.000000e-01</td>\n",
              "      <td>-0.866025</td>\n",
              "      <td>-0.974928</td>\n",
              "      <td>-0.222521</td>\n",
              "      <td>1.445192</td>\n",
              "      <td>0.897939</td>\n",
              "      <td>-0.023023</td>\n",
              "      <td>0.008731</td>\n",
              "      <td>-0.019494</td>\n",
              "      <td>-0.003787</td>\n",
              "    </tr>\n",
              "    <tr>\n",
              "      <th>3</th>\n",
              "      <td>1328.0</td>\n",
              "      <td>1.340301</td>\n",
              "      <td>103.775742</td>\n",
              "      <td>1.303071</td>\n",
              "      <td>103.900220</td>\n",
              "      <td>1</td>\n",
              "      <td>5</td>\n",
              "      <td>1</td>\n",
              "      <td>0</td>\n",
              "      <td>0</td>\n",
              "      <td>0</td>\n",
              "      <td>0</td>\n",
              "      <td>2.588190e-01</td>\n",
              "      <td>0.965926</td>\n",
              "      <td>-0.974928</td>\n",
              "      <td>-0.222521</td>\n",
              "      <td>14.434456</td>\n",
              "      <td>8.968542</td>\n",
              "      <td>0.062661</td>\n",
              "      <td>-0.014213</td>\n",
              "      <td>-0.064685</td>\n",
              "      <td>-0.039977</td>\n",
              "    </tr>\n",
              "    <tr>\n",
              "      <th>4</th>\n",
              "      <td>1210.0</td>\n",
              "      <td>1.333936</td>\n",
              "      <td>103.953225</td>\n",
              "      <td>1.309601</td>\n",
              "      <td>103.833983</td>\n",
              "      <td>7</td>\n",
              "      <td>3</td>\n",
              "      <td>0</td>\n",
              "      <td>1</td>\n",
              "      <td>0</td>\n",
              "      <td>0</td>\n",
              "      <td>0</td>\n",
              "      <td>9.659258e-01</td>\n",
              "      <td>-0.258819</td>\n",
              "      <td>0.433884</td>\n",
              "      <td>-0.900969</td>\n",
              "      <td>13.520439</td>\n",
              "      <td>8.400637</td>\n",
              "      <td>-0.114666</td>\n",
              "      <td>-0.004423</td>\n",
              "      <td>0.001871</td>\n",
              "      <td>-0.039493</td>\n",
              "    </tr>\n",
              "    <tr>\n",
              "      <th>...</th>\n",
              "      <td>...</td>\n",
              "      <td>...</td>\n",
              "      <td>...</td>\n",
              "      <td>...</td>\n",
              "      <td>...</td>\n",
              "      <td>...</td>\n",
              "      <td>...</td>\n",
              "      <td>...</td>\n",
              "      <td>...</td>\n",
              "      <td>...</td>\n",
              "      <td>...</td>\n",
              "      <td>...</td>\n",
              "      <td>...</td>\n",
              "      <td>...</td>\n",
              "      <td>...</td>\n",
              "      <td>...</td>\n",
              "      <td>...</td>\n",
              "      <td>...</td>\n",
              "      <td>...</td>\n",
              "      <td>...</td>\n",
              "      <td>...</td>\n",
              "      <td>...</td>\n",
              "    </tr>\n",
              "    <tr>\n",
              "      <th>27537</th>\n",
              "      <td>1112.0</td>\n",
              "      <td>1.396872</td>\n",
              "      <td>103.747718</td>\n",
              "      <td>1.319548</td>\n",
              "      <td>103.843496</td>\n",
              "      <td>22</td>\n",
              "      <td>0</td>\n",
              "      <td>0</td>\n",
              "      <td>1</td>\n",
              "      <td>0</td>\n",
              "      <td>0</td>\n",
              "      <td>0</td>\n",
              "      <td>-5.000000e-01</td>\n",
              "      <td>0.866025</td>\n",
              "      <td>0.000000</td>\n",
              "      <td>1.000000</td>\n",
              "      <td>13.676692</td>\n",
              "      <td>8.497722</td>\n",
              "      <td>0.095710</td>\n",
              "      <td>0.039577</td>\n",
              "      <td>-0.006699</td>\n",
              "      <td>-0.028723</td>\n",
              "    </tr>\n",
              "    <tr>\n",
              "      <th>27538</th>\n",
              "      <td>983.0</td>\n",
              "      <td>1.396533</td>\n",
              "      <td>103.747537</td>\n",
              "      <td>1.322236</td>\n",
              "      <td>103.841737</td>\n",
              "      <td>22</td>\n",
              "      <td>1</td>\n",
              "      <td>0</td>\n",
              "      <td>1</td>\n",
              "      <td>0</td>\n",
              "      <td>0</td>\n",
              "      <td>0</td>\n",
              "      <td>-5.000000e-01</td>\n",
              "      <td>0.866025</td>\n",
              "      <td>0.781831</td>\n",
              "      <td>0.623490</td>\n",
              "      <td>13.329784</td>\n",
              "      <td>8.282178</td>\n",
              "      <td>0.095859</td>\n",
              "      <td>0.039224</td>\n",
              "      <td>-0.004703</td>\n",
              "      <td>-0.026205</td>\n",
              "    </tr>\n",
              "    <tr>\n",
              "      <th>27539</th>\n",
              "      <td>1382.0</td>\n",
              "      <td>1.301317</td>\n",
              "      <td>103.899443</td>\n",
              "      <td>1.410657</td>\n",
              "      <td>103.778843</td>\n",
              "      <td>1</td>\n",
              "      <td>6</td>\n",
              "      <td>1</td>\n",
              "      <td>0</td>\n",
              "      <td>0</td>\n",
              "      <td>0</td>\n",
              "      <td>0</td>\n",
              "      <td>2.588190e-01</td>\n",
              "      <td>0.965926</td>\n",
              "      <td>-0.781831</td>\n",
              "      <td>0.623490</td>\n",
              "      <td>18.086938</td>\n",
              "      <td>11.237934</td>\n",
              "      <td>-0.064071</td>\n",
              "      <td>-0.041795</td>\n",
              "      <td>0.065966</td>\n",
              "      <td>0.056133</td>\n",
              "    </tr>\n",
              "    <tr>\n",
              "      <th>27540</th>\n",
              "      <td>1212.0</td>\n",
              "      <td>1.298612</td>\n",
              "      <td>103.853801</td>\n",
              "      <td>1.341311</td>\n",
              "      <td>103.981728</td>\n",
              "      <td>11</td>\n",
              "      <td>2</td>\n",
              "      <td>0</td>\n",
              "      <td>1</td>\n",
              "      <td>0</td>\n",
              "      <td>0</td>\n",
              "      <td>1</td>\n",
              "      <td>2.588190e-01</td>\n",
              "      <td>-0.965926</td>\n",
              "      <td>0.974928</td>\n",
              "      <td>-0.222521</td>\n",
              "      <td>14.983214</td>\n",
              "      <td>9.309501</td>\n",
              "      <td>-0.018864</td>\n",
              "      <td>-0.048636</td>\n",
              "      <td>-0.142380</td>\n",
              "      <td>0.005511</td>\n",
              "    </tr>\n",
              "    <tr>\n",
              "      <th>27541</th>\n",
              "      <td>1475.0</td>\n",
              "      <td>1.346787</td>\n",
              "      <td>103.984266</td>\n",
              "      <td>1.287678</td>\n",
              "      <td>103.845468</td>\n",
              "      <td>12</td>\n",
              "      <td>3</td>\n",
              "      <td>0</td>\n",
              "      <td>1</td>\n",
              "      <td>0</td>\n",
              "      <td>0</td>\n",
              "      <td>0</td>\n",
              "      <td>1.224647e-16</td>\n",
              "      <td>-1.000000</td>\n",
              "      <td>0.433884</td>\n",
              "      <td>-0.900969</td>\n",
              "      <td>16.760568</td>\n",
              "      <td>10.413822</td>\n",
              "      <td>-0.144410</td>\n",
              "      <td>0.011196</td>\n",
              "      <td>-0.011558</td>\n",
              "      <td>-0.060281</td>\n",
              "    </tr>\n",
              "  </tbody>\n",
              "</table>\n",
              "<p>27542 rows × 22 columns</p>\n",
              "</div>"
            ],
            "text/plain": [
              "       travel_time  latitude_origin  ...  dropoff_pca0  dropoff_pca1\n",
              "0           1520.0         1.270377  ...      0.041837      0.094437\n",
              "1           1158.0         1.282591  ...     -0.138717     -0.003314\n",
              "2           1366.0         1.355363  ...     -0.019494     -0.003787\n",
              "3           1328.0         1.340301  ...     -0.064685     -0.039977\n",
              "4           1210.0         1.333936  ...      0.001871     -0.039493\n",
              "...            ...              ...  ...           ...           ...\n",
              "27537       1112.0         1.396872  ...     -0.006699     -0.028723\n",
              "27538        983.0         1.396533  ...     -0.004703     -0.026205\n",
              "27539       1382.0         1.301317  ...      0.065966      0.056133\n",
              "27540       1212.0         1.298612  ...     -0.142380      0.005511\n",
              "27541       1475.0         1.346787  ...     -0.011558     -0.060281\n",
              "\n",
              "[27542 rows x 22 columns]"
            ]
          },
          "metadata": {
            "tags": []
          },
          "execution_count": 53
        }
      ]
    },
    {
      "cell_type": "markdown",
      "metadata": {
        "id": "6pyXMTnhhbJa",
        "colab_type": "text"
      },
      "source": [
        "# Model Check Script"
      ]
    },
    {
      "cell_type": "code",
      "metadata": {
        "id": "0bPTmcVZ1eFM",
        "colab_type": "code",
        "colab": {}
      },
      "source": [
        "def xgboost(X_train, Y_train, X_val, Y_val, X_test, Y_test):\n",
        "  dtrain = xgb.DMatrix(X_train, label=Y_train)\n",
        "  dvalid = xgb.DMatrix(X_val, label=Y_val)\n",
        "  dtest = xgb.DMatrix(X_test)\n",
        "  watchlist = [(dtrain, 'train'), (dvalid, 'valid')]\n",
        "\n",
        "  model1 = xgb.XGBRegressor(n_estimators = 4000, min_child_weight= 10,\n",
        "                          learning_rate=0.005, max_depth=10,\n",
        "                          colsample_bytree= 0.9,subsample= 0.9, nthread=-1, \n",
        "                          booster= 'gbtree', silent= 1,eval_metric= 'rmse', \n",
        "                          objective= 'reg:linear',early_stopping_rounds=40, \n",
        "                          maximize = False, verbose_eval=1)\n",
        "  model1.fit(X_train, Y_train)\n",
        "  y_pred1 = model1.predict(X_test)\n",
        "  mse = mean_squared_error(Y_test,y_pred1)\n",
        "  return np.sqrt(mse)"
      ],
      "execution_count": null,
      "outputs": []
    },
    {
      "cell_type": "markdown",
      "metadata": {
        "id": "xcqk3o-rxcAR",
        "colab_type": "text"
      },
      "source": [
        "XGBoost only Modeller Script"
      ]
    },
    {
      "cell_type": "code",
      "metadata": {
        "id": "5Q3G3KpwxCUD",
        "colab_type": "code",
        "colab": {}
      },
      "source": [
        "from sklearn.model_selection import train_test_split\n",
        "from sklearn.metrics import mean_squared_error\n",
        "from sklearn import preprocessing\n",
        "import xgboost as xgb\n",
        "\n",
        "def final_modeller(n_modelling,data):  \n",
        "  result_matrix = [0]*n_modelling\n",
        "\n",
        "  for i in range(n_modelling):\n",
        "    data = data.sample(frac=1).reset_index(drop=True)\n",
        "    train, test = train_test_split(data, test_size=0.3, train_size = 0.7, random_state = 11)\n",
        "    validate, test = train_test_split(test, test_size = 0.3, train_size = 0.7, random_state = 11)\n",
        "\n",
        "    train_scaled = preprocessing.scale(train[train.columns.difference(['travel_time'])])\n",
        "    X_train = train_scaled\n",
        "    Y_train = train[\"travel_time\"]\n",
        "    val_scaled = preprocessing.scale(validate[validate.columns.difference(['travel_time'])])\n",
        "    X_val = val_scaled\n",
        "    Y_val = validate[\"travel_time\"]\n",
        "    test_scaled = preprocessing.scale(test[test.columns.difference(['travel_time'])])\n",
        "    X_test = test_scaled\n",
        "    Y_test = test[\"travel_time\"]\n",
        "    xgbResult = xgboost(X_train, Y_train, X_val, Y_val, X_test, Y_test)\n",
        "    result_matrix[i] = xgbResult\n",
        "    print(\"Iteration \"+str(i)+\" = \" + str(xgbResult))\n",
        "\n",
        "  xgbAvg, xgbMin, xgbMax = 0, 1000, 0\n",
        "\n",
        "  for i in range(n_modelling):\n",
        "    xgbAvg += result_matrix[i]\n",
        "    if xgbMin > result_matrix[i]:\n",
        "      xgbMin = result_matrix[i]\n",
        "    if xgbMax < result_matrix[i]:\n",
        "      xgbMax = result_matrix[i]\n",
        "\n",
        "  xgbAvg = xgbAvg/n_modelling\n",
        "\n",
        "  print(\"The mean loss statistics for each model:\")\n",
        "  print(\"xgboost            : Max=\"+str(round(xgbMax,2))+\"; Min=\"+str(round(xgbMin,2))+\"; Avg=\"+str(round(xgbAvg)))\n",
        "  from google.colab import output\n",
        "  output.eval_js('new Audio(\"https://upload.wikimedia.org/wikipedia/commons/0/05/Beep-09.ogg\").play()')\n",
        "  return result_matrix"
      ],
      "execution_count": null,
      "outputs": []
    },
    {
      "cell_type": "code",
      "metadata": {
        "id": "MaBcewpn9FfI",
        "colab_type": "code",
        "colab": {
          "base_uri": "https://localhost:8080/",
          "height": 255
        },
        "outputId": "ac6d4581-3a06-4191-b5c2-3f157182ad3d"
      },
      "source": [
        "print(final_modeller(10, data))"
      ],
      "execution_count": null,
      "outputs": [
        {
          "output_type": "stream",
          "text": [
            "Iteration 10 = 200.0211390321384\n",
            "Iteration 10 = 197.02434573512394\n",
            "Iteration 10 = 198.71902529362916\n",
            "Iteration 10 = 194.15387007297826\n",
            "Iteration 10 = 200.0210170177251\n",
            "Iteration 10 = 202.57387003697156\n",
            "Iteration 10 = 192.2840865719062\n",
            "Iteration 10 = 198.78897679902366\n",
            "Iteration 10 = 194.20779586415205\n",
            "Iteration 10 = 203.6008435447858\n",
            "The mean loss statistics for each model:\n",
            "xgboost            : Max=203.6; Min=192.28; Avg=198.0\n",
            "[200.0211390321384, 197.02434573512394, 198.71902529362916, 194.15387007297826, 200.0210170177251, 202.57387003697156, 192.2840865719062, 198.78897679902366, 194.20779586415205, 203.6008435447858]\n"
          ],
          "name": "stdout"
        }
      ]
    },
    {
      "cell_type": "markdown",
      "metadata": {
        "id": "Kxfi3-jc0zHS",
        "colab_type": "text"
      },
      "source": [
        "## MODELLING"
      ]
    },
    {
      "cell_type": "code",
      "metadata": {
        "id": "nWR74P5wdAis",
        "colab_type": "code",
        "colab": {
          "base_uri": "https://localhost:8080/",
          "height": 67
        },
        "outputId": "9018df4f-3b77-4991-fe92-bb29e22a8d83"
      },
      "source": [
        "from sklearn.model_selection import train_test_split\n",
        "from sklearn.metrics import mean_squared_error\n",
        "\n",
        "data = data.sample(frac=1).reset_index(drop=True)\n",
        "train, test = train_test_split(data, test_size=0.3, train_size = 0.7, random_state = 11)\n",
        "validate, test = train_test_split(test, test_size = 0.3, train_size = 0.7, random_state = 11)\n",
        "print(len(train))\n",
        "print(len(validate))\n",
        "print(len(test))\n",
        "\n",
        "from sklearn import preprocessing\n",
        "train_scaled = preprocessing.scale(train[train.columns.difference(['travel_time'])])\n",
        "X_train = train_scaled\n",
        "Y_train = train[\"travel_time\"]\n",
        "val_scaled = preprocessing.scale(validate[validate.columns.difference(['travel_time'])])\n",
        "X_val = val_scaled\n",
        "Y_val = validate[\"travel_time\"]\n",
        "test_scaled = preprocessing.scale(test[test.columns.difference(['travel_time'])])\n",
        "X_test = test_scaled\n",
        "Y_test = test[\"travel_time\"]"
      ],
      "execution_count": 54,
      "outputs": [
        {
          "output_type": "stream",
          "text": [
            "19279\n",
            "5784\n",
            "2479\n"
          ],
          "name": "stdout"
        }
      ]
    },
    {
      "cell_type": "code",
      "metadata": {
        "id": "WdEuydWLhlck",
        "colab_type": "code",
        "colab": {
          "base_uri": "https://localhost:8080/",
          "height": 34
        },
        "outputId": "a09cd940-1c29-432a-85f2-8d9712937c2a"
      },
      "source": [
        "import timeit\n",
        "\"\"\"start = timeit.default_timer()\n",
        "main()\n",
        "end = timeit.default_timer()\n",
        "print(\"Time taken in seconds:{}\".format(end-start))\"\"\""
      ],
      "execution_count": 55,
      "outputs": [
        {
          "output_type": "execute_result",
          "data": {
            "text/plain": [
              "'start = timeit.default_timer()\\nmain()\\nend = timeit.default_timer()\\nprint(\"Time taken in seconds:{}\".format(end-start))'"
            ]
          },
          "metadata": {
            "tags": []
          },
          "execution_count": 55
        }
      ]
    },
    {
      "cell_type": "markdown",
      "metadata": {
        "id": "34WXsJHghqRU",
        "colab_type": "text"
      },
      "source": [
        "XGBoost"
      ]
    },
    {
      "cell_type": "code",
      "metadata": {
        "id": "rHFSIM2YhsTs",
        "colab_type": "code",
        "colab": {}
      },
      "source": [
        "import xgboost as xgb\n",
        "\n",
        "dtrain = xgb.DMatrix(X_train, label=Y_train)\n",
        "dvalid = xgb.DMatrix(X_val, label=Y_val)\n",
        "dtest = xgb.DMatrix(X_test)\n",
        "watchlist = [(dtrain, 'train'), (dvalid, 'valid')]"
      ],
      "execution_count": 57,
      "outputs": []
    },
    {
      "cell_type": "code",
      "metadata": {
        "id": "bgXAWtKVjCsG",
        "colab_type": "code",
        "colab": {}
      },
      "source": [
        "model1 = xgb.XGBRegressor(n_estimators = 4000, min_child_weight= 10,\n",
        "                          learning_rate=0.005, max_depth=10,\n",
        "                          colsample_bytree= 0.9,subsample= 0.9, nthread=-1, \n",
        "                          booster= 'gbtree', silent= 1,eval_metric= 'rmse', \n",
        "                          objective= 'reg:linear',early_stopping_rounds=40, \n",
        "                          maximize = False, verbose_eval=1)"
      ],
      "execution_count": 58,
      "outputs": []
    },
    {
      "cell_type": "code",
      "metadata": {
        "id": "wMZc_Z5NsfxO",
        "colab_type": "code",
        "colab": {
          "base_uri": "https://localhost:8080/",
          "height": 34
        },
        "outputId": "43c4b821-2877-4c56-b3db-bc5c7af7cd44"
      },
      "source": [
        "model1.fit(X_train, Y_train)\n",
        "y_pred1 = model1.predict(X_test)\n",
        "mse = mean_squared_error(Y_test,y_pred1)\n",
        "print(\"RMSE: %.2f\" % np.sqrt(mse))"
      ],
      "execution_count": 59,
      "outputs": [
        {
          "output_type": "stream",
          "text": [
            "RMSE: 194.74\n"
          ],
          "name": "stdout"
        }
      ]
    },
    {
      "cell_type": "code",
      "metadata": {
        "id": "N-CeBQtGKIqV",
        "colab_type": "code",
        "colab": {}
      },
      "source": [
        "import matplotlib.pyplot as plt\n",
        "fig, axs = plt.subplots(1, 2, figsize=[15, 4])\n",
        "\n",
        "# Plot the log loss during training\n",
        "axs[0].plot(evaluation_results['Train']['rmse'], label='Train')\n",
        "axs[0].plot(evaluation_results['Valid']['rmse'], label='Valid')\n",
        "axs[0].set_ylabel('RMSE')\n",
        "axs[0].set_xlabel('Boosting round')\n",
        "axs[0].set_title('Training performance')\n",
        "axs[0].legend()\n",
        "\n",
        "plt.show()"
      ],
      "execution_count": null,
      "outputs": []
    },
    {
      "cell_type": "markdown",
      "metadata": {
        "id": "m-AgQV8y11dg",
        "colab_type": "text"
      },
      "source": [
        "LightGBM"
      ]
    },
    {
      "cell_type": "code",
      "metadata": {
        "id": "MBiURcgpjV4D",
        "colab_type": "code",
        "colab": {}
      },
      "source": [
        "import lightgbm as lgb\n",
        "\n",
        "d_train = lgb.Dataset(X_train, label=Y_train)\n",
        "d_valid = lgb.Dataset(X_val, label=Y_val)"
      ],
      "execution_count": null,
      "outputs": []
    },
    {
      "cell_type": "code",
      "metadata": {
        "id": "otftXKOtj2Nj",
        "colab_type": "code",
        "colab": {}
      },
      "source": [
        "model2 = lgb.LGBMRegressor(learning_rate=0.005,boosting_type=\"gbdt\",\n",
        "                           sub_feature=0.9,objective = \"regression\",\n",
        "                           num_leaves=20,min_data = 22,max_depth=10,max_bin=10,\n",
        "                           n_estimators = 4000)"
      ],
      "execution_count": 64,
      "outputs": []
    },
    {
      "cell_type": "code",
      "metadata": {
        "id": "S1M7jmbjGOEp",
        "colab_type": "code",
        "colab": {
          "base_uri": "https://localhost:8080/",
          "height": 34
        },
        "outputId": "ff94820c-479d-48ec-a21b-c190d5103216"
      },
      "source": [
        "model2.fit(X_train, Y_train)\n",
        "y_pred2 = model2.predict(X_test)\n",
        "mse = mean_squared_error(Y_test,y_pred2)\n",
        "print(\"RMSE: %.2f\" % np.sqrt(mse))"
      ],
      "execution_count": 65,
      "outputs": [
        {
          "output_type": "stream",
          "text": [
            "RMSE: 202.84\n"
          ],
          "name": "stdout"
        }
      ]
    },
    {
      "cell_type": "markdown",
      "metadata": {
        "id": "x4QH4Qql16jr",
        "colab_type": "text"
      },
      "source": [
        "Stacking XGBoost & LightGBM"
      ]
    },
    {
      "cell_type": "code",
      "metadata": {
        "id": "iemWg6m7-Upd",
        "colab_type": "code",
        "colab": {}
      },
      "source": [
        "from sklearn.ensemble import VotingRegressor"
      ],
      "execution_count": null,
      "outputs": []
    },
    {
      "cell_type": "code",
      "metadata": {
        "id": "KZWUlnwwknf0",
        "colab_type": "code",
        "colab": {}
      },
      "source": [
        "estimators = [(\"xgb\", model1), (\"lgbm\", model2)]\n",
        "\n",
        "model = VotingRegressor(estimators=estimators)"
      ],
      "execution_count": 71,
      "outputs": []
    },
    {
      "cell_type": "code",
      "metadata": {
        "id": "nTbM6v4OlKtL",
        "colab_type": "code",
        "colab": {
          "base_uri": "https://localhost:8080/",
          "height": 470
        },
        "outputId": "1107ba65-6eeb-4171-90f1-a3728667c087"
      },
      "source": [
        "model.fit(X_train, Y_train)"
      ],
      "execution_count": 72,
      "outputs": [
        {
          "output_type": "execute_result",
          "data": {
            "text/plain": [
              "VotingRegressor(estimators=[('xgb',\n",
              "                             XGBRegressor(base_score=0.5, booster='gbtree',\n",
              "                                          colsample_bylevel=1,\n",
              "                                          colsample_bynode=1,\n",
              "                                          colsample_bytree=0.9,\n",
              "                                          early_stopping_rounds=40,\n",
              "                                          eval_metric='rmse', gamma=0,\n",
              "                                          importance_type='gain',\n",
              "                                          learning_rate=0.005, max_delta_step=0,\n",
              "                                          max_depth=10, maximize=False,\n",
              "                                          min_child_weight=10, missing=None,\n",
              "                                          n_estimators=4000, n_jobs=1,\n",
              "                                          nthread=-1...\n",
              "                                           importance_type='split',\n",
              "                                           learning_rate=0.005, max_bin=10,\n",
              "                                           max_depth=10, min_child_samples=20,\n",
              "                                           min_child_weight=0.001, min_data=22,\n",
              "                                           min_split_gain=0.0,\n",
              "                                           n_estimators=4000, n_jobs=-1,\n",
              "                                           num_leaves=20,\n",
              "                                           objective='regression',\n",
              "                                           random_state=None, reg_alpha=0.0,\n",
              "                                           reg_lambda=0.0, silent=True,\n",
              "                                           sub_feature=0.9, subsample=1.0,\n",
              "                                           subsample_for_bin=200000,\n",
              "                                           subsample_freq=0))],\n",
              "                n_jobs=None, weights=None)"
            ]
          },
          "metadata": {
            "tags": []
          },
          "execution_count": 72
        }
      ]
    },
    {
      "cell_type": "code",
      "metadata": {
        "id": "6sH6p-h9Ekta",
        "colab_type": "code",
        "colab": {
          "base_uri": "https://localhost:8080/",
          "height": 34
        },
        "outputId": "90698127-8b5e-4c27-e4e8-68022bf22f14"
      },
      "source": [
        "y_pred = model.predict(X_test)\n",
        "mse = mean_squared_error(Y_test,y_pred)\n",
        "print(\"RMSE: %.2f\" % np.sqrt(mse))"
      ],
      "execution_count": 73,
      "outputs": [
        {
          "output_type": "stream",
          "text": [
            "RMSE: 195.72\n"
          ],
          "name": "stdout"
        }
      ]
    },
    {
      "cell_type": "code",
      "metadata": {
        "id": "MPqQX5_1ACxk",
        "colab_type": "code",
        "colab": {}
      },
      "source": [
        "from google.colab import output\n",
        "output.eval_js('new Audio(\"https://upload.wikimedia.org/wikipedia/commons/0/05/Beep-09.ogg\").play()')"
      ],
      "execution_count": 74,
      "outputs": []
    },
    {
      "cell_type": "markdown",
      "metadata": {
        "id": "n9GcmorYUNGP",
        "colab_type": "text"
      },
      "source": [
        "Iteration 1 = 200.0211390321384\n",
        "\n",
        "Iteration 2 = 197.02434573512394\n",
        "\n",
        "Iteration 3 = 198.71902529362916\n",
        "\n",
        "Iteration 4 = 194.15387007297826\n",
        "\n",
        "Iteration 5 = 200.0210170177251\n",
        "\n",
        "Iteration 6 = 202.57387003697156\n",
        "\n",
        "Iteration 7 = 192.2840865719062\n",
        "\n",
        "Iteration 8 = 198.78897679902366\n",
        "\n",
        "Iteration 9 = 194.20779586415205\n",
        "\n",
        "Iteration 10 = 203.6008435447858\n",
        "\n",
        "The mean loss statistics for each model:\n",
        "\n",
        "xgboost            : Max=203.6; Min=192.28; Avg=198.0\n",
        "[200.0211390321384, 197.02434573512394, 198.71902529362916, 194.15387007297826, 200.0210170177251, 202.57387003697156, 192.2840865719062, 198.78897679902366, 194.20779586415205, 203.6008435447858]"
      ]
    }
  ]
}