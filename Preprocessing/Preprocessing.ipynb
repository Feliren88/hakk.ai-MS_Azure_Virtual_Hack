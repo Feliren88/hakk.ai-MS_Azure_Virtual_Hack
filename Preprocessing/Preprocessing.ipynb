{
  "nbformat": 4,
  "nbformat_minor": 0,
  "metadata": {
    "colab": {
      "name": "Preprocessing.ipynb",
      "provenance": [],
      "collapsed_sections": [],
      "toc_visible": true,
      "machine_shape": "hm"
    },
    "kernelspec": {
      "name": "python3",
      "display_name": "Python 3"
    },
    "accelerator": "GPU"
  },
  "cells": [
    {
      "cell_type": "markdown",
      "metadata": {
        "id": "0ElWHCvOhCAx",
        "colab_type": "text"
      },
      "source": [
        "#Load Dataset"
      ]
    },
    {
      "cell_type": "code",
      "metadata": {
        "id": "EsvVbDjIC46R",
        "colab_type": "code",
        "colab": {
          "base_uri": "https://localhost:8080/",
          "height": 129
        },
        "outputId": "cb7a79d9-d1e6-42f8-c3cc-8fc23fdc7bac"
      },
      "source": [
        "from google.colab import drive\n",
        "drive.mount('/content/drive')"
      ],
      "execution_count": 1,
      "outputs": [
        {
          "output_type": "stream",
          "text": [
            "Go to this URL in a browser: https://accounts.google.com/o/oauth2/auth?client_id=947318989803-6bn6qk8qdgf4n4g3pfee6491hc0brc4i.apps.googleusercontent.com&redirect_uri=urn%3aietf%3awg%3aoauth%3a2.0%3aoob&response_type=code&scope=email%20https%3a%2f%2fwww.googleapis.com%2fauth%2fdocs.test%20https%3a%2f%2fwww.googleapis.com%2fauth%2fdrive%20https%3a%2f%2fwww.googleapis.com%2fauth%2fdrive.photos.readonly%20https%3a%2f%2fwww.googleapis.com%2fauth%2fpeopleapi.readonly\n",
            "\n",
            "Enter your authorization code:\n",
            "··········\n",
            "Mounted at /content/drive\n"
          ],
          "name": "stdout"
        }
      ]
    },
    {
      "cell_type": "code",
      "metadata": {
        "id": "qX5jLLwlai_B",
        "colab_type": "code",
        "colab": {}
      },
      "source": [
        "import pandas as pd\n",
        "import numpy as np\n",
        "import pyarrow.parquet as pq"
      ],
      "execution_count": null,
      "outputs": []
    },
    {
      "cell_type": "code",
      "metadata": {
        "id": "lzT-f3EPSysz",
        "colab_type": "code",
        "colab": {}
      },
      "source": [
        "dataset_SG = pq.ParquetDataset('Data/city=Singapore')"
      ],
      "execution_count": null,
      "outputs": []
    },
    {
      "cell_type": "code",
      "metadata": {
        "id": "MY3HOEp7sGRK",
        "colab_type": "code",
        "colab": {}
      },
      "source": [
        "dataset_SG = dataset_SG.read()\n",
        "dataset_SG = dataset_SG.to_pandas()"
      ],
      "execution_count": null,
      "outputs": []
    },
    {
      "cell_type": "markdown",
      "metadata": {
        "id": "6eBi0HcdvWQO",
        "colab_type": "text"
      },
      "source": [
        "# SG dataset preprocess"
      ]
    },
    {
      "cell_type": "code",
      "metadata": {
        "id": "q2Jf4MLb-x7P",
        "colab_type": "code",
        "colab": {}
      },
      "source": [
        "dataset_SG['timestamp'] = pd.to_datetime(dataset_SG['pingtimestamp'], unit='s')\n",
        "dataset_SG['timestamp'] = pd.DatetimeIndex(dataset_SG.timestamp)\n",
        "SG_car = dataset_SG.drop(columns=['driving_mode'])\n",
        "del dataset_SG\n",
        "\n",
        "SG_car['trj_id'] = SG_car['trj_id'].astype('int')\n",
        "SG_car = SG_car.sort_values(by=['trj_id', 'timestamp'])\n",
        "\n",
        "# get the travel time by substracting difference in first pingtimestamp with the last pingtimestamp for each trajectory ID\n",
        "SG_car['travel_time'] = SG_car.groupby(['trj_id']).timestamp.transform(lambda x: x.max() - x.min()).astype('timedelta64[s]')\n",
        "SG_car['pickup_time'] = SG_car.groupby(['trj_id']).timestamp.transform(lambda x: x.min())\n",
        "SG_car['dropoff_time'] = SG_car.groupby(['trj_id']).timestamp.transform(lambda x: x.max())"
      ],
      "execution_count": null,
      "outputs": []
    },
    {
      "cell_type": "code",
      "metadata": {
        "id": "rI17gL5DRU2P",
        "colab_type": "code",
        "colab": {
          "base_uri": "https://localhost:8080/",
          "height": 35
        },
        "outputId": "8464264d-4b43-438c-bf75-e9a199470780"
      },
      "source": [
        "# collect garbage, run when RAM is almost full or just need to clear up RAM\n",
        "import gc\n",
        "gc.collect()"
      ],
      "execution_count": null,
      "outputs": [
        {
          "output_type": "execute_result",
          "data": {
            "text/plain": [
              "0"
            ]
          },
          "metadata": {
            "tags": []
          },
          "execution_count": 13
        }
      ]
    },
    {
      "cell_type": "code",
      "metadata": {
        "id": "4eF7PJQBNDD1",
        "colab_type": "code",
        "colab": {}
      },
      "source": [
        "def extractCoordinateAndUpdateDF(df, variable_name, timestamp_col, coordinate_component):\n",
        "#Create new column containing a coordinate component of geolocation at a certain timestamp\n",
        "    coord_series = df.groupby(['trj_id']).apply(lambda x: x[x['timestamp'] == x[timestamp_col]][coordinate_component])\n",
        "    coord_series = coord_series.reset_index().set_index('level_1')\n",
        "    df_update = df.merge(coord_series, how='left', left_on='trj_id', right_on='trj_id', suffixes=['', '_{}'.format(variable_name)])\n",
        "    return df_update"
      ],
      "execution_count": null,
      "outputs": []
    },
    {
      "cell_type": "code",
      "metadata": {
        "id": "kg8Ccv9cq5Xv",
        "colab_type": "code",
        "colab": {}
      },
      "source": [
        "SG_car = SG_car.rename(columns={'rawlat': 'latitude', 'rawlng': 'longitude'})"
      ],
      "execution_count": null,
      "outputs": []
    },
    {
      "cell_type": "code",
      "metadata": {
        "id": "QIrjH1uyE-YE",
        "colab_type": "code",
        "colab": {}
      },
      "source": [
        "# create and merge pickup latitude into SG_car\n",
        "SG_car = extractCoordinateAndUpdateDF(SG_car, 'origin', 'pickup_time', 'latitude')\n",
        "# create and merge pickup longitude into SG_car\n",
        "SG_car = extractCoordinateAndUpdateDF(SG_car, 'origin', 'pickup_time', 'longitude')\n",
        "# add drop off latitude\n",
        "SG_car = extractCoordinateAndUpdateDF(SG_car, 'destination', 'dropoff_time', 'latitude')\n",
        "# add drop off longitude\n",
        "SG_car = extractCoordinateAndUpdateDF(SG_car, 'destination', 'dropoff_time', 'longitude')"
      ],
      "execution_count": null,
      "outputs": []
    },
    {
      "cell_type": "code",
      "metadata": {
        "id": "SZL-52Plnzzu",
        "colab_type": "code",
        "colab": {}
      },
      "source": [
        "SG_car = SG_car.reset_index()\n",
        "SG_car = SG_car.drop(labels=['index'], axis=1)"
      ],
      "execution_count": null,
      "outputs": []
    },
    {
      "cell_type": "markdown",
      "metadata": {
        "id": "OsrgLL0nkKwu",
        "colab_type": "text"
      },
      "source": [
        "# Time-based features"
      ]
    },
    {
      "cell_type": "code",
      "metadata": {
        "id": "vvYUohHBm3_Z",
        "colab_type": "code",
        "colab": {}
      },
      "source": [
        "SG_car = SG_car.drop_duplicates(subset=['trj_id', 'pickup_time'], keep='first')\n",
        "\n",
        "# add pickup_hour and pickup_day column\n",
        "SG_car['hour_of_day'] = SG_car['pickup_time'].dt.hour\n",
        "SG_car['day_of_week'] = SG_car['pickup_time'].dt.dayofweek\n",
        "\n",
        "SG_car['is_weekend'] = np.where(SG_car['day_of_week'].isin([5,6]), 1, 0)\n",
        "SG_car['is_weekday'] = np.where(SG_car['day_of_week'].isin([5,6]), 0, 1)\n",
        "\n",
        "\"\"\"\n",
        "Wee hours = 1 AM - 5 AM SGT. \n",
        "So, it will be 5 PM - 9 PM UTC\n",
        "\"\"\"\n",
        "SG_car['is_wee_hours'] = np.where(SG_car['hour_of_day'].isin([17,18,19,20,21]), 1, 0)\n",
        "\n",
        "\"\"\"\n",
        "Rush hour = 7.30 AM - 9.30 AM SGT or 5 PM - 8 PM SGT. \n",
        "So, it will be 11.30 PM - 1.30 AM UTC or 9 AM - 12 PM UTC\n",
        "\"\"\"\n",
        "SG_car['is_rush_hours_morning'] = np.where(SG_car.timestamp.dt.strftime('%H:%M:%S').between('23:30:00', '01:30:00'), 1, 0)\n",
        "SG_car['is_rush_hours_evening'] = np.where(SG_car.timestamp.dt.strftime('%H:%M:%S').between('09:00:00', '12:00:00'), 1, 0)"
      ],
      "execution_count": null,
      "outputs": []
    },
    {
      "cell_type": "markdown",
      "metadata": {
        "id": "GUhG7n5OvmQm",
        "colab_type": "text"
      },
      "source": [
        "# Hour and day to cyclical data\n",
        "we will use sin and cos function to model the time and day into a continuos cyclical cycle."
      ]
    },
    {
      "cell_type": "code",
      "metadata": {
        "id": "QCBKUmtswaxT",
        "colab_type": "code",
        "colab": {}
      },
      "source": [
        "SG_car['sin_hour_of_day'] = np.sin(2*np.pi*SG_car['hour_of_day']/24)\n",
        "SG_car['cos_hour_of_day'] = np.cos(2*np.pi*SG_car['hour_of_day']/24)\n",
        "SG_car['sin_day_of_week'] = np.sin(2*np.pi*SG_car['day_of_week']/7)\n",
        "SG_car['cos_day_of_week'] = np.cos(2*np.pi*SG_car['day_of_week']/7)"
      ],
      "execution_count": null,
      "outputs": []
    },
    {
      "cell_type": "markdown",
      "metadata": {
        "id": "a8GGT6Y1mD8M",
        "colab_type": "text"
      },
      "source": [
        "# Location-based feature"
      ]
    },
    {
      "cell_type": "code",
      "metadata": {
        "id": "_vvTb2emkZ83",
        "colab_type": "code",
        "colab": {}
      },
      "source": [
        "def haversine_km(lon1, lat1, lon2, lat2):\n",
        "    \"\"\"\n",
        "    Calculate the great circle distance between two points\n",
        "    on the earth (specified in decimal degrees)\n",
        "\n",
        "    All args must be of equal length.    \n",
        "\n",
        "    \"\"\"\n",
        "    lon1, lat1, lon2, lat2 = map(np.radians, [lon1, lat1, lon2, lat2])\n",
        "\n",
        "    dlon = lon2 - lon1\n",
        "    dlat = lat2 - lat1\n",
        "\n",
        "    a = np.sin(dlat/2.0)**2 + np.cos(lat1) * np.cos(lat2) * np.sin(dlon/2.0)**2\n",
        "\n",
        "    c = 2 * np.arcsin(np.sqrt(a))\n",
        "    km = 6367 * c\n",
        "    return km\n",
        "\n",
        "def haversine_m(lon1, lat1, lon2, lat2):\n",
        "    \"\"\"\n",
        "    Calculate the great circle distance between two points\n",
        "    on the earth (specified in decimal degrees)\n",
        "\n",
        "    All args must be of equal length.    \n",
        "\n",
        "    \"\"\"\n",
        "    lon1, lat1, lon2, lat2 = map(np.radians, [lon1, lat1, lon2, lat2])\n",
        "\n",
        "    dlon = lon2 - lon1\n",
        "    dlat = lat2 - lat1\n",
        "\n",
        "    a = np.sin(dlat/2.0)**2 + np.cos(lat1) * np.cos(lat2) * np.sin(dlon/2.0)**2\n",
        "\n",
        "    c = 2 * np.arcsin(np.sqrt(a))\n",
        "    m = 3956 * c\n",
        "    return m\n",
        "\n",
        "SG_car['haversine_km'] = haversine_km(SG_car['longitude_origin'], SG_car['latitude_origin'], \n",
        "                                 SG_car['longitude_destination'], SG_car['latitude_destination'])\n",
        "\n",
        "SG_car['haversine_m'] = haversine_m(SG_car['longitude_origin'], SG_car['latitude_origin'], \n",
        "                                 SG_car['longitude_destination'], SG_car['latitude_destination'])"
      ],
      "execution_count": null,
      "outputs": []
    },
    {
      "cell_type": "code",
      "metadata": {
        "id": "lvOHYVH46via",
        "colab_type": "code",
        "colab": {}
      },
      "source": [
        "SG_car.to_csv(\"Dataset/SG_car.csv\")"
      ],
      "execution_count": null,
      "outputs": []
    },
    {
      "cell_type": "code",
      "metadata": {
        "id": "800QxS2WvRxe",
        "colab_type": "code",
        "colab": {}
      },
      "source": [
        ""
      ],
      "execution_count": null,
      "outputs": []
    }
  ]
}