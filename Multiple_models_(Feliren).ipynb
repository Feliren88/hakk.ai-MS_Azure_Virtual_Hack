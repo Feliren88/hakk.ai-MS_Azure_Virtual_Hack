{
  "nbformat": 4,
  "nbformat_minor": 0,
  "metadata": {
    "colab": {
      "name": "Multiple_models_(Feliren).ipynb",
      "provenance": [],
      "collapsed_sections": [],
      "machine_shape": "hm"
    },
    "kernelspec": {
      "name": "python3",
      "display_name": "Python 3"
    },
    "accelerator": "GPU"
  },
  "cells": [
    {
      "cell_type": "code",
      "metadata": {
        "id": "kSRahSZlSTJG",
        "colab_type": "code",
        "outputId": "a9bc8ca1-8a0a-4bc3-8b75-9dc357238741",
        "colab": {
          "base_uri": "https://localhost:8080/",
          "height": 130
        }
      },
      "source": [
        "from google.colab import drive\n",
        "drive.mount('/content/drive')"
      ],
      "execution_count": 1,
      "outputs": [
        {
          "output_type": "stream",
          "text": [
            "Go to this URL in a browser: https://accounts.google.com/o/oauth2/auth?client_id=947318989803-6bn6qk8qdgf4n4g3pfee6491hc0brc4i.apps.googleusercontent.com&redirect_uri=urn%3aietf%3awg%3aoauth%3a2.0%3aoob&response_type=code&scope=email%20https%3a%2f%2fwww.googleapis.com%2fauth%2fdocs.test%20https%3a%2f%2fwww.googleapis.com%2fauth%2fdrive%20https%3a%2f%2fwww.googleapis.com%2fauth%2fdrive.photos.readonly%20https%3a%2f%2fwww.googleapis.com%2fauth%2fpeopleapi.readonly\n",
            "\n",
            "Enter your authorization code:\n",
            "··········\n",
            "Mounted at /content/drive\n"
          ],
          "name": "stdout"
        }
      ]
    },
    {
      "cell_type": "code",
      "metadata": {
        "id": "vUAjvnNmSL2k",
        "colab_type": "code",
        "colab": {}
      },
      "source": [
        "import pandas as pd\n",
        "import matplotlib.pyplot as plt\n",
        "import numpy as np\n",
        "import pyarrow.parquet as pq"
      ],
      "execution_count": 0,
      "outputs": []
    },
    {
      "cell_type": "code",
      "metadata": {
        "id": "syclMGAEzvL5",
        "colab_type": "code",
        "colab": {}
      },
      "source": [
        "import requests"
      ],
      "execution_count": 0,
      "outputs": []
    },
    {
      "cell_type": "code",
      "metadata": {
        "id": "OUGKXJvw_rRK",
        "colab_type": "code",
        "colab": {}
      },
      "source": [
        "# download dataset from google drive\n",
        "def get_confirm_token(response):\n",
        "    for key, value in response.cookies.items():\n",
        "        if key.startswith('download_warning'):\n",
        "            return value\n",
        "\n",
        "    return None\n",
        "\n",
        "def save_response_content(response, destination):\n",
        "    CHUNK_SIZE = 32768\n",
        "\n",
        "    with open(destination, \"wb\") as f:\n",
        "        for chunk in response.iter_content(CHUNK_SIZE):\n",
        "            if chunk: # filter out keep-alive new chunks\n",
        "                f.write(chunk)\n",
        "\n",
        "def download_file_from_google_drive(id, destination):\n",
        "    URL = \"https://docs.google.com/uc?export=download\"\n",
        "\n",
        "    session = requests.Session()\n",
        "\n",
        "    response = session.get(URL, params = { 'id' : id }, stream = True)\n",
        "    token = get_confirm_token(response)\n",
        "\n",
        "    if token:\n",
        "        params = { 'id' : id, 'confirm' : token }\n",
        "        response = session.get(URL, params = params, stream = True)\n",
        "\n",
        "    save_response_content(response, destination)    "
      ],
      "execution_count": 0,
      "outputs": []
    },
    {
      "cell_type": "code",
      "metadata": {
        "id": "88rEKQn1zvOn",
        "colab_type": "code",
        "colab": {}
      },
      "source": [
        "url_sg = \"https://drive.google.com/open?id=1NVglfRzNxXI5VZ-HSxqAQWIxicrUFa1i\"\n",
        "file_id = '1NVglfRzNxXI5VZ-HSxqAQWIxicrUFa1i'\n",
        "destinationSG = '/content/grab-posis-city=Singapore.zip'"
      ],
      "execution_count": 0,
      "outputs": []
    },
    {
      "cell_type": "code",
      "metadata": {
        "id": "Bc7yggfq7JIu",
        "colab_type": "code",
        "colab": {}
      },
      "source": [
        "download_file_from_google_drive(file_id, destinationSG)"
      ],
      "execution_count": 0,
      "outputs": []
    },
    {
      "cell_type": "code",
      "metadata": {
        "id": "tJMS9H-_vypU",
        "colab_type": "code",
        "colab": {}
      },
      "source": [
        "import zipfile\n",
        "directorySG = destinationSG"
      ],
      "execution_count": 0,
      "outputs": []
    },
    {
      "cell_type": "code",
      "metadata": {
        "id": "yl-T3bezvyoS",
        "colab_type": "code",
        "colab": {}
      },
      "source": [
        "zip_ref = zipfile.ZipFile(directorySG, 'r')\n",
        "zip_ref.extractall(\"/tmp\")\n",
        "zip_ref.close()"
      ],
      "execution_count": 0,
      "outputs": []
    },
    {
      "cell_type": "markdown",
      "metadata": {
        "id": "0ElWHCvOhCAx",
        "colab_type": "text"
      },
      "source": [
        "#Load Dataset"
      ]
    },
    {
      "cell_type": "code",
      "metadata": {
        "id": "lzT-f3EPSysz",
        "colab_type": "code",
        "colab": {}
      },
      "source": [
        "dataset_SG = pq.ParquetDataset('/tmp/city=Singapore')\n",
        "dataset_SG = dataset_SG.read()\n",
        "dataset_SG = dataset_SG.to_pandas()"
      ],
      "execution_count": 0,
      "outputs": []
    },
    {
      "cell_type": "markdown",
      "metadata": {
        "id": "6eBi0HcdvWQO",
        "colab_type": "text"
      },
      "source": [
        "# SG dataset preprocess"
      ]
    },
    {
      "cell_type": "code",
      "metadata": {
        "id": "q2Jf4MLb-x7P",
        "colab_type": "code",
        "colab": {}
      },
      "source": [
        "dataset_SG['pingtimestamp'] = pd.to_datetime(dataset_SG['pingtimestamp'], unit='s')\n",
        "SG_car = dataset_SG.drop(columns=['driving_mode'])\n",
        "del dataset_SG"
      ],
      "execution_count": 0,
      "outputs": []
    },
    {
      "cell_type": "code",
      "metadata": {
        "id": "dWRdBMrwPt7g",
        "colab_type": "code",
        "colab": {}
      },
      "source": [
        "SG_car['trj_id'] = SG_car['trj_id'].astype('int')"
      ],
      "execution_count": 0,
      "outputs": []
    },
    {
      "cell_type": "code",
      "metadata": {
        "id": "F2-wxDKUSmEr",
        "colab_type": "code",
        "colab": {}
      },
      "source": [
        "SG_car = SG_car.sort_values(by=['trj_id', 'pingtimestamp'])"
      ],
      "execution_count": 0,
      "outputs": []
    },
    {
      "cell_type": "code",
      "metadata": {
        "id": "cWZ2xhDoBpoR",
        "colab_type": "code",
        "colab": {}
      },
      "source": [
        "# get the travel time by substracting difference in first pingtimestamp with the last pingtimestamp for each trajectory ID\n",
        "SG_car['travel_time'] = SG_car.groupby(['trj_id']).pingtimestamp.transform(lambda x: x.max() - x.min()).astype('timedelta64[s]')\n",
        "SG_car['pickup_time'] = SG_car.groupby(['trj_id']).pingtimestamp.transform(lambda x: x.min())\n",
        "SG_car['dropoff_time'] = SG_car.groupby(['trj_id']).pingtimestamp.transform(lambda x: x.max())"
      ],
      "execution_count": 0,
      "outputs": []
    },
    {
      "cell_type": "code",
      "metadata": {
        "id": "rI17gL5DRU2P",
        "colab_type": "code",
        "outputId": "5bb144d0-2648-409e-eb10-ba97bb281946",
        "colab": {
          "base_uri": "https://localhost:8080/",
          "height": 36
        }
      },
      "source": [
        "# collect garbage, run when RAM is almost full or just need to clear up RAM\n",
        "import gc\n",
        "gc.collect()"
      ],
      "execution_count": 14,
      "outputs": [
        {
          "output_type": "execute_result",
          "data": {
            "text/plain": [
              "0"
            ]
          },
          "metadata": {
            "tags": []
          },
          "execution_count": 14
        }
      ]
    },
    {
      "cell_type": "code",
      "metadata": {
        "id": "4eF7PJQBNDD1",
        "colab_type": "code",
        "colab": {}
      },
      "source": [
        "def extractCoordinateAndUpdateDF(df, variable_name, timestamp_col, coordinate_component):\n",
        "  \"\"\" Create new column containing a coordinate component of geolocation at a certain timestamp\"\"\"\n",
        "  coord_series = df.groupby(['trj_id']).apply(lambda x: x[x['pingtimestamp'] == x[timestamp_col]][coordinate_component])\n",
        "  coord_series = coord_series.reset_index().set_index('level_1')\n",
        "  df_update = df.merge(coord_series, how='left', left_on='trj_id', right_on='trj_id', suffixes=['', '_{}'.format(variable_name)])\n",
        "  return df_update"
      ],
      "execution_count": 0,
      "outputs": []
    },
    {
      "cell_type": "code",
      "metadata": {
        "id": "QIrjH1uyE-YE",
        "colab_type": "code",
        "colab": {}
      },
      "source": [
        "# create and merge pickup latitude into SG_car\n",
        "SG_car = extractCoordinateAndUpdateDF(SG_car, 'pickup', 'pickup_time', 'rawlat')\n",
        "# create and merge pickup longitude into SG_car\n",
        "SG_car = extractCoordinateAndUpdateDF(SG_car, 'pickup', 'pickup_time', 'rawlng')\n",
        "# add drop off latitude\n",
        "SG_car = extractCoordinateAndUpdateDF(SG_car, 'dropoff', 'dropoff_time', 'rawlat')\n",
        "# add drop off longitude\n",
        "SG_car = extractCoordinateAndUpdateDF(SG_car, 'dropoff', 'dropoff_time', 'rawlng')"
      ],
      "execution_count": 0,
      "outputs": []
    },
    {
      "cell_type": "code",
      "metadata": {
        "id": "SZL-52Plnzzu",
        "colab_type": "code",
        "colab": {}
      },
      "source": [
        "SG_car = SG_car.reset_index()\n",
        "SG_car = SG_car.drop(labels=['index'], axis=1)"
      ],
      "execution_count": 0,
      "outputs": []
    },
    {
      "cell_type": "markdown",
      "metadata": {
        "id": "GUhG7n5OvmQm",
        "colab_type": "text"
      },
      "source": [
        "# Preprocess hour and day to cyclical data\n",
        "we will use sin and cos function to model the time and day into a continuos cyclical cycle."
      ]
    },
    {
      "cell_type": "code",
      "metadata": {
        "id": "QCBKUmtswaxT",
        "colab_type": "code",
        "outputId": "0e22ba20-f402-48a1-9a20-b73aa5e789f0",
        "colab": {
          "base_uri": "https://localhost:8080/",
          "height": 684
        }
      },
      "source": [
        "SG_car_aug_colapse = SG_car.drop_duplicates(subset=['trj_id', 'pickup_time'], keep='first')\n",
        "# add pickup_hour and pickup_day column\n",
        "SG_car_aug_colapse['pickup_hour'] = SG_car_aug_colapse['pickup_time'].dt.hour\n",
        "SG_car_aug_colapse['pickup_day'] = SG_car_aug_colapse['pickup_time'].dt.dayofweek\n",
        "SG_car_aug_colapse['sin_pickup_hour'] = np.sin(2*np.pi*SG_car_aug_colapse.pickup_hour/24)\n",
        "SG_car_aug_colapse['cos_pickup_hour'] = np.cos(2*np.pi*SG_car_aug_colapse.pickup_hour/24)\n",
        "SG_car_aug_colapse['sin_pickup_day'] = np.sin(2*np.pi*SG_car_aug_colapse.pickup_day/7)\n",
        "SG_car_aug_colapse['cos_pickup_day'] = np.cos(2*np.pi*SG_car_aug_colapse.pickup_day/7)"
      ],
      "execution_count": 18,
      "outputs": [
        {
          "output_type": "stream",
          "text": [
            "/usr/local/lib/python3.6/dist-packages/ipykernel_launcher.py:3: SettingWithCopyWarning: \n",
            "A value is trying to be set on a copy of a slice from a DataFrame.\n",
            "Try using .loc[row_indexer,col_indexer] = value instead\n",
            "\n",
            "See the caveats in the documentation: https://pandas.pydata.org/pandas-docs/stable/user_guide/indexing.html#returning-a-view-versus-a-copy\n",
            "  This is separate from the ipykernel package so we can avoid doing imports until\n",
            "/usr/local/lib/python3.6/dist-packages/ipykernel_launcher.py:4: SettingWithCopyWarning: \n",
            "A value is trying to be set on a copy of a slice from a DataFrame.\n",
            "Try using .loc[row_indexer,col_indexer] = value instead\n",
            "\n",
            "See the caveats in the documentation: https://pandas.pydata.org/pandas-docs/stable/user_guide/indexing.html#returning-a-view-versus-a-copy\n",
            "  after removing the cwd from sys.path.\n",
            "/usr/local/lib/python3.6/dist-packages/ipykernel_launcher.py:5: SettingWithCopyWarning: \n",
            "A value is trying to be set on a copy of a slice from a DataFrame.\n",
            "Try using .loc[row_indexer,col_indexer] = value instead\n",
            "\n",
            "See the caveats in the documentation: https://pandas.pydata.org/pandas-docs/stable/user_guide/indexing.html#returning-a-view-versus-a-copy\n",
            "  \"\"\"\n",
            "/usr/local/lib/python3.6/dist-packages/ipykernel_launcher.py:6: SettingWithCopyWarning: \n",
            "A value is trying to be set on a copy of a slice from a DataFrame.\n",
            "Try using .loc[row_indexer,col_indexer] = value instead\n",
            "\n",
            "See the caveats in the documentation: https://pandas.pydata.org/pandas-docs/stable/user_guide/indexing.html#returning-a-view-versus-a-copy\n",
            "  \n",
            "/usr/local/lib/python3.6/dist-packages/ipykernel_launcher.py:7: SettingWithCopyWarning: \n",
            "A value is trying to be set on a copy of a slice from a DataFrame.\n",
            "Try using .loc[row_indexer,col_indexer] = value instead\n",
            "\n",
            "See the caveats in the documentation: https://pandas.pydata.org/pandas-docs/stable/user_guide/indexing.html#returning-a-view-versus-a-copy\n",
            "  import sys\n",
            "/usr/local/lib/python3.6/dist-packages/ipykernel_launcher.py:8: SettingWithCopyWarning: \n",
            "A value is trying to be set on a copy of a slice from a DataFrame.\n",
            "Try using .loc[row_indexer,col_indexer] = value instead\n",
            "\n",
            "See the caveats in the documentation: https://pandas.pydata.org/pandas-docs/stable/user_guide/indexing.html#returning-a-view-versus-a-copy\n",
            "  \n"
          ],
          "name": "stderr"
        }
      ]
    },
    {
      "cell_type": "code",
      "metadata": {
        "id": "RMgkux_rmHE6",
        "colab_type": "code",
        "outputId": "3b23269d-1059-4718-967c-78439d3711a2",
        "colab": {
          "base_uri": "https://localhost:8080/",
          "height": 617
        }
      },
      "source": [
        "SG_car_aug_colapse"
      ],
      "execution_count": 19,
      "outputs": [
        {
          "output_type": "execute_result",
          "data": {
            "text/html": [
              "<div>\n",
              "<style scoped>\n",
              "    .dataframe tbody tr th:only-of-type {\n",
              "        vertical-align: middle;\n",
              "    }\n",
              "\n",
              "    .dataframe tbody tr th {\n",
              "        vertical-align: top;\n",
              "    }\n",
              "\n",
              "    .dataframe thead th {\n",
              "        text-align: right;\n",
              "    }\n",
              "</style>\n",
              "<table border=\"1\" class=\"dataframe\">\n",
              "  <thead>\n",
              "    <tr style=\"text-align: right;\">\n",
              "      <th></th>\n",
              "      <th>trj_id</th>\n",
              "      <th>osname</th>\n",
              "      <th>pingtimestamp</th>\n",
              "      <th>rawlat</th>\n",
              "      <th>rawlng</th>\n",
              "      <th>speed</th>\n",
              "      <th>bearing</th>\n",
              "      <th>accuracy</th>\n",
              "      <th>travel_time</th>\n",
              "      <th>pickup_time</th>\n",
              "      <th>dropoff_time</th>\n",
              "      <th>rawlat_pickup</th>\n",
              "      <th>rawlng_pickup</th>\n",
              "      <th>rawlat_dropoff</th>\n",
              "      <th>rawlng_dropoff</th>\n",
              "      <th>pickup_hour</th>\n",
              "      <th>pickup_day</th>\n",
              "      <th>sin_pickup_hour</th>\n",
              "      <th>cos_pickup_hour</th>\n",
              "      <th>sin_pickup_day</th>\n",
              "      <th>cos_pickup_day</th>\n",
              "    </tr>\n",
              "  </thead>\n",
              "  <tbody>\n",
              "    <tr>\n",
              "      <th>0</th>\n",
              "      <td>2</td>\n",
              "      <td>android</td>\n",
              "      <td>2019-04-09 02:38:48</td>\n",
              "      <td>1.270377</td>\n",
              "      <td>103.857875</td>\n",
              "      <td>25.623161</td>\n",
              "      <td>100</td>\n",
              "      <td>32.000</td>\n",
              "      <td>1520.0</td>\n",
              "      <td>2019-04-09 02:38:48</td>\n",
              "      <td>2019-04-09 03:04:08</td>\n",
              "      <td>1.270377</td>\n",
              "      <td>103.857875</td>\n",
              "      <td>1.446609</td>\n",
              "      <td>103.806354</td>\n",
              "      <td>2</td>\n",
              "      <td>1</td>\n",
              "      <td>5.000000e-01</td>\n",
              "      <td>0.866025</td>\n",
              "      <td>0.781831</td>\n",
              "      <td>0.623490</td>\n",
              "    </tr>\n",
              "    <tr>\n",
              "      <th>1134</th>\n",
              "      <td>3</td>\n",
              "      <td>ios</td>\n",
              "      <td>2019-04-12 08:32:16</td>\n",
              "      <td>1.282591</td>\n",
              "      <td>103.851082</td>\n",
              "      <td>0.000000</td>\n",
              "      <td>96</td>\n",
              "      <td>30.000</td>\n",
              "      <td>1158.0</td>\n",
              "      <td>2019-04-12 08:32:16</td>\n",
              "      <td>2019-04-12 08:51:34</td>\n",
              "      <td>1.282591</td>\n",
              "      <td>103.851082</td>\n",
              "      <td>1.332855</td>\n",
              "      <td>103.977278</td>\n",
              "      <td>8</td>\n",
              "      <td>4</td>\n",
              "      <td>8.660254e-01</td>\n",
              "      <td>-0.500000</td>\n",
              "      <td>-0.433884</td>\n",
              "      <td>-0.900969</td>\n",
              "    </tr>\n",
              "    <tr>\n",
              "      <th>2067</th>\n",
              "      <td>4</td>\n",
              "      <td>android</td>\n",
              "      <td>2019-04-13 10:42:40</td>\n",
              "      <td>1.355363</td>\n",
              "      <td>103.863157</td>\n",
              "      <td>5.960000</td>\n",
              "      <td>217</td>\n",
              "      <td>3.900</td>\n",
              "      <td>1366.0</td>\n",
              "      <td>2019-04-13 10:42:40</td>\n",
              "      <td>2019-04-13 11:05:26</td>\n",
              "      <td>1.355363</td>\n",
              "      <td>103.863157</td>\n",
              "      <td>1.343218</td>\n",
              "      <td>103.858504</td>\n",
              "      <td>10</td>\n",
              "      <td>5</td>\n",
              "      <td>5.000000e-01</td>\n",
              "      <td>-0.866025</td>\n",
              "      <td>-0.974928</td>\n",
              "      <td>-0.222521</td>\n",
              "    </tr>\n",
              "    <tr>\n",
              "      <th>2946</th>\n",
              "      <td>5</td>\n",
              "      <td>ios</td>\n",
              "      <td>2019-04-20 01:39:08</td>\n",
              "      <td>1.340301</td>\n",
              "      <td>103.775742</td>\n",
              "      <td>4.760463</td>\n",
              "      <td>91</td>\n",
              "      <td>6.000</td>\n",
              "      <td>1328.0</td>\n",
              "      <td>2019-04-20 01:39:08</td>\n",
              "      <td>2019-04-20 02:01:16</td>\n",
              "      <td>1.340301</td>\n",
              "      <td>103.775742</td>\n",
              "      <td>1.303071</td>\n",
              "      <td>103.900220</td>\n",
              "      <td>1</td>\n",
              "      <td>5</td>\n",
              "      <td>2.588190e-01</td>\n",
              "      <td>0.965926</td>\n",
              "      <td>-0.974928</td>\n",
              "      <td>-0.222521</td>\n",
              "    </tr>\n",
              "    <tr>\n",
              "      <th>4107</th>\n",
              "      <td>8</td>\n",
              "      <td>android</td>\n",
              "      <td>2019-04-11 07:24:34</td>\n",
              "      <td>1.333936</td>\n",
              "      <td>103.953225</td>\n",
              "      <td>15.250000</td>\n",
              "      <td>318</td>\n",
              "      <td>4.288</td>\n",
              "      <td>1210.0</td>\n",
              "      <td>2019-04-11 07:24:34</td>\n",
              "      <td>2019-04-11 07:44:44</td>\n",
              "      <td>1.333936</td>\n",
              "      <td>103.953225</td>\n",
              "      <td>1.309601</td>\n",
              "      <td>103.833983</td>\n",
              "      <td>7</td>\n",
              "      <td>3</td>\n",
              "      <td>9.659258e-01</td>\n",
              "      <td>-0.258819</td>\n",
              "      <td>0.433884</td>\n",
              "      <td>-0.900969</td>\n",
              "    </tr>\n",
              "    <tr>\n",
              "      <th>...</th>\n",
              "      <td>...</td>\n",
              "      <td>...</td>\n",
              "      <td>...</td>\n",
              "      <td>...</td>\n",
              "      <td>...</td>\n",
              "      <td>...</td>\n",
              "      <td>...</td>\n",
              "      <td>...</td>\n",
              "      <td>...</td>\n",
              "      <td>...</td>\n",
              "      <td>...</td>\n",
              "      <td>...</td>\n",
              "      <td>...</td>\n",
              "      <td>...</td>\n",
              "      <td>...</td>\n",
              "      <td>...</td>\n",
              "      <td>...</td>\n",
              "      <td>...</td>\n",
              "      <td>...</td>\n",
              "      <td>...</td>\n",
              "      <td>...</td>\n",
              "    </tr>\n",
              "    <tr>\n",
              "      <th>30323980</th>\n",
              "      <td>83955</td>\n",
              "      <td>android</td>\n",
              "      <td>2019-04-08 22:27:51</td>\n",
              "      <td>1.396872</td>\n",
              "      <td>103.747718</td>\n",
              "      <td>11.609461</td>\n",
              "      <td>191</td>\n",
              "      <td>3.900</td>\n",
              "      <td>1112.0</td>\n",
              "      <td>2019-04-08 22:27:51</td>\n",
              "      <td>2019-04-08 22:46:23</td>\n",
              "      <td>1.396872</td>\n",
              "      <td>103.747718</td>\n",
              "      <td>1.319548</td>\n",
              "      <td>103.843496</td>\n",
              "      <td>22</td>\n",
              "      <td>0</td>\n",
              "      <td>-5.000000e-01</td>\n",
              "      <td>0.866025</td>\n",
              "      <td>0.000000</td>\n",
              "      <td>1.000000</td>\n",
              "    </tr>\n",
              "    <tr>\n",
              "      <th>30325037</th>\n",
              "      <td>83956</td>\n",
              "      <td>ios</td>\n",
              "      <td>2019-04-09 22:09:13</td>\n",
              "      <td>1.396533</td>\n",
              "      <td>103.747537</td>\n",
              "      <td>3.212061</td>\n",
              "      <td>196</td>\n",
              "      <td>6.000</td>\n",
              "      <td>983.0</td>\n",
              "      <td>2019-04-09 22:09:13</td>\n",
              "      <td>2019-04-09 22:25:36</td>\n",
              "      <td>1.396533</td>\n",
              "      <td>103.747537</td>\n",
              "      <td>1.322236</td>\n",
              "      <td>103.841737</td>\n",
              "      <td>22</td>\n",
              "      <td>1</td>\n",
              "      <td>-5.000000e-01</td>\n",
              "      <td>0.866025</td>\n",
              "      <td>0.781831</td>\n",
              "      <td>0.623490</td>\n",
              "    </tr>\n",
              "    <tr>\n",
              "      <th>30325931</th>\n",
              "      <td>83957</td>\n",
              "      <td>android</td>\n",
              "      <td>2019-04-21 01:20:41</td>\n",
              "      <td>1.301317</td>\n",
              "      <td>103.899443</td>\n",
              "      <td>11.049027</td>\n",
              "      <td>244</td>\n",
              "      <td>5.600</td>\n",
              "      <td>1382.0</td>\n",
              "      <td>2019-04-21 01:20:41</td>\n",
              "      <td>2019-04-21 01:43:43</td>\n",
              "      <td>1.301317</td>\n",
              "      <td>103.899443</td>\n",
              "      <td>1.410657</td>\n",
              "      <td>103.778843</td>\n",
              "      <td>1</td>\n",
              "      <td>6</td>\n",
              "      <td>2.588190e-01</td>\n",
              "      <td>0.965926</td>\n",
              "      <td>-0.781831</td>\n",
              "      <td>0.623490</td>\n",
              "    </tr>\n",
              "    <tr>\n",
              "      <th>30327120</th>\n",
              "      <td>83999</td>\n",
              "      <td>android</td>\n",
              "      <td>2019-04-17 11:22:25</td>\n",
              "      <td>1.298612</td>\n",
              "      <td>103.853801</td>\n",
              "      <td>0.000000</td>\n",
              "      <td>0</td>\n",
              "      <td>4.137</td>\n",
              "      <td>1212.0</td>\n",
              "      <td>2019-04-17 11:22:25</td>\n",
              "      <td>2019-04-17 11:42:37</td>\n",
              "      <td>1.298612</td>\n",
              "      <td>103.853801</td>\n",
              "      <td>1.341311</td>\n",
              "      <td>103.981728</td>\n",
              "      <td>11</td>\n",
              "      <td>2</td>\n",
              "      <td>2.588190e-01</td>\n",
              "      <td>-0.965926</td>\n",
              "      <td>0.974928</td>\n",
              "      <td>-0.222521</td>\n",
              "    </tr>\n",
              "    <tr>\n",
              "      <th>30328301</th>\n",
              "      <td>84000</td>\n",
              "      <td>android</td>\n",
              "      <td>2019-04-18 12:28:10</td>\n",
              "      <td>1.346787</td>\n",
              "      <td>103.984266</td>\n",
              "      <td>8.718304</td>\n",
              "      <td>203</td>\n",
              "      <td>4.000</td>\n",
              "      <td>1475.0</td>\n",
              "      <td>2019-04-18 12:28:10</td>\n",
              "      <td>2019-04-18 12:52:45</td>\n",
              "      <td>1.346787</td>\n",
              "      <td>103.984266</td>\n",
              "      <td>1.287678</td>\n",
              "      <td>103.845468</td>\n",
              "      <td>12</td>\n",
              "      <td>3</td>\n",
              "      <td>1.224647e-16</td>\n",
              "      <td>-1.000000</td>\n",
              "      <td>0.433884</td>\n",
              "      <td>-0.900969</td>\n",
              "    </tr>\n",
              "  </tbody>\n",
              "</table>\n",
              "<p>28000 rows × 21 columns</p>\n",
              "</div>"
            ],
            "text/plain": [
              "          trj_id   osname  ... sin_pickup_day  cos_pickup_day\n",
              "0              2  android  ...       0.781831        0.623490\n",
              "1134           3      ios  ...      -0.433884       -0.900969\n",
              "2067           4  android  ...      -0.974928       -0.222521\n",
              "2946           5      ios  ...      -0.974928       -0.222521\n",
              "4107           8  android  ...       0.433884       -0.900969\n",
              "...          ...      ...  ...            ...             ...\n",
              "30323980   83955  android  ...       0.000000        1.000000\n",
              "30325037   83956      ios  ...       0.781831        0.623490\n",
              "30325931   83957  android  ...      -0.781831        0.623490\n",
              "30327120   83999  android  ...       0.974928       -0.222521\n",
              "30328301   84000  android  ...       0.433884       -0.900969\n",
              "\n",
              "[28000 rows x 21 columns]"
            ]
          },
          "metadata": {
            "tags": []
          },
          "execution_count": 19
        }
      ]
    },
    {
      "cell_type": "markdown",
      "metadata": {
        "id": "a8GGT6Y1mD8M",
        "colab_type": "text"
      },
      "source": [
        "# Analysis"
      ]
    },
    {
      "cell_type": "code",
      "metadata": {
        "id": "H_au8spymFnw",
        "colab_type": "code",
        "colab": {}
      },
      "source": [
        "from sklearn.cluster import MiniBatchKMeans\n",
        "coords = np.vstack((SG_car_aug_colapse[['rawlat_pickup', 'rawlng_pickup']].values,\n",
        "                    SG_car_aug_colapse[['rawlat_dropoff', 'rawlng_dropoff']].values))\n",
        "\n",
        "sample_ind = np.random.permutation(len(coords))[:500000]\n",
        "kmeans = MiniBatchKMeans(n_clusters=100, batch_size=10000).fit(coords[sample_ind])"
      ],
      "execution_count": 0,
      "outputs": []
    },
    {
      "cell_type": "code",
      "metadata": {
        "id": "VLCPciNKmamE",
        "colab_type": "code",
        "colab": {
          "base_uri": "https://localhost:8080/",
          "height": 461
        },
        "outputId": "e5d1fed3-6fee-4036-8241-2753d7ef23a8"
      },
      "source": [
        "SG_car_aug_colapse.loc[:, 'pickup_cluster'] = kmeans.predict(SG_car_aug_colapse[['rawlat_pickup', 'rawlng_pickup']])\n",
        "SG_car_aug_colapse.loc[:, 'dropoff_cluster'] = kmeans.predict(SG_car_aug_colapse[['rawlat_dropoff', 'rawlng_dropoff']])"
      ],
      "execution_count": 21,
      "outputs": [
        {
          "output_type": "stream",
          "text": [
            "/usr/local/lib/python3.6/dist-packages/pandas/core/indexing.py:845: SettingWithCopyWarning: \n",
            "A value is trying to be set on a copy of a slice from a DataFrame.\n",
            "Try using .loc[row_indexer,col_indexer] = value instead\n",
            "\n",
            "See the caveats in the documentation: https://pandas.pydata.org/pandas-docs/stable/user_guide/indexing.html#returning-a-view-versus-a-copy\n",
            "  self.obj[key] = _infer_fill_value(value)\n",
            "/usr/local/lib/python3.6/dist-packages/pandas/core/indexing.py:966: SettingWithCopyWarning: \n",
            "A value is trying to be set on a copy of a slice from a DataFrame.\n",
            "Try using .loc[row_indexer,col_indexer] = value instead\n",
            "\n",
            "See the caveats in the documentation: https://pandas.pydata.org/pandas-docs/stable/user_guide/indexing.html#returning-a-view-versus-a-copy\n",
            "  self.obj[item] = s\n",
            "/usr/local/lib/python3.6/dist-packages/pandas/core/indexing.py:845: SettingWithCopyWarning: \n",
            "A value is trying to be set on a copy of a slice from a DataFrame.\n",
            "Try using .loc[row_indexer,col_indexer] = value instead\n",
            "\n",
            "See the caveats in the documentation: https://pandas.pydata.org/pandas-docs/stable/user_guide/indexing.html#returning-a-view-versus-a-copy\n",
            "  self.obj[key] = _infer_fill_value(value)\n",
            "/usr/local/lib/python3.6/dist-packages/pandas/core/indexing.py:966: SettingWithCopyWarning: \n",
            "A value is trying to be set on a copy of a slice from a DataFrame.\n",
            "Try using .loc[row_indexer,col_indexer] = value instead\n",
            "\n",
            "See the caveats in the documentation: https://pandas.pydata.org/pandas-docs/stable/user_guide/indexing.html#returning-a-view-versus-a-copy\n",
            "  self.obj[item] = s\n"
          ],
          "name": "stderr"
        }
      ]
    },
    {
      "cell_type": "code",
      "metadata": {
        "id": "w9GpHclqmx9X",
        "colab_type": "code",
        "outputId": "2ef8fc42-ec9c-4d05-b7d7-73a82606df70",
        "colab": {
          "base_uri": "https://localhost:8080/",
          "height": 279
        }
      },
      "source": [
        "city_long_border = (103.590506, 104.050822)\n",
        "city_lat_border = (1.199654, 1.463254)\n",
        "\n",
        "fig, ax = plt.subplots(ncols=1, nrows=1)\n",
        "ax.scatter(SG_car_aug_colapse.rawlng_pickup.values[:500000], SG_car_aug_colapse.rawlat_pickup.values[:500000], s=10, lw=0,\n",
        "           c=SG_car_aug_colapse.pickup_cluster[:500000].values, cmap='autumn', alpha=0.2)\n",
        "ax.set_xlim(city_long_border)\n",
        "ax.set_ylim(city_lat_border)\n",
        "ax.set_xlabel('Longitude')\n",
        "ax.set_ylabel('Latitude')\n",
        "plt.show()\n",
        "\n"
      ],
      "execution_count": 22,
      "outputs": [
        {
          "output_type": "display_data",
          "data": {
            "image/png": "[encoded data removed]",
            "text/plain": [
              "<Figure size 432x288 with 1 Axes>"
            ]
          },
          "metadata": {
            "tags": [],
            "needs_background": "light"
          }
        }
      ]
    },
    {
      "cell_type": "code",
      "metadata": {
        "id": "ddCDtJJ7pBO4",
        "colab_type": "code",
        "outputId": "6193df7b-07fa-4a08-f826-50df977a632b",
        "colab": {
          "base_uri": "https://localhost:8080/",
          "height": 279
        }
      },
      "source": [
        "fig, ax = plt.subplots(ncols=1, sharex=True, sharey=True)\n",
        "ax.scatter(SG_car_aug_colapse['rawlng_pickup'].values[:100000], SG_car_aug_colapse['rawlat_pickup'].values[:100000],\n",
        "              color='blue', s=1, label='Data', alpha=0.1)\n",
        "ax.legend(loc=0)\n",
        "ax.set_ylabel('latitude')\n",
        "ax.set_xlabel('longitude')\n",
        "plt.ylim(city_lat_border)\n",
        "plt.xlim(city_long_border)\n",
        "plt.show()"
      ],
      "execution_count": 23,
      "outputs": [
        {
          "output_type": "display_data",
          "data": {
            "image/png": "[encoded data removed]",
            "text/plain": [
              "<Figure size 432x288 with 1 Axes>"
            ]
          },
          "metadata": {
            "tags": [],
            "needs_background": "light"
          }
        }
      ]
    },
    {
      "cell_type": "markdown",
      "metadata": {
        "id": "xhRKDe9EhKti",
        "colab_type": "text"
      },
      "source": [
        "# Feature Extraction"
      ]
    },
    {
      "cell_type": "code",
      "metadata": {
        "id": "bG-CzLUYhifk",
        "colab_type": "code",
        "outputId": "677f3dc9-fbb7-45fa-e40b-efee2c3ddad1",
        "colab": {
          "base_uri": "https://localhost:8080/",
          "height": 461
        }
      },
      "source": [
        "from sklearn.decomposition import PCA\n",
        "pca = PCA().fit(coords)\n",
        "\n",
        "SG_car_aug_colapse['pickup_pca0'] = pca.transform(SG_car_aug_colapse[['rawlat_pickup', 'rawlng_pickup']])[:, 0]\n",
        "SG_car_aug_colapse['pickup_pca1'] = pca.transform(SG_car_aug_colapse[['rawlat_pickup', 'rawlng_pickup']])[:, 1]\n",
        "SG_car_aug_colapse['dropoff_pca0'] = pca.transform(SG_car_aug_colapse[['rawlat_dropoff', 'rawlng_dropoff']])[:, 0]\n",
        "SG_car_aug_colapse['dropoff_pca1'] = pca.transform(SG_car_aug_colapse[['rawlat_dropoff', 'rawlng_dropoff']])[:, 1]"
      ],
      "execution_count": 24,
      "outputs": [
        {
          "output_type": "stream",
          "text": [
            "/usr/local/lib/python3.6/dist-packages/ipykernel_launcher.py:4: SettingWithCopyWarning: \n",
            "A value is trying to be set on a copy of a slice from a DataFrame.\n",
            "Try using .loc[row_indexer,col_indexer] = value instead\n",
            "\n",
            "See the caveats in the documentation: https://pandas.pydata.org/pandas-docs/stable/user_guide/indexing.html#returning-a-view-versus-a-copy\n",
            "  after removing the cwd from sys.path.\n",
            "/usr/local/lib/python3.6/dist-packages/ipykernel_launcher.py:5: SettingWithCopyWarning: \n",
            "A value is trying to be set on a copy of a slice from a DataFrame.\n",
            "Try using .loc[row_indexer,col_indexer] = value instead\n",
            "\n",
            "See the caveats in the documentation: https://pandas.pydata.org/pandas-docs/stable/user_guide/indexing.html#returning-a-view-versus-a-copy\n",
            "  \"\"\"\n",
            "/usr/local/lib/python3.6/dist-packages/ipykernel_launcher.py:6: SettingWithCopyWarning: \n",
            "A value is trying to be set on a copy of a slice from a DataFrame.\n",
            "Try using .loc[row_indexer,col_indexer] = value instead\n",
            "\n",
            "See the caveats in the documentation: https://pandas.pydata.org/pandas-docs/stable/user_guide/indexing.html#returning-a-view-versus-a-copy\n",
            "  \n",
            "/usr/local/lib/python3.6/dist-packages/ipykernel_launcher.py:7: SettingWithCopyWarning: \n",
            "A value is trying to be set on a copy of a slice from a DataFrame.\n",
            "Try using .loc[row_indexer,col_indexer] = value instead\n",
            "\n",
            "See the caveats in the documentation: https://pandas.pydata.org/pandas-docs/stable/user_guide/indexing.html#returning-a-view-versus-a-copy\n",
            "  import sys\n"
          ],
          "name": "stderr"
        }
      ]
    },
    {
      "cell_type": "code",
      "metadata": {
        "id": "D04FwioOr1Vk",
        "colab_type": "code",
        "outputId": "290bccd8-d414-4e9c-b402-be6ef01daae4",
        "colab": {
          "base_uri": "https://localhost:8080/",
          "height": 617
        }
      },
      "source": [
        "SG_car_aug_colapse"
      ],
      "execution_count": 25,
      "outputs": [
        {
          "output_type": "execute_result",
          "data": {
            "text/html": [
              "<div>\n",
              "<style scoped>\n",
              "    .dataframe tbody tr th:only-of-type {\n",
              "        vertical-align: middle;\n",
              "    }\n",
              "\n",
              "    .dataframe tbody tr th {\n",
              "        vertical-align: top;\n",
              "    }\n",
              "\n",
              "    .dataframe thead th {\n",
              "        text-align: right;\n",
              "    }\n",
              "</style>\n",
              "<table border=\"1\" class=\"dataframe\">\n",
              "  <thead>\n",
              "    <tr style=\"text-align: right;\">\n",
              "      <th></th>\n",
              "      <th>trj_id</th>\n",
              "      <th>osname</th>\n",
              "      <th>pingtimestamp</th>\n",
              "      <th>rawlat</th>\n",
              "      <th>rawlng</th>\n",
              "      <th>speed</th>\n",
              "      <th>bearing</th>\n",
              "      <th>accuracy</th>\n",
              "      <th>travel_time</th>\n",
              "      <th>pickup_time</th>\n",
              "      <th>dropoff_time</th>\n",
              "      <th>rawlat_pickup</th>\n",
              "      <th>rawlng_pickup</th>\n",
              "      <th>rawlat_dropoff</th>\n",
              "      <th>rawlng_dropoff</th>\n",
              "      <th>pickup_hour</th>\n",
              "      <th>pickup_day</th>\n",
              "      <th>sin_pickup_hour</th>\n",
              "      <th>cos_pickup_hour</th>\n",
              "      <th>sin_pickup_day</th>\n",
              "      <th>cos_pickup_day</th>\n",
              "      <th>pickup_cluster</th>\n",
              "      <th>dropoff_cluster</th>\n",
              "      <th>pickup_pca0</th>\n",
              "      <th>pickup_pca1</th>\n",
              "      <th>dropoff_pca0</th>\n",
              "      <th>dropoff_pca1</th>\n",
              "    </tr>\n",
              "  </thead>\n",
              "  <tbody>\n",
              "    <tr>\n",
              "      <th>0</th>\n",
              "      <td>2</td>\n",
              "      <td>android</td>\n",
              "      <td>2019-04-09 02:38:48</td>\n",
              "      <td>1.270377</td>\n",
              "      <td>103.857875</td>\n",
              "      <td>25.623161</td>\n",
              "      <td>100</td>\n",
              "      <td>32.000</td>\n",
              "      <td>1520.0</td>\n",
              "      <td>2019-04-09 02:38:48</td>\n",
              "      <td>2019-04-09 03:04:08</td>\n",
              "      <td>1.270377</td>\n",
              "      <td>103.857875</td>\n",
              "      <td>1.446609</td>\n",
              "      <td>103.806354</td>\n",
              "      <td>2</td>\n",
              "      <td>1</td>\n",
              "      <td>5.000000e-01</td>\n",
              "      <td>0.866025</td>\n",
              "      <td>0.781831</td>\n",
              "      <td>0.623490</td>\n",
              "      <td>87</td>\n",
              "      <td>56</td>\n",
              "      <td>-0.025486</td>\n",
              "      <td>-0.076384</td>\n",
              "      <td>0.041837</td>\n",
              "      <td>0.094437</td>\n",
              "    </tr>\n",
              "    <tr>\n",
              "      <th>1134</th>\n",
              "      <td>3</td>\n",
              "      <td>ios</td>\n",
              "      <td>2019-04-12 08:32:16</td>\n",
              "      <td>1.282591</td>\n",
              "      <td>103.851082</td>\n",
              "      <td>0.000000</td>\n",
              "      <td>96</td>\n",
              "      <td>30.000</td>\n",
              "      <td>1158.0</td>\n",
              "      <td>2019-04-12 08:32:16</td>\n",
              "      <td>2019-04-12 08:51:34</td>\n",
              "      <td>1.282591</td>\n",
              "      <td>103.851082</td>\n",
              "      <td>1.332855</td>\n",
              "      <td>103.977278</td>\n",
              "      <td>8</td>\n",
              "      <td>4</td>\n",
              "      <td>8.660254e-01</td>\n",
              "      <td>-0.500000</td>\n",
              "      <td>-0.433884</td>\n",
              "      <td>-0.900969</td>\n",
              "      <td>97</td>\n",
              "      <td>23</td>\n",
              "      <td>-0.017611</td>\n",
              "      <td>-0.064838</td>\n",
              "      <td>-0.138717</td>\n",
              "      <td>-0.003314</td>\n",
              "    </tr>\n",
              "    <tr>\n",
              "      <th>2067</th>\n",
              "      <td>4</td>\n",
              "      <td>android</td>\n",
              "      <td>2019-04-13 10:42:40</td>\n",
              "      <td>1.355363</td>\n",
              "      <td>103.863157</td>\n",
              "      <td>5.960000</td>\n",
              "      <td>217</td>\n",
              "      <td>3.900</td>\n",
              "      <td>1366.0</td>\n",
              "      <td>2019-04-13 10:42:40</td>\n",
              "      <td>2019-04-13 11:05:26</td>\n",
              "      <td>1.355363</td>\n",
              "      <td>103.863157</td>\n",
              "      <td>1.343218</td>\n",
              "      <td>103.858504</td>\n",
              "      <td>10</td>\n",
              "      <td>5</td>\n",
              "      <td>5.000000e-01</td>\n",
              "      <td>-0.866025</td>\n",
              "      <td>-0.974928</td>\n",
              "      <td>-0.222521</td>\n",
              "      <td>39</td>\n",
              "      <td>2</td>\n",
              "      <td>-0.023023</td>\n",
              "      <td>0.008731</td>\n",
              "      <td>-0.019494</td>\n",
              "      <td>-0.003787</td>\n",
              "    </tr>\n",
              "    <tr>\n",
              "      <th>2946</th>\n",
              "      <td>5</td>\n",
              "      <td>ios</td>\n",
              "      <td>2019-04-20 01:39:08</td>\n",
              "      <td>1.340301</td>\n",
              "      <td>103.775742</td>\n",
              "      <td>4.760463</td>\n",
              "      <td>91</td>\n",
              "      <td>6.000</td>\n",
              "      <td>1328.0</td>\n",
              "      <td>2019-04-20 01:39:08</td>\n",
              "      <td>2019-04-20 02:01:16</td>\n",
              "      <td>1.340301</td>\n",
              "      <td>103.775742</td>\n",
              "      <td>1.303071</td>\n",
              "      <td>103.900220</td>\n",
              "      <td>1</td>\n",
              "      <td>5</td>\n",
              "      <td>2.588190e-01</td>\n",
              "      <td>0.965926</td>\n",
              "      <td>-0.974928</td>\n",
              "      <td>-0.222521</td>\n",
              "      <td>16</td>\n",
              "      <td>43</td>\n",
              "      <td>0.062661</td>\n",
              "      <td>-0.014213</td>\n",
              "      <td>-0.064685</td>\n",
              "      <td>-0.039977</td>\n",
              "    </tr>\n",
              "    <tr>\n",
              "      <th>4107</th>\n",
              "      <td>8</td>\n",
              "      <td>android</td>\n",
              "      <td>2019-04-11 07:24:34</td>\n",
              "      <td>1.333936</td>\n",
              "      <td>103.953225</td>\n",
              "      <td>15.250000</td>\n",
              "      <td>318</td>\n",
              "      <td>4.288</td>\n",
              "      <td>1210.0</td>\n",
              "      <td>2019-04-11 07:24:34</td>\n",
              "      <td>2019-04-11 07:44:44</td>\n",
              "      <td>1.333936</td>\n",
              "      <td>103.953225</td>\n",
              "      <td>1.309601</td>\n",
              "      <td>103.833983</td>\n",
              "      <td>7</td>\n",
              "      <td>3</td>\n",
              "      <td>9.659258e-01</td>\n",
              "      <td>-0.258819</td>\n",
              "      <td>0.433884</td>\n",
              "      <td>-0.900969</td>\n",
              "      <td>83</td>\n",
              "      <td>4</td>\n",
              "      <td>-0.114666</td>\n",
              "      <td>-0.004423</td>\n",
              "      <td>0.001871</td>\n",
              "      <td>-0.039493</td>\n",
              "    </tr>\n",
              "    <tr>\n",
              "      <th>...</th>\n",
              "      <td>...</td>\n",
              "      <td>...</td>\n",
              "      <td>...</td>\n",
              "      <td>...</td>\n",
              "      <td>...</td>\n",
              "      <td>...</td>\n",
              "      <td>...</td>\n",
              "      <td>...</td>\n",
              "      <td>...</td>\n",
              "      <td>...</td>\n",
              "      <td>...</td>\n",
              "      <td>...</td>\n",
              "      <td>...</td>\n",
              "      <td>...</td>\n",
              "      <td>...</td>\n",
              "      <td>...</td>\n",
              "      <td>...</td>\n",
              "      <td>...</td>\n",
              "      <td>...</td>\n",
              "      <td>...</td>\n",
              "      <td>...</td>\n",
              "      <td>...</td>\n",
              "      <td>...</td>\n",
              "      <td>...</td>\n",
              "      <td>...</td>\n",
              "      <td>...</td>\n",
              "      <td>...</td>\n",
              "    </tr>\n",
              "    <tr>\n",
              "      <th>30323980</th>\n",
              "      <td>83955</td>\n",
              "      <td>android</td>\n",
              "      <td>2019-04-08 22:27:51</td>\n",
              "      <td>1.396872</td>\n",
              "      <td>103.747718</td>\n",
              "      <td>11.609461</td>\n",
              "      <td>191</td>\n",
              "      <td>3.900</td>\n",
              "      <td>1112.0</td>\n",
              "      <td>2019-04-08 22:27:51</td>\n",
              "      <td>2019-04-08 22:46:23</td>\n",
              "      <td>1.396872</td>\n",
              "      <td>103.747718</td>\n",
              "      <td>1.319548</td>\n",
              "      <td>103.843496</td>\n",
              "      <td>22</td>\n",
              "      <td>0</td>\n",
              "      <td>-5.000000e-01</td>\n",
              "      <td>0.866025</td>\n",
              "      <td>0.000000</td>\n",
              "      <td>1.000000</td>\n",
              "      <td>67</td>\n",
              "      <td>30</td>\n",
              "      <td>0.095710</td>\n",
              "      <td>0.039577</td>\n",
              "      <td>-0.006699</td>\n",
              "      <td>-0.028723</td>\n",
              "    </tr>\n",
              "    <tr>\n",
              "      <th>30325037</th>\n",
              "      <td>83956</td>\n",
              "      <td>ios</td>\n",
              "      <td>2019-04-09 22:09:13</td>\n",
              "      <td>1.396533</td>\n",
              "      <td>103.747537</td>\n",
              "      <td>3.212061</td>\n",
              "      <td>196</td>\n",
              "      <td>6.000</td>\n",
              "      <td>983.0</td>\n",
              "      <td>2019-04-09 22:09:13</td>\n",
              "      <td>2019-04-09 22:25:36</td>\n",
              "      <td>1.396533</td>\n",
              "      <td>103.747537</td>\n",
              "      <td>1.322236</td>\n",
              "      <td>103.841737</td>\n",
              "      <td>22</td>\n",
              "      <td>1</td>\n",
              "      <td>-5.000000e-01</td>\n",
              "      <td>0.866025</td>\n",
              "      <td>0.781831</td>\n",
              "      <td>0.623490</td>\n",
              "      <td>67</td>\n",
              "      <td>42</td>\n",
              "      <td>0.095859</td>\n",
              "      <td>0.039224</td>\n",
              "      <td>-0.004703</td>\n",
              "      <td>-0.026205</td>\n",
              "    </tr>\n",
              "    <tr>\n",
              "      <th>30325931</th>\n",
              "      <td>83957</td>\n",
              "      <td>android</td>\n",
              "      <td>2019-04-21 01:20:41</td>\n",
              "      <td>1.301317</td>\n",
              "      <td>103.899443</td>\n",
              "      <td>11.049027</td>\n",
              "      <td>244</td>\n",
              "      <td>5.600</td>\n",
              "      <td>1382.0</td>\n",
              "      <td>2019-04-21 01:20:41</td>\n",
              "      <td>2019-04-21 01:43:43</td>\n",
              "      <td>1.301317</td>\n",
              "      <td>103.899443</td>\n",
              "      <td>1.410657</td>\n",
              "      <td>103.778843</td>\n",
              "      <td>1</td>\n",
              "      <td>6</td>\n",
              "      <td>2.588190e-01</td>\n",
              "      <td>0.965926</td>\n",
              "      <td>-0.781831</td>\n",
              "      <td>0.623490</td>\n",
              "      <td>43</td>\n",
              "      <td>35</td>\n",
              "      <td>-0.064071</td>\n",
              "      <td>-0.041795</td>\n",
              "      <td>0.065966</td>\n",
              "      <td>0.056133</td>\n",
              "    </tr>\n",
              "    <tr>\n",
              "      <th>30327120</th>\n",
              "      <td>83999</td>\n",
              "      <td>android</td>\n",
              "      <td>2019-04-17 11:22:25</td>\n",
              "      <td>1.298612</td>\n",
              "      <td>103.853801</td>\n",
              "      <td>0.000000</td>\n",
              "      <td>0</td>\n",
              "      <td>4.137</td>\n",
              "      <td>1212.0</td>\n",
              "      <td>2019-04-17 11:22:25</td>\n",
              "      <td>2019-04-17 11:42:37</td>\n",
              "      <td>1.298612</td>\n",
              "      <td>103.853801</td>\n",
              "      <td>1.341311</td>\n",
              "      <td>103.981728</td>\n",
              "      <td>11</td>\n",
              "      <td>2</td>\n",
              "      <td>2.588190e-01</td>\n",
              "      <td>-0.965926</td>\n",
              "      <td>0.974928</td>\n",
              "      <td>-0.222521</td>\n",
              "      <td>73</td>\n",
              "      <td>23</td>\n",
              "      <td>-0.018864</td>\n",
              "      <td>-0.048636</td>\n",
              "      <td>-0.142380</td>\n",
              "      <td>0.005511</td>\n",
              "    </tr>\n",
              "    <tr>\n",
              "      <th>30328301</th>\n",
              "      <td>84000</td>\n",
              "      <td>android</td>\n",
              "      <td>2019-04-18 12:28:10</td>\n",
              "      <td>1.346787</td>\n",
              "      <td>103.984266</td>\n",
              "      <td>8.718304</td>\n",
              "      <td>203</td>\n",
              "      <td>4.000</td>\n",
              "      <td>1475.0</td>\n",
              "      <td>2019-04-18 12:28:10</td>\n",
              "      <td>2019-04-18 12:52:45</td>\n",
              "      <td>1.346787</td>\n",
              "      <td>103.984266</td>\n",
              "      <td>1.287678</td>\n",
              "      <td>103.845468</td>\n",
              "      <td>12</td>\n",
              "      <td>3</td>\n",
              "      <td>1.224647e-16</td>\n",
              "      <td>-1.000000</td>\n",
              "      <td>0.433884</td>\n",
              "      <td>-0.900969</td>\n",
              "      <td>37</td>\n",
              "      <td>97</td>\n",
              "      <td>-0.144410</td>\n",
              "      <td>0.011196</td>\n",
              "      <td>-0.011558</td>\n",
              "      <td>-0.060281</td>\n",
              "    </tr>\n",
              "  </tbody>\n",
              "</table>\n",
              "<p>28000 rows × 27 columns</p>\n",
              "</div>"
            ],
            "text/plain": [
              "          trj_id   osname  ... dropoff_pca0  dropoff_pca1\n",
              "0              2  android  ...     0.041837      0.094437\n",
              "1134           3      ios  ...    -0.138717     -0.003314\n",
              "2067           4  android  ...    -0.019494     -0.003787\n",
              "2946           5      ios  ...    -0.064685     -0.039977\n",
              "4107           8  android  ...     0.001871     -0.039493\n",
              "...          ...      ...  ...          ...           ...\n",
              "30323980   83955  android  ...    -0.006699     -0.028723\n",
              "30325037   83956      ios  ...    -0.004703     -0.026205\n",
              "30325931   83957  android  ...     0.065966      0.056133\n",
              "30327120   83999  android  ...    -0.142380      0.005511\n",
              "30328301   84000  android  ...    -0.011558     -0.060281\n",
              "\n",
              "[28000 rows x 27 columns]"
            ]
          },
          "metadata": {
            "tags": []
          },
          "execution_count": 25
        }
      ]
    },
    {
      "cell_type": "markdown",
      "metadata": {
        "id": "g4nz4NGXhHza",
        "colab_type": "text"
      },
      "source": [
        "# Modelling"
      ]
    },
    {
      "cell_type": "code",
      "metadata": {
        "id": "pFrENK6MhHWv",
        "colab_type": "code",
        "outputId": "ccc9843d-bccd-4a94-a695-e3752e05884f",
        "colab": {
          "base_uri": "https://localhost:8080/",
          "height": 73
        }
      },
      "source": [
        "from sklearn.model_selection import train_test_split\n",
        "from sklearn.metrics import mean_squared_error\n",
        "\n",
        "train, test = train_test_split(SG_car_aug_colapse, test_size=0.3, train_size = 0.7)\n",
        "train, validate = train_test_split(SG_car_aug_colapse, test_size = 0.25, train_size = 0.75)\n",
        "print(len(train))\n",
        "print(len(validate))\n",
        "print(len(test))"
      ],
      "execution_count": 26,
      "outputs": [
        {
          "output_type": "stream",
          "text": [
            "21000\n",
            "7000\n",
            "8400\n"
          ],
          "name": "stdout"
        }
      ]
    },
    {
      "cell_type": "code",
      "metadata": {
        "id": "3GcBzNbFuAn3",
        "colab_type": "code",
        "colab": {}
      },
      "source": [
        "X_train = train.drop(['travel_time', 'trj_id', 'osname', 'pingtimestamp', 'rawlat', 'rawlng', 'speed', 'bearing', 'accuracy', 'pickup_time', 'dropoff_time'], axis=1)\n",
        "Y_train = train[\"travel_time\"]\n",
        "X_val = validate.drop(['travel_time', 'trj_id', 'osname', 'pingtimestamp', 'rawlat', 'rawlng', 'speed', 'bearing', 'accuracy', 'pickup_time', 'dropoff_time'], axis=1)\n",
        "Y_val = validate[\"travel_time\"]\n",
        "X_test = test.drop(['travel_time', 'trj_id', 'osname', 'pingtimestamp', 'rawlat', 'rawlng', 'speed', 'bearing', 'accuracy', 'pickup_time', 'dropoff_time'], axis=1)\n",
        "Y_test = test[\"travel_time\"]"
      ],
      "execution_count": 0,
      "outputs": []
    },
    {
      "cell_type": "markdown",
      "metadata": {
        "id": "iDWZU-VtNLly",
        "colab_type": "text"
      },
      "source": [
        "## Linear Regression"
      ]
    },
    {
      "cell_type": "code",
      "metadata": {
        "id": "5bKQI6iLNQw4",
        "colab_type": "code",
        "colab": {}
      },
      "source": [
        "from sklearn.linear_model import LinearRegression"
      ],
      "execution_count": 0,
      "outputs": []
    },
    {
      "cell_type": "code",
      "metadata": {
        "id": "EMr8xAsgNaWC",
        "colab_type": "code",
        "colab": {
          "base_uri": "https://localhost:8080/",
          "height": 36
        },
        "outputId": "cfa66823-29d4-4429-c677-388c12680567"
      },
      "source": [
        "regressor = LinearRegression()  \n",
        "regressor.fit(X_train, Y_train) #training the algorithm"
      ],
      "execution_count": 81,
      "outputs": [
        {
          "output_type": "execute_result",
          "data": {
            "text/plain": [
              "LinearRegression(copy_X=True, fit_intercept=True, n_jobs=None, normalize=False)"
            ]
          },
          "metadata": {
            "tags": []
          },
          "execution_count": 81
        }
      ]
    },
    {
      "cell_type": "code",
      "metadata": {
        "id": "m2g1F7EQN5jh",
        "colab_type": "code",
        "colab": {
          "base_uri": "https://localhost:8080/",
          "height": 110
        },
        "outputId": "2a57c574-e561-411d-af14-9279b11c1bf0"
      },
      "source": [
        "#To retrieve the intercept:\n",
        "print(regressor.intercept_)#For retrieving the slope:\n",
        "print(regressor.coef_)"
      ],
      "execution_count": 82,
      "outputs": [
        {
          "output_type": "stream",
          "text": [
            "12087838415810.11\n",
            "[-3.57503718e+09  9.80622090e+10  2.01392997e+09 -2.14450870e+11\n",
            "  1.13788223e+00  2.14243183e+01  1.09339780e+01 -5.72677298e+01\n",
            " -4.99518871e+01 -8.47145191e+01  1.01066589e-01 -2.20932007e-01\n",
            "  9.79813367e+10 -5.35120558e+09 -2.13746546e+11  1.74827290e+10]\n"
          ],
          "name": "stdout"
        }
      ]
    },
    {
      "cell_type": "code",
      "metadata": {
        "id": "geqA8fOIN5mp",
        "colab_type": "code",
        "colab": {
          "base_uri": "https://localhost:8080/",
          "height": 36
        },
        "outputId": "c8effa01-6745-41e6-ba84-0bf1119048a9"
      },
      "source": [
        "y_pred = regressor.predict(X_test)\n",
        "mse = mean_squared_error(Y_test,y_pred)\n",
        "print(\"RMSE: %.2f\" % np.sqrt(mse))"
      ],
      "execution_count": 83,
      "outputs": [
        {
          "output_type": "stream",
          "text": [
            "RMSE: 312.75\n"
          ],
          "name": "stdout"
        }
      ]
    },
    {
      "cell_type": "markdown",
      "metadata": {
        "id": "WFV7ay9aRF3k",
        "colab_type": "text"
      },
      "source": [
        "## Lasso"
      ]
    },
    {
      "cell_type": "code",
      "metadata": {
        "id": "ML-C_OO3RHLv",
        "colab_type": "code",
        "colab": {}
      },
      "source": [
        "from sklearn.linear_model import Lasso"
      ],
      "execution_count": 0,
      "outputs": []
    },
    {
      "cell_type": "code",
      "metadata": {
        "id": "kOOzh5S1RJQ8",
        "colab_type": "code",
        "colab": {}
      },
      "source": [
        "clf = Lasso(alpha=0.1).fit(X_train,Y_train)"
      ],
      "execution_count": 0,
      "outputs": []
    },
    {
      "cell_type": "code",
      "metadata": {
        "id": "rmpH4UYaRJTo",
        "colab_type": "code",
        "colab": {
          "base_uri": "https://localhost:8080/",
          "height": 54
        },
        "outputId": "4f9b9be4-1672-4761-be50-1d9213524e37"
      },
      "source": [
        "pred = clf.predict(X_test)\n",
        "clf.predict(X_test)"
      ],
      "execution_count": 86,
      "outputs": [
        {
          "output_type": "execute_result",
          "data": {
            "text/plain": [
              "array([1281.09063006, 1388.84711957, 1362.42147402, ..., 1288.71060653,\n",
              "       1281.10459452, 1380.70914129])"
            ]
          },
          "metadata": {
            "tags": []
          },
          "execution_count": 86
        }
      ]
    },
    {
      "cell_type": "code",
      "metadata": {
        "id": "YZFBUF93RJXK",
        "colab_type": "code",
        "colab": {
          "base_uri": "https://localhost:8080/",
          "height": 36
        },
        "outputId": "760fc2c4-0067-42ed-a921-aba2bce09925"
      },
      "source": [
        "y_pred = regressor.predict(X_test)\n",
        "mse = mean_squared_error(Y_test,y_pred)\n",
        "print(\"RMSE: %.2f\" % np.sqrt(mse))"
      ],
      "execution_count": 87,
      "outputs": [
        {
          "output_type": "stream",
          "text": [
            "RMSE: 312.75\n"
          ],
          "name": "stdout"
        }
      ]
    },
    {
      "cell_type": "code",
      "metadata": {
        "id": "M-CQDBG5RJad",
        "colab_type": "code",
        "colab": {}
      },
      "source": [
        "from sklearn.linear_model import LassoLarsCV"
      ],
      "execution_count": 0,
      "outputs": []
    },
    {
      "cell_type": "code",
      "metadata": {
        "id": "KpWWca0URk6b",
        "colab_type": "code",
        "colab": {
          "base_uri": "https://localhost:8080/",
          "height": 36
        },
        "outputId": "5112dd72-baa8-4c13-a3cd-c2d0d36d265f"
      },
      "source": [
        "reg = LassoLarsCV(cv=20).fit(X_train, Y_train)\n",
        "reg.score(X_train, Y_train)\n",
        "reg.alpha_\n"
      ],
      "execution_count": 89,
      "outputs": [
        {
          "output_type": "execute_result",
          "data": {
            "text/plain": [
              "0.0019186543953214335"
            ]
          },
          "metadata": {
            "tags": []
          },
          "execution_count": 89
        }
      ]
    },
    {
      "cell_type": "code",
      "metadata": {
        "id": "jY2RugWcSFRX",
        "colab_type": "code",
        "colab": {
          "base_uri": "https://localhost:8080/",
          "height": 54
        },
        "outputId": "5b4010f2-9b04-49a2-db2a-3329e22af300"
      },
      "source": [
        "pred = reg.predict(X_test)\n",
        "reg.predict(X_test)"
      ],
      "execution_count": 90,
      "outputs": [
        {
          "output_type": "execute_result",
          "data": {
            "text/plain": [
              "array([1279.75832499, 1393.00855554, 1363.01163922, ..., 1289.83716178,\n",
              "       1277.36126189, 1376.65900369])"
            ]
          },
          "metadata": {
            "tags": []
          },
          "execution_count": 90
        }
      ]
    },
    {
      "cell_type": "code",
      "metadata": {
        "id": "sqVFSMpaRk_A",
        "colab_type": "code",
        "colab": {
          "base_uri": "https://localhost:8080/",
          "height": 36
        },
        "outputId": "7855df94-235a-474a-cd38-1e9ebd7e5dac"
      },
      "source": [
        "mse = mean_squared_error(Y_test,pred)\n",
        "print(\"RMSE: %.2f\" % np.sqrt(mse))"
      ],
      "execution_count": 91,
      "outputs": [
        {
          "output_type": "stream",
          "text": [
            "RMSE: 312.74\n"
          ],
          "name": "stdout"
        }
      ]
    },
    {
      "cell_type": "markdown",
      "metadata": {
        "id": "T5oB7f_YTnfj",
        "colab_type": "text"
      },
      "source": [
        "## Ridge"
      ]
    },
    {
      "cell_type": "code",
      "metadata": {
        "id": "j5blcPQnTq0O",
        "colab_type": "code",
        "colab": {}
      },
      "source": [
        "from sklearn.linear_model import Ridge"
      ],
      "execution_count": 0,
      "outputs": []
    },
    {
      "cell_type": "code",
      "metadata": {
        "id": "h76pTwovTsyf",
        "colab_type": "code",
        "colab": {
          "base_uri": "https://localhost:8080/",
          "height": 54
        },
        "outputId": "3df26cff-0aae-435b-e965-26cbdd9cbcf4"
      },
      "source": [
        "rng = np.random.RandomState(0)\n",
        "clf = Ridge(alpha=1.0)\n",
        "clf.fit(X_train, Y_train)"
      ],
      "execution_count": 93,
      "outputs": [
        {
          "output_type": "execute_result",
          "data": {
            "text/plain": [
              "Ridge(alpha=1.0, copy_X=True, fit_intercept=True, max_iter=None,\n",
              "      normalize=False, random_state=None, solver='auto', tol=0.001)"
            ]
          },
          "metadata": {
            "tags": []
          },
          "execution_count": 93
        }
      ]
    },
    {
      "cell_type": "code",
      "metadata": {
        "id": "j5XQk-88UB5Q",
        "colab_type": "code",
        "colab": {}
      },
      "source": [
        "pred = clf.predict(X_test)"
      ],
      "execution_count": 0,
      "outputs": []
    },
    {
      "cell_type": "code",
      "metadata": {
        "id": "gKcvEmvtTs13",
        "colab_type": "code",
        "colab": {
          "base_uri": "https://localhost:8080/",
          "height": 36
        },
        "outputId": "5a08f2fc-857c-4c76-e99b-b6edff352888"
      },
      "source": [
        "mse = mean_squared_error(Y_test,pred)\n",
        "print(\"RMSE: %.2f\" % np.sqrt(mse))"
      ],
      "execution_count": 95,
      "outputs": [
        {
          "output_type": "stream",
          "text": [
            "RMSE: 312.75\n"
          ],
          "name": "stdout"
        }
      ]
    },
    {
      "cell_type": "markdown",
      "metadata": {
        "id": "XL49588fOvmk",
        "colab_type": "text"
      },
      "source": [
        "## MLP"
      ]
    },
    {
      "cell_type": "code",
      "metadata": {
        "id": "o-M61M5kPikd",
        "colab_type": "code",
        "colab": {}
      },
      "source": [
        "from sklearn.neural_network import MLPRegressor"
      ],
      "execution_count": 0,
      "outputs": []
    },
    {
      "cell_type": "code",
      "metadata": {
        "id": "o4X9BrKYPlKj",
        "colab_type": "code",
        "colab": {}
      },
      "source": [
        "regr = MLPRegressor(random_state=1, max_iter=500).fit(X_train, Y_train)"
      ],
      "execution_count": 0,
      "outputs": []
    },
    {
      "cell_type": "code",
      "metadata": {
        "id": "qp1_uaeJPlPm",
        "colab_type": "code",
        "colab": {
          "base_uri": "https://localhost:8080/",
          "height": 54
        },
        "outputId": "f0d5b8fd-9635-42f4-dbb9-a2979aa7df36"
      },
      "source": [
        "pred = regr.predict(X_test)\n",
        "regr.predict(X_test)\n"
      ],
      "execution_count": 98,
      "outputs": [
        {
          "output_type": "execute_result",
          "data": {
            "text/plain": [
              "array([1200.89545264, 1324.37924424, 1365.76960766, ..., 1325.48351323,\n",
              "       1233.91542344, 1343.94131909])"
            ]
          },
          "metadata": {
            "tags": []
          },
          "execution_count": 98
        }
      ]
    },
    {
      "cell_type": "code",
      "metadata": {
        "id": "96B1KPNdPlU0",
        "colab_type": "code",
        "colab": {
          "base_uri": "https://localhost:8080/",
          "height": 36
        },
        "outputId": "9378a147-8624-4f5c-c417-317f232d05fe"
      },
      "source": [
        "regr.score(X_test, Y_test)"
      ],
      "execution_count": 99,
      "outputs": [
        {
          "output_type": "execute_result",
          "data": {
            "text/plain": [
              "0.19738681010335857"
            ]
          },
          "metadata": {
            "tags": []
          },
          "execution_count": 99
        }
      ]
    },
    {
      "cell_type": "code",
      "metadata": {
        "id": "GqK-WO71PlXo",
        "colab_type": "code",
        "colab": {
          "base_uri": "https://localhost:8080/",
          "height": 36
        },
        "outputId": "62d36a62-6f8c-45d9-cefa-eff9a395e696"
      },
      "source": [
        "mse = mean_squared_error(Y_test,pred)\n",
        "print(\"RMSE: %.2f\" % np.sqrt(mse))"
      ],
      "execution_count": 100,
      "outputs": [
        {
          "output_type": "stream",
          "text": [
            "RMSE: 299.96\n"
          ],
          "name": "stdout"
        }
      ]
    },
    {
      "cell_type": "markdown",
      "metadata": {
        "id": "cecsZT3wQoma",
        "colab_type": "text"
      },
      "source": [
        "## Decision Tree"
      ]
    },
    {
      "cell_type": "code",
      "metadata": {
        "id": "1hmC08zkQrSt",
        "colab_type": "code",
        "colab": {}
      },
      "source": [
        "from sklearn import tree\n",
        "clf = tree.DecisionTreeClassifier().fit(X_train, Y_train)"
      ],
      "execution_count": 0,
      "outputs": []
    },
    {
      "cell_type": "code",
      "metadata": {
        "id": "JhmjGyfGQ0u2",
        "colab_type": "code",
        "colab": {
          "base_uri": "https://localhost:8080/",
          "height": 36
        },
        "outputId": "1824593f-551c-47b5-addc-c351c9e7a852"
      },
      "source": [
        "pred = clf.predict(X_test)\n",
        "clf.predict(X_test)"
      ],
      "execution_count": 102,
      "outputs": [
        {
          "output_type": "execute_result",
          "data": {
            "text/plain": [
              "array([1086., 1308., 1783., ..., 1608., 1584., 1129.])"
            ]
          },
          "metadata": {
            "tags": []
          },
          "execution_count": 102
        }
      ]
    },
    {
      "cell_type": "code",
      "metadata": {
        "id": "QLqnywoZQ9ph",
        "colab_type": "code",
        "colab": {
          "base_uri": "https://localhost:8080/",
          "height": 36
        },
        "outputId": "23e3c20a-3d22-46b1-a1ec-b1e848c28d25"
      },
      "source": [
        "mse = mean_squared_error(Y_test,pred)\n",
        "print(\"RMSE: %.2f\" % np.sqrt(mse))"
      ],
      "execution_count": 103,
      "outputs": [
        {
          "output_type": "stream",
          "text": [
            "RMSE: 203.75\n"
          ],
          "name": "stdout"
        }
      ]
    },
    {
      "cell_type": "markdown",
      "metadata": {
        "id": "1iNwh6E8UnC2",
        "colab_type": "text"
      },
      "source": [
        "## Random Forest"
      ]
    },
    {
      "cell_type": "code",
      "metadata": {
        "id": "_N0-xxrjUpJ_",
        "colab_type": "code",
        "colab": {}
      },
      "source": [
        "from sklearn.ensemble import RandomForestClassifier\n",
        "\n",
        "clf = RandomForestClassifier(n_estimators=10)\n",
        "clf = clf.fit(X_train, Y_train)"
      ],
      "execution_count": 0,
      "outputs": []
    },
    {
      "cell_type": "code",
      "metadata": {
        "id": "PxOgjinhUuS4",
        "colab_type": "code",
        "colab": {
          "base_uri": "https://localhost:8080/",
          "height": 36
        },
        "outputId": "25a432f4-f017-4a4a-c039-f18ca67e417a"
      },
      "source": [
        "pred = clf.predict(X_test)\n",
        "clf.predict(X_test)"
      ],
      "execution_count": 105,
      "outputs": [
        {
          "output_type": "execute_result",
          "data": {
            "text/plain": [
              "array([1086., 1308.,  985., ..., 1127., 1584.,  872.])"
            ]
          },
          "metadata": {
            "tags": []
          },
          "execution_count": 105
        }
      ]
    },
    {
      "cell_type": "code",
      "metadata": {
        "id": "hxDGuVpeUuWL",
        "colab_type": "code",
        "colab": {
          "base_uri": "https://localhost:8080/",
          "height": 36
        },
        "outputId": "12a2267e-aa38-4c86-9b9a-96d299f469d2"
      },
      "source": [
        "mse = mean_squared_error(Y_test,pred)\n",
        "print(\"RMSE: %.2f\" % np.sqrt(mse))"
      ],
      "execution_count": 106,
      "outputs": [
        {
          "output_type": "stream",
          "text": [
            "RMSE: 210.14\n"
          ],
          "name": "stdout"
        }
      ]
    },
    {
      "cell_type": "markdown",
      "metadata": {
        "id": "fo3uwZj3SbNP",
        "colab_type": "text"
      },
      "source": [
        "## SVM"
      ]
    },
    {
      "cell_type": "code",
      "metadata": {
        "id": "rMI13AuzSctc",
        "colab_type": "code",
        "colab": {
          "base_uri": "https://localhost:8080/",
          "height": 54
        },
        "outputId": "f0a1613d-fc50-4476-8056-03fa880131ec"
      },
      "source": [
        "from sklearn import svm\n",
        "\n",
        "regr = svm.SVR()\n",
        "regr.fit(X_train, Y_train)"
      ],
      "execution_count": 107,
      "outputs": [
        {
          "output_type": "execute_result",
          "data": {
            "text/plain": [
              "SVR(C=1.0, cache_size=200, coef0=0.0, degree=3, epsilon=0.1, gamma='scale',\n",
              "    kernel='rbf', max_iter=-1, shrinking=True, tol=0.001, verbose=False)"
            ]
          },
          "metadata": {
            "tags": []
          },
          "execution_count": 107
        }
      ]
    },
    {
      "cell_type": "code",
      "metadata": {
        "id": "n-hHRBDQScwR",
        "colab_type": "code",
        "colab": {
          "base_uri": "https://localhost:8080/",
          "height": 54
        },
        "outputId": "52c6dbd4-71e9-45e4-9ff7-af32719bf404"
      },
      "source": [
        "pred = regr.predict(X_test)\n",
        "regr.predict(X_test)"
      ],
      "execution_count": 108,
      "outputs": [
        {
          "output_type": "execute_result",
          "data": {
            "text/plain": [
              "array([1177.96421907, 1182.96548049, 1195.05754996, ..., 1188.04096863,\n",
              "       1178.56000375, 1173.9831625 ])"
            ]
          },
          "metadata": {
            "tags": []
          },
          "execution_count": 108
        }
      ]
    },
    {
      "cell_type": "code",
      "metadata": {
        "id": "wYQQvS-4SqtX",
        "colab_type": "code",
        "colab": {
          "base_uri": "https://localhost:8080/",
          "height": 36
        },
        "outputId": "e7229aba-4cad-46a6-c644-a393fcf56358"
      },
      "source": [
        "mse = mean_squared_error(Y_test,pred)\n",
        "print(\"RMSE: %.2f\" % np.sqrt(mse))"
      ],
      "execution_count": 109,
      "outputs": [
        {
          "output_type": "stream",
          "text": [
            "RMSE: 341.84\n"
          ],
          "name": "stdout"
        }
      ]
    },
    {
      "cell_type": "markdown",
      "metadata": {
        "id": "u8iKnYP7NDCw",
        "colab_type": "text"
      },
      "source": [
        "## XGBoost"
      ]
    },
    {
      "cell_type": "code",
      "metadata": {
        "id": "GJgfLeyktf_8",
        "colab_type": "code",
        "colab": {}
      },
      "source": [
        "import xgboost as xgb\n",
        "\n",
        "dtrain = xgb.DMatrix(X_train, label=Y_train)\n",
        "dvalid = xgb.DMatrix(X_val, label=Y_val)\n",
        "watchlist = [(dtrain, 'train'), (dvalid, 'valid')]"
      ],
      "execution_count": 0,
      "outputs": []
    },
    {
      "cell_type": "code",
      "metadata": {
        "id": "AV6x0qrqu4eY",
        "colab_type": "code",
        "outputId": "7b42a915-9e26-41e2-9cdf-aa16822e3de9",
        "colab": {
          "base_uri": "https://localhost:8080/",
          "height": 1000
        }
      },
      "source": [
        "xgb_pars = {'min_child_weight': 1, 'eta': 0.5, 'colsample_bytree': 0.9, \n",
        "            'max_depth': 6,\n",
        "'subsample': 0.9, 'lambda': 1., 'nthread': -1, 'booster' : 'gbtree', 'silent': 1,\n",
        "'eval_metric': 'rmse', 'objective': 'reg:linear'}\n",
        "model = xgb.train(xgb_pars, dtrain, 700, watchlist, early_stopping_rounds=40,\n",
        "      maximize=False, verbose_eval=1)\n",
        "print('Modeling RMSE %.5f' % model.best_score)"
      ],
      "execution_count": 111,
      "outputs": [
        {
          "output_type": "stream",
          "text": [
            "[0]\ttrain-rmse:702.715\tvalid-rmse:694.298\n",
            "Multiple eval metrics have been passed: 'valid-rmse' will be used for early stopping.\n",
            "\n",
            "Will train until valid-rmse hasn't improved in 40 rounds.\n",
            "[1]\ttrain-rmse:436.334\tvalid-rmse:427.858\n",
            "[2]\ttrain-rmse:335.505\tvalid-rmse:327.207\n",
            "[3]\ttrain-rmse:297.194\tvalid-rmse:295.527\n",
            "[4]\ttrain-rmse:281.142\tvalid-rmse:281.938\n",
            "[5]\ttrain-rmse:274.508\tvalid-rmse:278.554\n",
            "[6]\ttrain-rmse:264.005\tvalid-rmse:276.573\n",
            "[7]\ttrain-rmse:260.299\tvalid-rmse:275.388\n",
            "[8]\ttrain-rmse:251.993\tvalid-rmse:273.61\n",
            "[9]\ttrain-rmse:250.127\tvalid-rmse:273.128\n",
            "[10]\ttrain-rmse:248.366\tvalid-rmse:271.808\n",
            "[11]\ttrain-rmse:244.805\tvalid-rmse:270.941\n",
            "[12]\ttrain-rmse:242.537\tvalid-rmse:270.798\n",
            "[13]\ttrain-rmse:241.38\tvalid-rmse:270.83\n",
            "[14]\ttrain-rmse:238.677\tvalid-rmse:270.011\n",
            "[15]\ttrain-rmse:233.384\tvalid-rmse:269.683\n",
            "[16]\ttrain-rmse:230.908\tvalid-rmse:269.767\n",
            "[17]\ttrain-rmse:225.92\tvalid-rmse:269.505\n",
            "[18]\ttrain-rmse:224.7\tvalid-rmse:269.133\n",
            "[19]\ttrain-rmse:223.407\tvalid-rmse:268.966\n",
            "[20]\ttrain-rmse:221.078\tvalid-rmse:268.008\n",
            "[21]\ttrain-rmse:219.696\tvalid-rmse:267.916\n",
            "[22]\ttrain-rmse:218.982\tvalid-rmse:267.947\n",
            "[23]\ttrain-rmse:217.97\tvalid-rmse:267.911\n",
            "[24]\ttrain-rmse:216.454\tvalid-rmse:267.733\n",
            "[25]\ttrain-rmse:214.89\tvalid-rmse:267.872\n",
            "[26]\ttrain-rmse:211.982\tvalid-rmse:267.993\n",
            "[27]\ttrain-rmse:210.717\tvalid-rmse:268.014\n",
            "[28]\ttrain-rmse:210.219\tvalid-rmse:268.091\n",
            "[29]\ttrain-rmse:208.712\tvalid-rmse:267.738\n",
            "[30]\ttrain-rmse:206.834\tvalid-rmse:267.257\n",
            "[31]\ttrain-rmse:205.968\tvalid-rmse:267.378\n",
            "[32]\ttrain-rmse:204.322\tvalid-rmse:267.384\n",
            "[33]\ttrain-rmse:203.334\tvalid-rmse:267.416\n",
            "[34]\ttrain-rmse:202.726\tvalid-rmse:267.411\n",
            "[35]\ttrain-rmse:202.277\tvalid-rmse:267.218\n",
            "[36]\ttrain-rmse:201.681\tvalid-rmse:267.221\n",
            "[37]\ttrain-rmse:200.317\tvalid-rmse:267.137\n",
            "[38]\ttrain-rmse:198.823\tvalid-rmse:266.835\n",
            "[39]\ttrain-rmse:198.32\tvalid-rmse:266.859\n",
            "[40]\ttrain-rmse:197.513\tvalid-rmse:266.96\n",
            "[41]\ttrain-rmse:196.617\tvalid-rmse:267.107\n",
            "[42]\ttrain-rmse:195.367\tvalid-rmse:266.673\n",
            "[43]\ttrain-rmse:194.609\tvalid-rmse:266.664\n",
            "[44]\ttrain-rmse:192.981\tvalid-rmse:267.227\n",
            "[45]\ttrain-rmse:191.705\tvalid-rmse:267.169\n",
            "[46]\ttrain-rmse:190.963\tvalid-rmse:267.234\n",
            "[47]\ttrain-rmse:190.235\tvalid-rmse:267.138\n",
            "[48]\ttrain-rmse:189.557\tvalid-rmse:267.212\n",
            "[49]\ttrain-rmse:188.094\tvalid-rmse:267.48\n",
            "[50]\ttrain-rmse:187.4\tvalid-rmse:267.369\n",
            "[51]\ttrain-rmse:186.295\tvalid-rmse:267.457\n",
            "[52]\ttrain-rmse:185.26\tvalid-rmse:267.513\n",
            "[53]\ttrain-rmse:184.633\tvalid-rmse:267.509\n",
            "[54]\ttrain-rmse:184.228\tvalid-rmse:267.362\n",
            "[55]\ttrain-rmse:183.893\tvalid-rmse:267.364\n",
            "[56]\ttrain-rmse:182.924\tvalid-rmse:267.287\n",
            "[57]\ttrain-rmse:182.218\tvalid-rmse:267.33\n",
            "[58]\ttrain-rmse:181.118\tvalid-rmse:267.661\n",
            "[59]\ttrain-rmse:180.025\tvalid-rmse:267.672\n",
            "[60]\ttrain-rmse:179.527\tvalid-rmse:267.83\n",
            "[61]\ttrain-rmse:178.21\tvalid-rmse:268.085\n",
            "[62]\ttrain-rmse:177.546\tvalid-rmse:268.032\n",
            "[63]\ttrain-rmse:176.994\tvalid-rmse:268.113\n",
            "[64]\ttrain-rmse:175.655\tvalid-rmse:268.097\n",
            "[65]\ttrain-rmse:174.849\tvalid-rmse:268.1\n",
            "[66]\ttrain-rmse:174.104\tvalid-rmse:268.093\n",
            "[67]\ttrain-rmse:173.605\tvalid-rmse:267.201\n",
            "[68]\ttrain-rmse:172.815\tvalid-rmse:267.136\n",
            "[69]\ttrain-rmse:172.017\tvalid-rmse:266.98\n",
            "[70]\ttrain-rmse:171.661\tvalid-rmse:267.118\n",
            "[71]\ttrain-rmse:170.89\tvalid-rmse:267.219\n",
            "[72]\ttrain-rmse:170.315\tvalid-rmse:267.273\n",
            "[73]\ttrain-rmse:169.774\tvalid-rmse:267.39\n",
            "[74]\ttrain-rmse:169.539\tvalid-rmse:267.36\n",
            "[75]\ttrain-rmse:169.445\tvalid-rmse:267.362\n",
            "[76]\ttrain-rmse:168.794\tvalid-rmse:267.455\n",
            "[77]\ttrain-rmse:167.892\tvalid-rmse:267.616\n",
            "[78]\ttrain-rmse:167.206\tvalid-rmse:267.62\n",
            "[79]\ttrain-rmse:166.31\tvalid-rmse:267.691\n",
            "[80]\ttrain-rmse:165.9\tvalid-rmse:267.677\n",
            "[81]\ttrain-rmse:165.516\tvalid-rmse:267.796\n",
            "[82]\ttrain-rmse:165.118\tvalid-rmse:267.819\n",
            "[83]\ttrain-rmse:164.48\tvalid-rmse:267.945\n",
            "Stopping. Best iteration:\n",
            "[43]\ttrain-rmse:194.609\tvalid-rmse:266.664\n",
            "\n",
            "Modeling RMSE 266.66367\n"
          ],
          "name": "stdout"
        }
      ]
    },
    {
      "cell_type": "code",
      "metadata": {
        "id": "Ocig9QiRzDMl",
        "colab_type": "code",
        "colab": {}
      },
      "source": [
        "dtest = xgb.DMatrix(X_test)\n"
      ],
      "execution_count": 0,
      "outputs": []
    },
    {
      "cell_type": "code",
      "metadata": {
        "id": "_gF1jl6wwCqX",
        "colab_type": "code",
        "outputId": "ae46f18f-0447-4725-8f1e-9f8985c1183f",
        "colab": {
          "base_uri": "https://localhost:8080/",
          "height": 314
        }
      },
      "source": [
        "xgb.plot_importance(model, max_num_features=20, height=0.7)"
      ],
      "execution_count": 113,
      "outputs": [
        {
          "output_type": "execute_result",
          "data": {
            "text/plain": [
              "<matplotlib.axes._subplots.AxesSubplot at 0x7ff0473ba550>"
            ]
          },
          "metadata": {
            "tags": []
          },
          "execution_count": 113
        },
        {
          "output_type": "display_data",
          "data": {
            "image/png": "[encoded data removed]",
            "text/plain": [
              "<Figure size 432x288 with 1 Axes>"
            ]
          },
          "metadata": {
            "tags": [],
            "needs_background": "light"
          }
        }
      ]
    },
    {
      "cell_type": "code",
      "metadata": {
        "id": "4xycD9Z1whYv",
        "colab_type": "code",
        "outputId": "105a68ed-0204-4ac2-dfd3-bfcf947eac8c",
        "colab": {
          "base_uri": "https://localhost:8080/",
          "height": 36
        }
      },
      "source": [
        "ypred = model.predict(dtest)\n",
        "mse = mean_squared_error(Y_test,ypred)\n",
        "print(\"RMSE: %.2f\" % np.sqrt(mse))"
      ],
      "execution_count": 114,
      "outputs": [
        {
          "output_type": "stream",
          "text": [
            "RMSE: 204.67\n"
          ],
          "name": "stdout"
        }
      ]
    },
    {
      "cell_type": "code",
      "metadata": {
        "id": "BGFO0KV1WInN",
        "colab_type": "code",
        "colab": {}
      },
      "source": [
        ""
      ],
      "execution_count": 0,
      "outputs": []
    }
  ]
}